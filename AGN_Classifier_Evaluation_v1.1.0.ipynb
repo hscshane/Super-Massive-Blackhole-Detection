{
 "cells": [
  {
   "cell_type": "markdown",
   "id": "3b577212",
   "metadata": {},
   "source": [
    "<h1> <center><font color='green' > <b>AGN Classifier for AGNDB</b></font> </center></h1>\n",
    "\n",
    "# Model Performance Evaluation\n",
    "by Sicong Huang <br> \\\n",
    "<font color='blue'>Python Version: 3.6.5 <br>\n",
    "AGNDB Version: 1.1.0"
   ]
  },
  {
   "cell_type": "markdown",
   "id": "156573fb",
   "metadata": {},
   "source": [
    "# THE QUESTION: <br><font color='green'>How to use ML methods to classify agn and non-agns?</font>"
   ]
  },
  {
   "cell_type": "markdown",
   "id": "5c741576",
   "metadata": {},
   "source": [
    "# Goal of Model Performance Evaluation\n",
    "<font color='green'>\n",
    "\n",
    "- Define metrics.\n",
    "- Evaluate model performance based on metrics.\n",
    "- Identify bias and variance problems if any.\n",
    "    \n",
    "    "
   ]
  },
  {
   "cell_type": "markdown",
   "id": "d41c2c33",
   "metadata": {},
   "source": [
    "# Import"
   ]
  },
  {
   "cell_type": "code",
   "execution_count": 1,
   "id": "bd521ffa",
   "metadata": {},
   "outputs": [],
   "source": [
    "# System\n",
    "import os\n",
    "import glob\n",
    "from tqdm import tqdm\n",
    "from IPython.display import Markdown, display, Audio\n",
    "\n",
    "# Web Scraping\n",
    "\n",
    "# Data Analysis\n",
    "import pandas as pd\n",
    "import numpy as np\n",
    "\n",
    "# Machine Learning\n",
    "from scipy import stats\n",
    "import sklearn\n",
    "import joblib\n",
    "from sklearn.metrics import balanced_accuracy_score\n",
    "from sklearn.metrics import f1_score, precision_score, recall_score\n",
    "from sklearn.metrics import log_loss\n",
    "from sklearn.metrics import classification_report\n",
    "from sklearn.metrics import confusion_matrix\n",
    "from sklearn.metrics import plot_confusion_matrix\n",
    "from sklearn.metrics import roc_curve, roc_auc_score\n",
    "from sklearn.model_selection import GridSearchCV, StratifiedKFold\n",
    "from tensorflow import keras\n",
    "import keras.backend as K\n",
    "\n",
    "# Data Visualization\n",
    "import matplotlib.pyplot as plt\n",
    "from matplotlib.pyplot import imshow\n",
    "import seaborn as sns\n",
    "\n",
    "pd.options.display.float_format = '{:,.2f}'.format\n",
    "%matplotlib inline"
   ]
  },
  {
   "cell_type": "markdown",
   "id": "96d8c9da",
   "metadata": {},
   "source": [
    "# Functions"
   ]
  },
  {
   "cell_type": "code",
   "execution_count": 2,
   "id": "7e29346a",
   "metadata": {},
   "outputs": [],
   "source": [
    "def sound_effect(fail=0):\n",
    "    \"\"\"\n",
    "    Play a sound when job is finished\n",
    "    \"\"\"\n",
    "    if fail == 0:\n",
    "        sound_file = '/data/home/sicong/sounds/jobs-done_1.mp3'\n",
    "        display(Audio(sound_file, autoplay=True))\n",
    "    else:\n",
    "        sound_file = '/data/home/sicong/sounds/oh-shit-im-sorry_0001.mp3'\n",
    "        display(Audio(sound_file, autoplay=True))"
   ]
  },
  {
   "cell_type": "code",
   "execution_count": 3,
   "id": "ef26d507",
   "metadata": {},
   "outputs": [],
   "source": [
    "def printmd(string):\n",
    "    \"\"\"\n",
    "    print in markdown style\n",
    "    \"\"\"\n",
    "    display(Markdown(string))"
   ]
  },
  {
   "cell_type": "code",
   "execution_count": 4,
   "id": "4ee5c6f3",
   "metadata": {},
   "outputs": [],
   "source": [
    "def conf_matrix(y_test, pred_test):    \n",
    "    \n",
    "    # Creating a confusion matrix\n",
    "    con_mat = confusion_matrix(y_test, pred_test)\n",
    "    con_mat = pd.DataFrame(con_mat, range(2), range(2))\n",
    "   \n",
    "    #Ploting the confusion matrix\n",
    "    plt.figure(figsize=(3,3))\n",
    "    sns.set(font_scale=1.5) \n",
    "    ax = sns.heatmap(con_mat, annot=True, annot_kws={\"size\": 16}, fmt='g', cmap='Blues', cbar=False)\n",
    "    ax.set(xlabel='Predicted Values', ylabel='Actual Value')\n",
    "    plt.show()\n",
    "    "
   ]
  },
  {
   "cell_type": "markdown",
   "id": "0415eab3",
   "metadata": {},
   "source": [
    "# Read train/dev/test sets"
   ]
  },
  {
   "cell_type": "code",
   "execution_count": 5,
   "id": "470944a8",
   "metadata": {},
   "outputs": [],
   "source": [
    "df_train = pd.read_pickle('agncl_train.pkl')\n",
    "df_dev = pd.read_pickle('agncl_dev.pkl')"
   ]
  },
  {
   "cell_type": "code",
   "execution_count": 6,
   "id": "a06adc8b",
   "metadata": {},
   "outputs": [],
   "source": [
    "# True lables\n",
    "y_train = np.array(df_train['AGN'])\n",
    "\n",
    "y_dev = np.array(df_dev['AGN'])"
   ]
  },
  {
   "cell_type": "markdown",
   "id": "f1eccf57",
   "metadata": {},
   "source": [
    "# Read results"
   ]
  },
  {
   "cell_type": "code",
   "execution_count": 7,
   "id": "f2e2ccba",
   "metadata": {},
   "outputs": [],
   "source": [
    "# Logestic Regression\n",
    "%store -r yhat_train_lr\n",
    "%store -r yhat_dev_lr\n",
    "%store -r yhat_train_prob_lr\n",
    "%store -r yhat_dev_prob_lr\n",
    "\n",
    "\n",
    "# Decision Tree\n",
    "%store -r yhat_train_Tree\n",
    "%store -r yhat_dev_Tree\n",
    "%store -r yhat_train_prob_Tree\n",
    "%store -r yhat_dev_prob_Tree\n",
    "\n",
    "\n",
    "# KNN\n",
    "%store -r yhat_train_knn\n",
    "%store -r yhat_dev_knn\n",
    "%store -r yhat_train_prob_knn\n",
    "%store -r yhat_dev_prob_knn\n",
    "\n",
    "\n",
    "# CNN\n",
    "%store -r yhat_train_cnn\n",
    "%store -r yhat_dev_cnn\n",
    "%store -r yhat_dev_prob_cnn\n",
    "%store -r yhat_train_prob_cnn\n"
   ]
  },
  {
   "cell_type": "markdown",
   "id": "eeb14788",
   "metadata": {},
   "source": [
    "# Model Evaluation"
   ]
  },
  {
   "cell_type": "markdown",
   "id": "bea2e803",
   "metadata": {},
   "source": [
    "## Metrics\n",
    "Accuracy is used when the True Positives and True negatives are more important while F1-score is used when the False Negatives and False Positives are crucial"
   ]
  },
  {
   "cell_type": "markdown",
   "id": "bafa81ee",
   "metadata": {},
   "source": [
    "- <font color='green'>AGN completeness (True Positive Rate/recall) </font>: \n",
    "    - TP/(TP+FN)\n",
    "    - measures the proportion of AGN that are correctly identified\n",
    "- <font color='green'>non-AGN completeness (True Negative Rate/Specificity)</font>: \n",
    "    - TN/(TN+FP)\n",
    "    - measures the proportion of non-AGN that are correctly identified\n",
    "- <font color='green'>F1 score (Major Metric)</font>: \n",
    "    - The F1 score is the harmonic average of the precision and recall, where an F1 score reaches its best value at 1 (perfect precision and recall) and worst at 0. It is a good way to show that a classifer has a good value for both recall and precision.\n",
    "    - We use the weighted average of the F1-score for both labels, with average='weighted'. This favors the major class.\n",
    "    - This metric is what we use in cross-validation and grid search.\n",
    "- <font color='green'>Balanced Accuracy</font>: \n",
    "    - The balanced accuracy in binary and multiclass classification problems to deal with imbalanced datasets. It is defined as the average of recall obtained on each class.\n",
    "    - It is defined as 0.5x(Recall+Sensitivity)\n",
    "- <font color='green'>ROC AUC</font>\n"
   ]
  },
  {
   "cell_type": "markdown",
   "id": "e202805d",
   "metadata": {},
   "source": [
    "### Evaluate on Validation Set"
   ]
  },
  {
   "cell_type": "code",
   "execution_count": 8,
   "id": "a6f6b498",
   "metadata": {},
   "outputs": [],
   "source": [
    "# LogisticRegression\n",
    "f1_dev_lr = f1_score(y_dev, yhat_dev_lr, average='weighted')\n",
    "recall_dev_lr = recall_score(y_dev, yhat_dev_lr)\n",
    "spec_dev_lr = recall_score(y_dev, yhat_dev_lr, pos_label=0)\n",
    "acc_dev_lr = balanced_accuracy_score(y_dev, yhat_dev_lr)\n",
    "auc_dev_lr = roc_auc_score(y_dev, yhat_dev_lr, average='weighted')\n",
    "\n",
    "# KNN\n",
    "f1_dev_knn = f1_score(y_dev, yhat_dev_knn, average='weighted')\n",
    "recall_dev_knn = recall_score(y_dev, yhat_dev_knn)\n",
    "spec_dev_knn = recall_score(y_dev, yhat_dev_knn, pos_label=0)\n",
    "acc_dev_knn = balanced_accuracy_score(y_dev, yhat_dev_knn)\n",
    "auc_dev_knn = roc_auc_score(y_dev, yhat_dev_knn, average='weighted')\n",
    "\n",
    "# Decision Tree\n",
    "f1_dev_Tree = f1_score(y_dev, yhat_dev_Tree, average='weighted')\n",
    "recall_dev_Tree = recall_score(y_dev, yhat_dev_Tree)\n",
    "spec_dev_Tree = recall_score(y_dev, yhat_dev_Tree, pos_label=0)\n",
    "acc_dev_Tree = balanced_accuracy_score(y_dev, yhat_dev_Tree)\n",
    "auc_dev_Tree = roc_auc_score(y_dev, yhat_dev_Tree, average='weighted')\n",
    "\n",
    "# SVM\n",
    "# f1_dev_svm = f1_score(y_dev, yhat_svm, average='weighted')\n",
    "# recall_dev_svm = recall_score(y_dev, yhat_svm)\n",
    "# spec_dev_svm = recall_score(y_dev, yhat_svm, pos_label=0)\n",
    "# acc_dev_svm = balanced_accuracy_score(y_dev, yhat_svm)\n",
    "# auc_dev_svm = roc_auc_score(y_dev, yhat_svm, average='weighted')\n",
    "\n",
    "# AGN_NN\n",
    "f1_dev_cnn = f1_score(y_dev, yhat_dev_cnn, average='weighted')\n",
    "recall_dev_cnn = recall_score(y_dev, yhat_dev_cnn)\n",
    "spec_dev_cnn = recall_score(y_dev, yhat_dev_cnn, pos_label=0)\n",
    "acc_dev_cnn = balanced_accuracy_score(y_dev, yhat_dev_cnn)\n",
    "auc_dev_cnn = roc_auc_score(y_dev, yhat_dev_cnn, average='weighted')"
   ]
  },
  {
   "cell_type": "markdown",
   "id": "d79d88fd",
   "metadata": {},
   "source": [
    "### Evaluate on Training Set"
   ]
  },
  {
   "cell_type": "code",
   "execution_count": 9,
   "id": "59aa2fba",
   "metadata": {},
   "outputs": [],
   "source": [
    "# LogisticRegression\n",
    "f1_train_lr = f1_score(y_train, yhat_train_lr, average='weighted')\n",
    "recall_train_lr = recall_score(y_train, yhat_train_lr)\n",
    "spec_train_lr = recall_score(y_train, yhat_train_lr, pos_label=0)\n",
    "acc_train_lr = balanced_accuracy_score(y_train, yhat_train_lr)\n",
    "auc_train_lr = roc_auc_score(y_train, yhat_train_lr, average='weighted')\n",
    "\n",
    "# KNN\n",
    "f1_train_knn = f1_score(y_train, yhat_train_knn, average='weighted')\n",
    "recall_train_knn = recall_score(y_train, yhat_train_knn)\n",
    "spec_train_knn = recall_score(y_train, yhat_train_knn, pos_label=0)\n",
    "acc_train_knn = balanced_accuracy_score(y_train, yhat_train_knn)\n",
    "auc_train_knn = roc_auc_score(y_train, yhat_train_knn, average='weighted')\n",
    "\n",
    "# Decision Tree\n",
    "f1_train_Tree = f1_score(y_train, yhat_train_Tree, average='weighted')\n",
    "recall_train_Tree = recall_score(y_train, yhat_train_Tree)\n",
    "spec_train_Tree = recall_score(y_train, yhat_train_Tree, pos_label=0)\n",
    "acc_train_Tree = balanced_accuracy_score(y_train, yhat_train_Tree)\n",
    "auc_train_Tree = roc_auc_score(y_train, yhat_train_Tree, average='weighted')\n",
    "\n",
    "# SVM\n",
    "# f1_dev_svm = f1_score(y_dev, yhat_svm, average='weighted')\n",
    "# recall_dev_svm = recall_score(y_dev, yhat_svm)\n",
    "# spec_dev_svm = recall_score(y_dev, yhat_svm, pos_label=0)\n",
    "# acc_dev_svm = balanced_accuracy_score(y_dev, yhat_svm)\n",
    "# auc_dev_svm = roc_auc_score(y_dev, yhat_svm, average='weighted')\n",
    "\n",
    "# AGN_NN\n",
    "f1_train_cnn = f1_score(y_train, yhat_train_cnn, average='weighted')\n",
    "recall_train_cnn = recall_score(y_train, yhat_train_cnn)\n",
    "spec_train_cnn = recall_score(y_train, yhat_train_cnn, pos_label=0)\n",
    "acc_train_cnn = balanced_accuracy_score(y_train, yhat_train_cnn)\n",
    "auc_train_cnn = roc_auc_score(y_train, yhat_train_cnn, average='weighted')"
   ]
  },
  {
   "cell_type": "code",
   "execution_count": 10,
   "id": "4c5e00e9",
   "metadata": {},
   "outputs": [],
   "source": [
    "metric_data = np.array((['Logistic Regression', 'Train', recall_train_lr, spec_train_lr, f1_train_lr, acc_train_lr, 1-acc_train_lr, auc_train_lr],\n",
    "                        ['Logistic Regression', 'Validation', recall_dev_lr, spec_dev_lr, f1_dev_lr, acc_dev_lr, 1-acc_dev_lr, auc_dev_lr],\n",
    "                        ['Decision Tree', 'Train', recall_train_Tree, spec_train_Tree, f1_train_Tree, acc_train_Tree, 1-acc_train_Tree, auc_train_Tree],\n",
    "                        ['Decision Tree', 'Validation', recall_dev_Tree, spec_dev_Tree, f1_dev_Tree, acc_dev_Tree, 1-acc_dev_Tree, auc_dev_Tree],\n",
    "                        ['KNN', 'Train', recall_train_knn, spec_train_knn, f1_train_knn, acc_train_knn, 1-acc_train_knn, auc_train_knn],\n",
    "                        ['KNN', 'Validation', recall_dev_knn, spec_dev_knn, f1_dev_knn, acc_dev_knn, 1-acc_dev_knn, auc_dev_knn],\n",
    "                        ['Neural Network', 'Train', recall_train_cnn, spec_train_cnn, f1_train_cnn, acc_train_cnn, 1-acc_train_cnn, auc_train_cnn],\n",
    "                        ['Neural Network', 'Validation',recall_dev_cnn, spec_dev_cnn, f1_dev_cnn, acc_dev_cnn, 1-acc_dev_cnn, auc_dev_cnn]))\n",
    "\n",
    "df_scores = pd.DataFrame(metric_data, \n",
    "            columns=['Algorithm', 'Set', 'AGN completeness', 'non-AGN completeness', \n",
    "                     'F1-score', 'Balanced Accuracy', 'Accuracy Error', 'ROC AUC'])\n",
    "for col in df_scores.columns.values:\n",
    "    if col != 'Algorithm' and col != 'Set':\n",
    "        df_scores[col] = df_scores[col].astype(float)"
   ]
  },
  {
   "cell_type": "code",
   "execution_count": 11,
   "id": "a2a33e0a",
   "metadata": {},
   "outputs": [],
   "source": [
    "df_scores.to_csv('./results/scores.csv', index=False)"
   ]
  },
  {
   "cell_type": "code",
   "execution_count": 12,
   "id": "082c8be4",
   "metadata": {},
   "outputs": [],
   "source": [
    "df_scores = pd.read_csv('./results/scores.csv')"
   ]
  },
  {
   "cell_type": "code",
   "execution_count": 13,
   "id": "e5a86361",
   "metadata": {},
   "outputs": [
    {
     "data": {
      "text/html": [
       "<div>\n",
       "<style scoped>\n",
       "    .dataframe tbody tr th:only-of-type {\n",
       "        vertical-align: middle;\n",
       "    }\n",
       "\n",
       "    .dataframe tbody tr th {\n",
       "        vertical-align: top;\n",
       "    }\n",
       "\n",
       "    .dataframe thead th {\n",
       "        text-align: right;\n",
       "    }\n",
       "</style>\n",
       "<table border=\"1\" class=\"dataframe\">\n",
       "  <thead>\n",
       "    <tr style=\"text-align: right;\">\n",
       "      <th></th>\n",
       "      <th>Algorithm</th>\n",
       "      <th>Set</th>\n",
       "      <th>AGN completeness</th>\n",
       "      <th>non-AGN completeness</th>\n",
       "      <th>F1-score</th>\n",
       "      <th>Balanced Accuracy</th>\n",
       "      <th>Accuracy Error</th>\n",
       "      <th>ROC AUC</th>\n",
       "    </tr>\n",
       "  </thead>\n",
       "  <tbody>\n",
       "    <tr>\n",
       "      <th>0</th>\n",
       "      <td>Logistic Regression</td>\n",
       "      <td>Train</td>\n",
       "      <td>0.74</td>\n",
       "      <td>0.77</td>\n",
       "      <td>0.75</td>\n",
       "      <td>0.75</td>\n",
       "      <td>0.25</td>\n",
       "      <td>0.75</td>\n",
       "    </tr>\n",
       "    <tr>\n",
       "      <th>1</th>\n",
       "      <td>Logistic Regression</td>\n",
       "      <td>Validation</td>\n",
       "      <td>0.75</td>\n",
       "      <td>0.76</td>\n",
       "      <td>0.75</td>\n",
       "      <td>0.75</td>\n",
       "      <td>0.25</td>\n",
       "      <td>0.75</td>\n",
       "    </tr>\n",
       "    <tr>\n",
       "      <th>2</th>\n",
       "      <td>Decision Tree</td>\n",
       "      <td>Train</td>\n",
       "      <td>0.77</td>\n",
       "      <td>0.83</td>\n",
       "      <td>0.80</td>\n",
       "      <td>0.80</td>\n",
       "      <td>0.20</td>\n",
       "      <td>0.80</td>\n",
       "    </tr>\n",
       "    <tr>\n",
       "      <th>3</th>\n",
       "      <td>Decision Tree</td>\n",
       "      <td>Validation</td>\n",
       "      <td>0.79</td>\n",
       "      <td>0.80</td>\n",
       "      <td>0.80</td>\n",
       "      <td>0.80</td>\n",
       "      <td>0.20</td>\n",
       "      <td>0.80</td>\n",
       "    </tr>\n",
       "    <tr>\n",
       "      <th>4</th>\n",
       "      <td>KNN</td>\n",
       "      <td>Train</td>\n",
       "      <td>0.78</td>\n",
       "      <td>0.89</td>\n",
       "      <td>0.83</td>\n",
       "      <td>0.83</td>\n",
       "      <td>0.17</td>\n",
       "      <td>0.83</td>\n",
       "    </tr>\n",
       "    <tr>\n",
       "      <th>5</th>\n",
       "      <td>KNN</td>\n",
       "      <td>Validation</td>\n",
       "      <td>0.77</td>\n",
       "      <td>0.86</td>\n",
       "      <td>0.81</td>\n",
       "      <td>0.81</td>\n",
       "      <td>0.19</td>\n",
       "      <td>0.81</td>\n",
       "    </tr>\n",
       "    <tr>\n",
       "      <th>6</th>\n",
       "      <td>Neural Network</td>\n",
       "      <td>Train</td>\n",
       "      <td>0.97</td>\n",
       "      <td>0.95</td>\n",
       "      <td>0.96</td>\n",
       "      <td>0.96</td>\n",
       "      <td>0.04</td>\n",
       "      <td>0.96</td>\n",
       "    </tr>\n",
       "    <tr>\n",
       "      <th>7</th>\n",
       "      <td>Neural Network</td>\n",
       "      <td>Validation</td>\n",
       "      <td>0.81</td>\n",
       "      <td>0.65</td>\n",
       "      <td>0.72</td>\n",
       "      <td>0.73</td>\n",
       "      <td>0.27</td>\n",
       "      <td>0.73</td>\n",
       "    </tr>\n",
       "  </tbody>\n",
       "</table>\n",
       "</div>"
      ],
      "text/plain": [
       "             Algorithm         Set  AGN completeness  non-AGN completeness  \\\n",
       "0  Logistic Regression       Train              0.74                  0.77   \n",
       "1  Logistic Regression  Validation              0.75                  0.76   \n",
       "2        Decision Tree       Train              0.77                  0.83   \n",
       "3        Decision Tree  Validation              0.79                  0.80   \n",
       "4                  KNN       Train              0.78                  0.89   \n",
       "5                  KNN  Validation              0.77                  0.86   \n",
       "6       Neural Network       Train              0.97                  0.95   \n",
       "7       Neural Network  Validation              0.81                  0.65   \n",
       "\n",
       "   F1-score  Balanced Accuracy  Accuracy Error  ROC AUC  \n",
       "0      0.75               0.75            0.25     0.75  \n",
       "1      0.75               0.75            0.25     0.75  \n",
       "2      0.80               0.80            0.20     0.80  \n",
       "3      0.80               0.80            0.20     0.80  \n",
       "4      0.83               0.83            0.17     0.83  \n",
       "5      0.81               0.81            0.19     0.81  \n",
       "6      0.96               0.96            0.04     0.96  \n",
       "7      0.72               0.73            0.27     0.73  "
      ]
     },
     "execution_count": 13,
     "metadata": {},
     "output_type": "execute_result"
    }
   ],
   "source": [
    "df_scores"
   ]
  },
  {
   "cell_type": "markdown",
   "id": "5adc4749",
   "metadata": {},
   "source": [
    "## Confusion Matrix"
   ]
  },
  {
   "cell_type": "code",
   "execution_count": 14,
   "id": "c0f91974",
   "metadata": {},
   "outputs": [
    {
     "data": {
      "image/png": "[encoded data removed]",
      "text/plain": [
       "<Figure size 576x576 with 4 Axes>"
      ]
     },
     "metadata": {
      "needs_background": "light"
     },
     "output_type": "display_data"
    }
   ],
   "source": [
    "figure, axes = plt.subplots(nrows=2, ncols=2, sharex=True, sharey=True, figsize=(8,8))\n",
    "con_mat = confusion_matrix(y_dev,yhat_dev_lr)    \n",
    "sns.heatmap(con_mat, annot=True, annot_kws={\"size\": 16}, fmt='g', cmap='Blues', cbar=False, ax=axes[0, 0])\n",
    "con_mat = confusion_matrix(y_dev,yhat_dev_Tree) \n",
    "sns.heatmap(con_mat, annot=True, annot_kws={\"size\": 16}, fmt='g', cmap='Blues', cbar=False, ax=axes[0, 1])\n",
    "con_mat = confusion_matrix(y_dev,yhat_dev_knn) \n",
    "sns.heatmap(con_mat, annot=True, annot_kws={\"size\": 16}, fmt='g', cmap='Blues', cbar=False, ax=axes[1, 0])\n",
    "con_mat = confusion_matrix(y_dev,yhat_dev_cnn) \n",
    "sns.heatmap(con_mat, annot=True, annot_kws={\"size\": 16}, fmt='g', cmap='Blues', cbar=False, ax=axes[1, 1])\n",
    "\n",
    "axes[0, 0].set( ylabel='Actual Value')\n",
    "axes[1, 0].set(xlabel='Predicted Values', ylabel='Actual Value')\n",
    "axes[1, 1].set(xlabel='Predicted Values')\n",
    "\n",
    "\n",
    "axes[0, 0].set_title(\"Logistic Regression\")\n",
    "axes[0, 1].set_title(\"Decision Tree\")\n",
    "axes[1, 0].set_title(\"KNN\")\n",
    "axes[1, 1].set_title(\"Neural Network\")\n",
    "plt.savefig('./results/Confusion_matrix.pdf',dpi=300)\n",
    "plt.show()"
   ]
  },
  {
   "cell_type": "markdown",
   "id": "af59a57f",
   "metadata": {},
   "source": [
    "### ROC Curve\n",
    "see https://abdalimran.github.io/2019-06-01/Drawing-multiple-ROC-Curves-in-a-single-plot"
   ]
  },
  {
   "cell_type": "code",
   "execution_count": 15,
   "id": "ae37c111",
   "metadata": {},
   "outputs": [],
   "source": [
    "result_table = pd.DataFrame(columns=['classifiers', 'fpr','tpr','auc'])\n",
    "for name, y_hat in {'Logistic Regression':yhat_dev_prob_lr[:,1], \n",
    "              'Decision Tree':yhat_dev_prob_Tree[:,1], \n",
    "              'KNN':yhat_dev_prob_knn[:,1], \n",
    "              'Neural Network':yhat_dev_prob_cnn}.items():\n",
    "    fpr, tpr, _ = roc_curve(y_dev,  y_hat)\n",
    "    auc = roc_auc_score(y_dev, y_hat)\n",
    "    result_table = result_table.append({'classifiers':name,\n",
    "                                        'fpr':fpr, \n",
    "                                        'tpr':tpr, \n",
    "                                        'auc':auc}, ignore_index=True)"
   ]
  },
  {
   "cell_type": "code",
   "execution_count": 16,
   "id": "47e74f66",
   "metadata": {},
   "outputs": [
    {
     "data": {
      "image/png": "[encoded data removed]",
      "text/plain": [
       "<Figure size 576x432 with 1 Axes>"
      ]
     },
     "metadata": {
      "needs_background": "light"
     },
     "output_type": "display_data"
    }
   ],
   "source": [
    "fig = plt.figure(figsize=(8,6))\n",
    "\n",
    "for i in result_table.index:\n",
    "    plt.plot(result_table.loc[i]['fpr'], \n",
    "             result_table.loc[i]['tpr'], \n",
    "             label=\"{}, AUC={:.3f}\".format(result_table.loc[i]['classifiers'], result_table.loc[i]['auc']))\n",
    "    \n",
    "plt.plot([0,1], [0,1], color='orange', linestyle='--', label=\"Random Guess, AUC=0.5\")\n",
    "\n",
    "plt.xticks(np.arange(0.0, 1.1, step=0.1))\n",
    "plt.xlabel(\"Flase Positive Rate\", fontsize=15)\n",
    "\n",
    "plt.yticks(np.arange(0.0, 1.1, step=0.1))\n",
    "plt.ylabel(\"True Positive Rate\", fontsize=15)\n",
    "\n",
    "plt.title('ROC Curve Analysis', fontweight='bold', fontsize=15)\n",
    "plt.legend(prop={'size':13}, loc='lower right')\n",
    "\n",
    "plt.savefig('./results/ROC.pdf',dpi=300)\n",
    "plt.show()"
   ]
  },
  {
   "cell_type": "code",
   "execution_count": 17,
   "id": "656826a0",
   "metadata": {},
   "outputs": [
    {
     "data": {
      "text/html": [
       "<div>\n",
       "<style scoped>\n",
       "    .dataframe tbody tr th:only-of-type {\n",
       "        vertical-align: middle;\n",
       "    }\n",
       "\n",
       "    .dataframe tbody tr th {\n",
       "        vertical-align: top;\n",
       "    }\n",
       "\n",
       "    .dataframe thead th {\n",
       "        text-align: right;\n",
       "    }\n",
       "</style>\n",
       "<table border=\"1\" class=\"dataframe\">\n",
       "  <thead>\n",
       "    <tr style=\"text-align: right;\">\n",
       "      <th></th>\n",
       "      <th>classifiers</th>\n",
       "      <th>fpr</th>\n",
       "      <th>tpr</th>\n",
       "      <th>auc</th>\n",
       "    </tr>\n",
       "  </thead>\n",
       "  <tbody>\n",
       "    <tr>\n",
       "      <th>0</th>\n",
       "      <td>Logistic Regression</td>\n",
       "      <td>[0.0, 0.0, 0.0, 0.0005040322580645161, 0.00050...</td>\n",
       "      <td>[0.0, 0.0005274261603375527, 0.047468354430379...</td>\n",
       "      <td>0.83</td>\n",
       "    </tr>\n",
       "    <tr>\n",
       "      <th>1</th>\n",
       "      <td>Decision Tree</td>\n",
       "      <td>[0.0, 0.0030241935483870967, 0.009576612903225...</td>\n",
       "      <td>[0.0, 0.0379746835443038, 0.3697257383966245, ...</td>\n",
       "      <td>0.83</td>\n",
       "    </tr>\n",
       "    <tr>\n",
       "      <th>2</th>\n",
       "      <td>KNN</td>\n",
       "      <td>[0.0, 0.009576612903225807, 0.0257056451612903...</td>\n",
       "      <td>[0.0, 0.40031645569620256, 0.5295358649789029,...</td>\n",
       "      <td>0.88</td>\n",
       "    </tr>\n",
       "    <tr>\n",
       "      <th>3</th>\n",
       "      <td>Neural Network</td>\n",
       "      <td>[0.0, 0.037298387096774195, 0.0393145161290322...</td>\n",
       "      <td>[0.0, 0.48628691983122363, 0.4873417721518987,...</td>\n",
       "      <td>0.82</td>\n",
       "    </tr>\n",
       "  </tbody>\n",
       "</table>\n",
       "</div>"
      ],
      "text/plain": [
       "           classifiers                                                fpr  \\\n",
       "0  Logistic Regression  [0.0, 0.0, 0.0, 0.0005040322580645161, 0.00050...   \n",
       "1        Decision Tree  [0.0, 0.0030241935483870967, 0.009576612903225...   \n",
       "2                  KNN  [0.0, 0.009576612903225807, 0.0257056451612903...   \n",
       "3       Neural Network  [0.0, 0.037298387096774195, 0.0393145161290322...   \n",
       "\n",
       "                                                 tpr  auc  \n",
       "0  [0.0, 0.0005274261603375527, 0.047468354430379... 0.83  \n",
       "1  [0.0, 0.0379746835443038, 0.3697257383966245, ... 0.83  \n",
       "2  [0.0, 0.40031645569620256, 0.5295358649789029,... 0.88  \n",
       "3  [0.0, 0.48628691983122363, 0.4873417721518987,... 0.82  "
      ]
     },
     "execution_count": 17,
     "metadata": {},
     "output_type": "execute_result"
    }
   ],
   "source": [
    "result_table"
   ]
  },
  {
   "cell_type": "markdown",
   "id": "7a94943a",
   "metadata": {},
   "source": [
    "# Performance on test set"
   ]
  },
  {
   "cell_type": "markdown",
   "id": "788c2e38",
   "metadata": {},
   "source": [
    "## Read test set"
   ]
  },
  {
   "cell_type": "code",
   "execution_count": 18,
   "id": "b46430bd",
   "metadata": {},
   "outputs": [
    {
     "name": "stdout",
     "output_type": "stream",
     "text": [
      "Testing set size: (11485, 29)\n"
     ]
    }
   ],
   "source": [
    "df_test = pd.read_pickle('agncl_test.pkl')\n",
    "print(f'Testing set size: {df_test.shape}')"
   ]
  },
  {
   "cell_type": "code",
   "execution_count": 20,
   "id": "c7f3fed7",
   "metadata": {},
   "outputs": [],
   "source": [
    "features = list(set(df_test.columns) - {'best_class','AGN','RA','DEC'})\n",
    "x_test = np.array(df_test[features])\n",
    "# normalize\n",
    "x_test = (x_test - x_test.mean(axis=0)) / (x_test.std(axis=0))\n",
    "# reshape for cnn\n",
    "x_test_nn = x_test.reshape(-1,26,1,1)"
   ]
  },
  {
   "cell_type": "markdown",
   "id": "9135d70e",
   "metadata": {},
   "source": [
    "## Load models"
   ]
  },
  {
   "cell_type": "code",
   "execution_count": 21,
   "id": "ec4a6d09",
   "metadata": {},
   "outputs": [],
   "source": [
    "# logestic regression\n",
    "joblib_file = \"LR_Model.pkl\"  \n",
    "lr = joblib.load(joblib_file)\n",
    "\n",
    "# Decesion Tree\n",
    "joblib_file = \"Tree_Model.pkl\"  \n",
    "Tree = joblib.load(joblib_file)\n",
    "\n",
    "# KNN\n",
    "joblib_file = \"KNN_Model.pkl\"  \n",
    "knn = joblib.load(joblib_file)\n",
    "\n",
    "# CNN\n",
    "agn_NN = keras.models.load_model('agn_NN.pd')"
   ]
  },
  {
   "cell_type": "markdown",
   "id": "3e5558b5",
   "metadata": {},
   "source": [
    "## Predict"
   ]
  },
  {
   "cell_type": "code",
   "execution_count": 22,
   "id": "3f66a4ad",
   "metadata": {},
   "outputs": [
    {
     "name": "stdout",
     "output_type": "stream",
     "text": [
      "CPU times: user 88.3 ms, sys: 227 ms, total: 316 ms\n",
      "Wall time: 15.8 ms\n"
     ]
    }
   ],
   "source": [
    "%%time\n",
    "yhat_test_lr = lr.predict(x_test)"
   ]
  },
  {
   "cell_type": "code",
   "execution_count": 23,
   "id": "16f41038",
   "metadata": {},
   "outputs": [
    {
     "name": "stdout",
     "output_type": "stream",
     "text": [
      "CPU times: user 3.35 ms, sys: 464 µs, total: 3.82 ms\n",
      "Wall time: 2.75 ms\n"
     ]
    }
   ],
   "source": [
    "%%time\n",
    "yhat_test_Tree = Tree.predict(x_test)"
   ]
  },
  {
   "cell_type": "code",
   "execution_count": 24,
   "id": "c05a5ec0",
   "metadata": {},
   "outputs": [
    {
     "name": "stdout",
     "output_type": "stream",
     "text": [
      "CPU times: user 13.3 s, sys: 0 ns, total: 13.3 s\n",
      "Wall time: 13.3 s\n"
     ]
    }
   ],
   "source": [
    "%%time\n",
    "yhat_test_knn = knn.predict(x_test)"
   ]
  },
  {
   "cell_type": "code",
   "execution_count": 25,
   "id": "6b6aff16",
   "metadata": {},
   "outputs": [
    {
     "name": "stdout",
     "output_type": "stream",
     "text": [
      "23/23 [==============================] - 0s 3ms/step\n",
      "CPU times: user 632 ms, sys: 116 ms, total: 748 ms\n",
      "Wall time: 318 ms\n"
     ]
    }
   ],
   "source": [
    "%%time\n",
    "yhat_test_cnn0 = agn_NN.predict(x_test_nn, batch_size=512, verbose=1)\n",
    "yhat_dev_cnn = np.where(yhat_test_cnn0 >= 0.5, 1, 0)"
   ]
  },
  {
   "cell_type": "code",
   "execution_count": 26,
   "id": "396fbc6c",
   "metadata": {},
   "outputs": [
    {
     "data": {
      "text/markdown": [
       "The LR model predicts 50.99% testing sample are AGN."
      ],
      "text/plain": [
       "<IPython.core.display.Markdown object>"
      ]
     },
     "metadata": {},
     "output_type": "display_data"
    },
    {
     "data": {
      "text/markdown": [
       "The DT model predicts 53.97% testing sample are AGN."
      ],
      "text/plain": [
       "<IPython.core.display.Markdown object>"
      ]
     },
     "metadata": {},
     "output_type": "display_data"
    },
    {
     "data": {
      "text/markdown": [
       "The KNN model predicts 38.91% testing sample are AGN."
      ],
      "text/plain": [
       "<IPython.core.display.Markdown object>"
      ]
     },
     "metadata": {},
     "output_type": "display_data"
    },
    {
     "data": {
      "text/markdown": [
       "The CNN model predicts 68.64% testing sample are AGN."
      ],
      "text/plain": [
       "<IPython.core.display.Markdown object>"
      ]
     },
     "metadata": {},
     "output_type": "display_data"
    }
   ],
   "source": [
    "printmd(f'The LR model predicts {round(np.count_nonzero(yhat_test_lr==1)/len(x_test)*100,2)}% testing sample are AGN.')\n",
    "printmd(f'The DT model predicts {round(np.count_nonzero(yhat_test_Tree==1)/len(x_test)*100,2)}% testing sample are AGN.')\n",
    "printmd(f'The KNN model predicts {round(np.count_nonzero(yhat_test_knn==1)/len(x_test)*100,2)}% testing sample are AGN.')\n",
    "printmd(f'The CNN model predicts {round(np.count_nonzero(yhat_dev_cnn==1)/len(x_test)*100,2)}% testing sample are AGN.')"
   ]
  },
  {
   "cell_type": "markdown",
   "id": "1100f472",
   "metadata": {},
   "source": [
    "# Result\n",
    "Version 0: agncl_train.pkl"
   ]
  },
  {
   "cell_type": "markdown",
   "id": "bd328837",
   "metadata": {},
   "source": [
    "<font color='blue'>Conclusion:</font>\n",
    "- The average performance of the models are close, with moderate bias present (f1_train ~ 85-90%) and small varaiance (f1_dev ~ 84-87%). This often indicates the models are not complicated enough. \n",
    "- The performance on the major class (agn) is great, with AGN completeness around 95%. However, the performance on the minor class (non-agn) is terrible, with non-AGN completeness ranging from 37% to 60%. \n",
    "- The terrible performance of classification of non-agn originates from lack of non-agn data, resulting in a highly imbalanced dataset, which in turn drops the accuracy scores to ~ 70%.\n",
    "- The performance on  testing set suggests CNN suffer heavily from data imbalance, predicting nearly all of the sample to be AGN. The LR seems to be the most reasonable, predicting 84% positive rate, compared with 83.08% of training set and 82.80% of dev set.\n",
    "    \n",
    "<font color='blue'>Possible Improvement:</font>\n",
    "- Get more non-agn data from other sources to counter the imbalance problem.\n",
    "- Use more complex models, such as XGBoost decision tree or random forest.\n",
    "- Train CNN up to 3000 epoches."
   ]
  },
  {
   "cell_type": "code",
   "execution_count": null,
   "id": "469a7399",
   "metadata": {},
   "outputs": [],
   "source": []
  }
 ],
 "metadata": {
  "kernelspec": {
   "display_name": "Python 3.6.5 64-bit",
   "language": "python",
   "name": "python36564bit93b81c14a79841988c96843b1cebe27c"
  },
  "language_info": {
   "codemirror_mode": {
    "name": "ipython",
    "version": 3
   },
   "file_extension": ".py",
   "mimetype": "text/x-python",
   "name": "python",
   "nbconvert_exporter": "python",
   "pygments_lexer": "ipython3",
   "version": "3.6.5"
  }
 },
 "nbformat": 4,
 "nbformat_minor": 5
}
