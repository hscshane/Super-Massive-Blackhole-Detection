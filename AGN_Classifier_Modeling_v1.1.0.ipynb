{
 "cells": [
  {
   "cell_type": "markdown",
   "metadata": {},
   "source": [
    "<h1> <center><font color='green' > <b>AGN Classifier for AGNDB</b></font> </center></h1>\n",
    "\n",
    "# Model Building\n",
    "by Sicong Huang <br> \\\n",
    "<font color='blue'>Python Version: 3.6.5 <br>\n",
    "AGNDB Version: 1.1.0"
   ]
  },
  {
   "cell_type": "markdown",
   "metadata": {},
   "source": [
    "# THE QUESTION: <br><font color='green'>How to use ML methods to classify agn and non-agns?</font>"
   ]
  },
  {
   "cell_type": "markdown",
   "metadata": {},
   "source": [
    "# Goal of the Model Building\n",
    "<font color='green'> Train models to find and remove stars and galaxies in AGNDB."
   ]
  },
  {
   "cell_type": "markdown",
   "metadata": {},
   "source": [
    "# Analytic Approach\n",
    "<font color='green'>__Machine learning & deep learning__:\n",
    "- Logistic Regression\n",
    "- Kernal SVM\n",
    "- Random Forest\n",
    "- KNN\n",
    "- Convolutional Neural Network"
   ]
  },
  {
   "cell_type": "markdown",
   "metadata": {},
   "source": [
    "# IMPORT LIBRARIES"
   ]
  },
  {
   "cell_type": "code",
   "execution_count": 1,
   "metadata": {},
   "outputs": [],
   "source": [
    "# System\n",
    "import os\n",
    "import glob\n",
    "from tqdm import tqdm\n",
    "from IPython.display import Markdown, display, Audio\n",
    "\n",
    "# Web Scraping\n",
    "\n",
    "# Data Analysis\n",
    "import pandas as pd\n",
    "import numpy as np\n",
    "\n",
    "# Machine Learning\n",
    "from scipy import stats\n",
    "import sklearn\n",
    "import joblib\n",
    "from sklearn import svm\n",
    "from sklearn.linear_model import LogisticRegression\n",
    "from sklearn.tree import DecisionTreeClassifier\n",
    "from sklearn.neighbors import KNeighborsClassifier\n",
    "import sklearn.model_selection as ms\n",
    "import sklearn.ensemble as ske\n",
    "from sklearn import tree\n",
    "from sklearn.metrics import balanced_accuracy_score\n",
    "from sklearn.metrics import f1_score, precision_score, recall_score\n",
    "from sklearn.metrics import log_loss\n",
    "from sklearn.metrics import classification_report\n",
    "from sklearn.metrics import confusion_matrix\n",
    "from sklearn.metrics import plot_confusion_matrix\n",
    "from sklearn.metrics import roc_curve, roc_auc_score\n",
    "from sklearn.model_selection import GridSearchCV, StratifiedKFold\n",
    "\n",
    "# Neural Network\n",
    "from tensorflow import keras\n",
    "from keras import layers\n",
    "from keras.layers import Input, Dense, Activation, ZeroPadding2D, BatchNormalization, Flatten, Conv2D\n",
    "from keras.layers import AveragePooling2D, MaxPooling2D, Dropout, GlobalMaxPooling2D, GlobalAveragePooling2D\n",
    "from keras.models import Model\n",
    "from keras.preprocessing import image\n",
    "from keras.utils import layer_utils\n",
    "from keras.utils.data_utils import get_file\n",
    "from keras.applications.imagenet_utils import preprocess_input\n",
    "import pydot\n",
    "from IPython.display import SVG\n",
    "from keras.utils.vis_utils import model_to_dot\n",
    "from keras.utils import plot_model\n",
    "from keras.callbacks import Callback\n",
    "\n",
    "import keras.backend as K\n",
    "\n",
    "# Data Visualization\n",
    "import matplotlib.pyplot as plt\n",
    "from matplotlib.pyplot import imshow\n",
    "import seaborn as sns\n",
    "\n",
    "pd.options.display.float_format = '{:,.2f}'.format\n",
    "%matplotlib inline"
   ]
  },
  {
   "cell_type": "code",
   "execution_count": 2,
   "metadata": {},
   "outputs": [],
   "source": [
    "# import sys\n",
    "# !conda install --yes --prefix {sys.prefix} tensorflow"
   ]
  },
  {
   "cell_type": "markdown",
   "metadata": {},
   "source": [
    "# Functions"
   ]
  },
  {
   "cell_type": "code",
   "execution_count": 2,
   "metadata": {},
   "outputs": [],
   "source": [
    "def sound_effect(fail=0):\n",
    "    \"\"\"\n",
    "    Play a sound when job is finished\n",
    "    \"\"\"\n",
    "    if fail == 0:\n",
    "        sound_file = '/data/home/sicong/sounds/jobs-done_1.mp3'\n",
    "        display(Audio(sound_file, autoplay=True))\n",
    "    else:\n",
    "        sound_file = '/data/home/sicong/sounds/oh-shit-im-sorry_0001.mp3'\n",
    "        display(Audio(sound_file, autoplay=True))"
   ]
  },
  {
   "cell_type": "code",
   "execution_count": 3,
   "metadata": {},
   "outputs": [],
   "source": [
    "def printmd(string):\n",
    "    \"\"\"\n",
    "    print in markdown style\n",
    "    \"\"\"\n",
    "    display(Markdown(string))"
   ]
  },
  {
   "cell_type": "code",
   "execution_count": 4,
   "metadata": {},
   "outputs": [],
   "source": [
    "def conf_matrix(y_test, pred_test):    \n",
    "    \n",
    "    # Creating a confusion matrix\n",
    "    con_mat = confusion_matrix(y_test, pred_test)\n",
    "    con_mat = pd.DataFrame(con_mat, range(2), range(2))\n",
    "   \n",
    "    #Ploting the confusion matrix\n",
    "    plt.figure(figsize=(3,3))\n",
    "    sns.set(font_scale=1.5) \n",
    "    ax = sns.heatmap(con_mat, annot=True, annot_kws={\"size\": 16}, fmt='g', cmap='Blues', cbar=False)\n",
    "    ax.set(xlabel='Predicted Values', ylabel='Actual Value')\n",
    "    plt.show()\n",
    "    "
   ]
  },
  {
   "cell_type": "markdown",
   "metadata": {},
   "source": [
    "# Data Understanding:"
   ]
  },
  {
   "cell_type": "markdown",
   "metadata": {},
   "source": [
    "## Known Issues:\n",
    "\n",
    "<ul>\n",
    "  <font color='green'><li>Only a small fraction is labeled data</li></font>\n",
    "    <ul><li>Get more data</li></ul>    \n",
    "  <font color='green'><li>High fraction of missing values</li></font>  \n",
    "    <ul><li>Select 20% of the whole dataset with least amount of Nan</li></ul>\n",
    "  <font color='green'><li>Highly imbalanced data</li></font>\n",
    "    <ul><li>Use appropriate evaluation metrics</li></ul>\n",
    "  <font color='green'><li>Validation vs cross-validation</li></font>\n",
    "</ul>"
   ]
  },
  {
   "cell_type": "markdown",
   "metadata": {},
   "source": [
    "## Read train/dev/test sets"
   ]
  },
  {
   "cell_type": "code",
   "execution_count": 5,
   "metadata": {},
   "outputs": [],
   "source": [
    "df_train = pd.read_pickle('agncl_train.pkl')\n",
    "df_dev = pd.read_pickle('agncl_dev.pkl')\n",
    "df_test = pd.read_pickle('agncl_test.pkl')"
   ]
  },
  {
   "cell_type": "code",
   "execution_count": 6,
   "metadata": {},
   "outputs": [
    {
     "data": {
      "text/html": [
       "<div>\n",
       "<style scoped>\n",
       "    .dataframe tbody tr th:only-of-type {\n",
       "        vertical-align: middle;\n",
       "    }\n",
       "\n",
       "    .dataframe tbody tr th {\n",
       "        vertical-align: top;\n",
       "    }\n",
       "\n",
       "    .dataframe thead th {\n",
       "        text-align: right;\n",
       "    }\n",
       "</style>\n",
       "<table border=\"1\" class=\"dataframe\">\n",
       "  <thead>\n",
       "    <tr style=\"text-align: right;\">\n",
       "      <th></th>\n",
       "      <th>RA</th>\n",
       "      <th>DEC</th>\n",
       "      <th>AGN</th>\n",
       "      <th>best_z</th>\n",
       "      <th>i_mag</th>\n",
       "      <th>r_mag</th>\n",
       "      <th>z_mag</th>\n",
       "      <th>u_mag</th>\n",
       "      <th>g_mag</th>\n",
       "      <th>e_i_mag</th>\n",
       "      <th>...</th>\n",
       "      <th>e_rf10</th>\n",
       "      <th>rf10</th>\n",
       "      <th>e_rf12</th>\n",
       "      <th>rf12</th>\n",
       "      <th>W1_mag</th>\n",
       "      <th>W2_mag</th>\n",
       "      <th>e_W1_mag</th>\n",
       "      <th>W4_mag</th>\n",
       "      <th>W3_mag</th>\n",
       "      <th>e_W2_mag</th>\n",
       "    </tr>\n",
       "  </thead>\n",
       "  <tbody>\n",
       "    <tr>\n",
       "      <th>220605</th>\n",
       "      <td>34.29</td>\n",
       "      <td>-4.92</td>\n",
       "      <td>1.00</td>\n",
       "      <td>1.46</td>\n",
       "      <td>22.71</td>\n",
       "      <td>22.90</td>\n",
       "      <td>22.45</td>\n",
       "      <td>23.82</td>\n",
       "      <td>23.18</td>\n",
       "      <td>0.01</td>\n",
       "      <td>...</td>\n",
       "      <td>12.87</td>\n",
       "      <td>0.01</td>\n",
       "      <td>746,494.45</td>\n",
       "      <td>0.02</td>\n",
       "      <td>18.54</td>\n",
       "      <td>18.07</td>\n",
       "      <td>0.00</td>\n",
       "      <td>15.26</td>\n",
       "      <td>16.80</td>\n",
       "      <td>0.00</td>\n",
       "    </tr>\n",
       "    <tr>\n",
       "      <th>387256</th>\n",
       "      <td>197.74</td>\n",
       "      <td>24.76</td>\n",
       "      <td>0.00</td>\n",
       "      <td>1.94</td>\n",
       "      <td>19.79</td>\n",
       "      <td>19.99</td>\n",
       "      <td>19.68</td>\n",
       "      <td>20.26</td>\n",
       "      <td>20.11</td>\n",
       "      <td>0.02</td>\n",
       "      <td>...</td>\n",
       "      <td>5.56</td>\n",
       "      <td>94.28</td>\n",
       "      <td>230,990.92</td>\n",
       "      <td>0.14</td>\n",
       "      <td>18.54</td>\n",
       "      <td>18.07</td>\n",
       "      <td>0.00</td>\n",
       "      <td>15.26</td>\n",
       "      <td>16.80</td>\n",
       "      <td>0.00</td>\n",
       "    </tr>\n",
       "  </tbody>\n",
       "</table>\n",
       "<p>2 rows × 29 columns</p>\n",
       "</div>"
      ],
      "text/plain": [
       "           RA   DEC  AGN  best_z  i_mag  r_mag  z_mag  u_mag  g_mag  e_i_mag  \\\n",
       "220605  34.29 -4.92 1.00    1.46  22.71  22.90  22.45  23.82  23.18     0.01   \n",
       "387256 197.74 24.76 0.00    1.94  19.79  19.99  19.68  20.26  20.11     0.02   \n",
       "\n",
       "        ...  e_rf10  rf10     e_rf12  rf12  W1_mag  W2_mag  e_W1_mag  W4_mag  \\\n",
       "220605  ...   12.87  0.01 746,494.45  0.02   18.54   18.07      0.00   15.26   \n",
       "387256  ...    5.56 94.28 230,990.92  0.14   18.54   18.07      0.00   15.26   \n",
       "\n",
       "        W3_mag  e_W2_mag  \n",
       "220605   16.80      0.00  \n",
       "387256   16.80      0.00  \n",
       "\n",
       "[2 rows x 29 columns]"
      ]
     },
     "execution_count": 6,
     "metadata": {},
     "output_type": "execute_result"
    }
   ],
   "source": [
    "df_train.head(2)"
   ]
  },
  {
   "cell_type": "code",
   "execution_count": 7,
   "metadata": {},
   "outputs": [
    {
     "data": {
      "text/html": [
       "<div>\n",
       "<style scoped>\n",
       "    .dataframe tbody tr th:only-of-type {\n",
       "        vertical-align: middle;\n",
       "    }\n",
       "\n",
       "    .dataframe tbody tr th {\n",
       "        vertical-align: top;\n",
       "    }\n",
       "\n",
       "    .dataframe thead th {\n",
       "        text-align: right;\n",
       "    }\n",
       "</style>\n",
       "<table border=\"1\" class=\"dataframe\">\n",
       "  <thead>\n",
       "    <tr style=\"text-align: right;\">\n",
       "      <th></th>\n",
       "      <th>RA</th>\n",
       "      <th>DEC</th>\n",
       "      <th>AGN</th>\n",
       "      <th>best_z</th>\n",
       "      <th>i_mag</th>\n",
       "      <th>r_mag</th>\n",
       "      <th>z_mag</th>\n",
       "      <th>u_mag</th>\n",
       "      <th>g_mag</th>\n",
       "      <th>e_i_mag</th>\n",
       "      <th>...</th>\n",
       "      <th>e_rf10</th>\n",
       "      <th>rf10</th>\n",
       "      <th>e_rf12</th>\n",
       "      <th>rf12</th>\n",
       "      <th>W1_mag</th>\n",
       "      <th>W2_mag</th>\n",
       "      <th>e_W1_mag</th>\n",
       "      <th>W4_mag</th>\n",
       "      <th>W3_mag</th>\n",
       "      <th>e_W2_mag</th>\n",
       "    </tr>\n",
       "  </thead>\n",
       "  <tbody>\n",
       "    <tr>\n",
       "      <th>19276</th>\n",
       "      <td>16.93</td>\n",
       "      <td>1.00</td>\n",
       "      <td>1.00</td>\n",
       "      <td>0.90</td>\n",
       "      <td>20.68</td>\n",
       "      <td>20.69</td>\n",
       "      <td>20.40</td>\n",
       "      <td>20.92</td>\n",
       "      <td>20.78</td>\n",
       "      <td>0.00</td>\n",
       "      <td>...</td>\n",
       "      <td>6.52</td>\n",
       "      <td>122.01</td>\n",
       "      <td>234,124.72</td>\n",
       "      <td>0.15</td>\n",
       "      <td>18.74</td>\n",
       "      <td>18.41</td>\n",
       "      <td>2.76</td>\n",
       "      <td>15.48</td>\n",
       "      <td>17.10</td>\n",
       "      <td>3.42</td>\n",
       "    </tr>\n",
       "    <tr>\n",
       "      <th>333469</th>\n",
       "      <td>163.61</td>\n",
       "      <td>7.23</td>\n",
       "      <td>0.00</td>\n",
       "      <td>0.98</td>\n",
       "      <td>19.79</td>\n",
       "      <td>19.76</td>\n",
       "      <td>19.76</td>\n",
       "      <td>19.98</td>\n",
       "      <td>19.91</td>\n",
       "      <td>0.02</td>\n",
       "      <td>...</td>\n",
       "      <td>7.31</td>\n",
       "      <td>124.05</td>\n",
       "      <td>190,897.13</td>\n",
       "      <td>0.20</td>\n",
       "      <td>18.30</td>\n",
       "      <td>17.76</td>\n",
       "      <td>0.00</td>\n",
       "      <td>15.23</td>\n",
       "      <td>16.55</td>\n",
       "      <td>0.00</td>\n",
       "    </tr>\n",
       "  </tbody>\n",
       "</table>\n",
       "<p>2 rows × 29 columns</p>\n",
       "</div>"
      ],
      "text/plain": [
       "           RA  DEC  AGN  best_z  i_mag  r_mag  z_mag  u_mag  g_mag  e_i_mag  \\\n",
       "19276   16.93 1.00 1.00    0.90  20.68  20.69  20.40  20.92  20.78     0.00   \n",
       "333469 163.61 7.23 0.00    0.98  19.79  19.76  19.76  19.98  19.91     0.02   \n",
       "\n",
       "        ...  e_rf10   rf10     e_rf12  rf12  W1_mag  W2_mag  e_W1_mag  W4_mag  \\\n",
       "19276   ...    6.52 122.01 234,124.72  0.15   18.74   18.41      2.76   15.48   \n",
       "333469  ...    7.31 124.05 190,897.13  0.20   18.30   17.76      0.00   15.23   \n",
       "\n",
       "        W3_mag  e_W2_mag  \n",
       "19276    17.10      3.42  \n",
       "333469   16.55      0.00  \n",
       "\n",
       "[2 rows x 29 columns]"
      ]
     },
     "execution_count": 7,
     "metadata": {},
     "output_type": "execute_result"
    }
   ],
   "source": [
    "df_dev.head(2)"
   ]
  },
  {
   "cell_type": "code",
   "execution_count": 8,
   "metadata": {
    "scrolled": true
   },
   "outputs": [
    {
     "name": "stdout",
     "output_type": "stream",
     "text": [
      "Training set size: (15516, 29)\n",
      "Dev set size: (3880, 29)\n",
      "Testing set size: (11485, 29)\n"
     ]
    }
   ],
   "source": [
    "print(f'Training set size: {df_train.shape}')\n",
    "print(f'Dev set size: {df_dev.shape}')\n",
    "print(f'Testing set size: {df_test.shape}')"
   ]
  },
  {
   "cell_type": "markdown",
   "metadata": {},
   "source": [
    "## Convert train/dev/test dataframe to numpy array"
   ]
  },
  {
   "cell_type": "code",
   "execution_count": 9,
   "metadata": {},
   "outputs": [],
   "source": [
    "#(x_train, x_dev, x_test, y_train, y_dev, y_test) = \n",
    "features = list(set(df_train.columns) - {'best_class','AGN','RA','DEC'})\n",
    "x_train = np.array(df_train[features])\n",
    "y_train = np.array(df_train['AGN'])\n",
    "\n",
    "x_dev = np.array(df_dev[features])\n",
    "y_dev = np.array(df_dev['AGN'])\n",
    "\n",
    "x_test = np.array(df_test[features])"
   ]
  },
  {
   "cell_type": "code",
   "execution_count": 11,
   "metadata": {},
   "outputs": [
    {
     "name": "stdout",
     "output_type": "stream",
     "text": [
      "Number of training examples: m_train = 15516\n",
      "Number of validataion examples: m_dev = 3880\n",
      "Number of testing examples: m_test = 11485\n",
      "train_set_x shape: (15516, 26)\n",
      "train_set_y shape: (15516,)\n",
      "dev_set_x shape: (3880, 26)\n",
      "dev_set_y shape: (3880,)\n",
      "test_set_x shape: (11485, 26)\n"
     ]
    }
   ],
   "source": [
    "print (\"Number of training examples: m_train = \" + str(x_train.shape[0]))\n",
    "print (\"Number of validataion examples: m_dev = \" + str(x_dev.shape[0]))\n",
    "print (\"Number of testing examples: m_test = \" + str(x_test.shape[0]))\n",
    "\n",
    "print (\"train_set_x shape: \" + str(x_train.shape))\n",
    "print (\"train_set_y shape: \" + str(y_train.shape))\n",
    "print (\"dev_set_x shape: \" + str(x_dev.shape))\n",
    "print (\"dev_set_y shape: \" + str(y_dev.shape))\n",
    "print (\"test_set_x shape: \" + str(x_test.shape))"
   ]
  },
  {
   "cell_type": "code",
   "execution_count": 12,
   "metadata": {
    "scrolled": true
   },
   "outputs": [
    {
     "name": "stdout",
     "output_type": "stream",
     "text": [
      "r_mag\n",
      "e_r_mag\n",
      "g_extinction\n",
      "e_z_mag\n",
      "e_i_mag\n",
      "e_u_mag\n",
      "i_mag\n",
      "W1_mag\n",
      "e_W2_mag\n",
      "u_extinction\n",
      "rf10\n",
      "e_W1_mag\n",
      "i_extinction\n",
      "u_mag\n",
      "z_extinction\n",
      "e_rf12\n",
      "W2_mag\n",
      "e_rf10\n",
      "W4_mag\n",
      "best_z\n",
      "g_mag\n",
      "r_extinction\n",
      "e_g_mag\n",
      "rf12\n",
      "W3_mag\n",
      "z_mag\n"
     ]
    }
   ],
   "source": [
    "print(*features,sep='\\n')"
   ]
  },
  {
   "cell_type": "code",
   "execution_count": 13,
   "metadata": {},
   "outputs": [
    {
     "data": {
      "text/plain": [
       "26"
      ]
     },
     "execution_count": 13,
     "metadata": {},
     "output_type": "execute_result"
    }
   ],
   "source": [
    "len(features)"
   ]
  },
  {
   "cell_type": "markdown",
   "metadata": {},
   "source": [
    "## Normalize"
   ]
  },
  {
   "cell_type": "code",
   "execution_count": 14,
   "metadata": {},
   "outputs": [],
   "source": [
    "x_train = (x_train - x_train.mean(axis=0)) / (x_train.std(axis=0))\n",
    "x_dev = (x_dev - x_dev.mean(axis=0)) / (x_dev.std(axis=0))\n",
    "x_test = (x_test - x_test.mean(axis=0)) / (x_test.std(axis=0))"
   ]
  },
  {
   "cell_type": "code",
   "execution_count": 15,
   "metadata": {},
   "outputs": [
    {
     "data": {
      "text/plain": [
       "0"
      ]
     },
     "execution_count": 15,
     "metadata": {},
     "output_type": "execute_result"
    }
   ],
   "source": [
    "# check for nan in sets\n",
    "np.sum(np.isnan(x_dev))"
   ]
  },
  {
   "cell_type": "markdown",
   "metadata": {},
   "source": [
    "## Notice that the data is NOT imbalanced anymore.\n",
    "<font color='green'> \n",
    "</font>\n",
    "\n"
   ]
  },
  {
   "cell_type": "code",
   "execution_count": 16,
   "metadata": {},
   "outputs": [
    {
     "data": {
      "text/markdown": [
       "<font color='red'>Training set:"
      ],
      "text/plain": [
       "<IPython.core.display.Markdown object>"
      ]
     },
     "metadata": {},
     "output_type": "display_data"
    },
    {
     "name": "stdout",
     "output_type": "stream",
     "text": [
      "AGN: 50.28%,       non-AGN: 49.72%\n"
     ]
    },
    {
     "data": {
      "text/markdown": [
       "<font color='red'>Dev set:"
      ],
      "text/plain": [
       "<IPython.core.display.Markdown object>"
      ]
     },
     "metadata": {},
     "output_type": "display_data"
    },
    {
     "name": "stdout",
     "output_type": "stream",
     "text": [
      "AGN: 48.87%,       non-AGN: 51.13%\n"
     ]
    }
   ],
   "source": [
    "printmd(\"<font color='red'>Training set:\")\n",
    "print(f\"AGN: {100*len(df_train[df_train['AGN']==1])/len(df_train):.2f}%, \\\n",
    "      non-AGN: {100*len(df_train[df_train['AGN']==0])/len(df_train):.2f}%\")\n",
    "\n",
    "printmd(\"<font color='red'>Dev set:\")\n",
    "print(f\"AGN: {100*len(df_dev[df_dev['AGN']==1])/len(df_dev):.2f}%, \\\n",
    "      non-AGN: {100*len(df_dev[df_dev['AGN']==0])/len(df_dev):.2f}%\")"
   ]
  },
  {
   "cell_type": "markdown",
   "metadata": {},
   "source": [
    "# Data Modeling"
   ]
  },
  {
   "cell_type": "markdown",
   "metadata": {},
   "source": [
    "## Logistic Regression"
   ]
  },
  {
   "cell_type": "markdown",
   "metadata": {},
   "source": [
    "<font color='green'>Load model from file"
   ]
  },
  {
   "cell_type": "code",
   "execution_count": 32,
   "metadata": {},
   "outputs": [
    {
     "name": "stderr",
     "output_type": "stream",
     "text": [
      "/home/jack/.pyenv/versions/3.6.5/lib/python3.6/site-packages/sklearn/base.py:334: UserWarning: Trying to unpickle estimator LogisticRegression from version 0.24.1 when using version 0.23.1. This might lead to breaking code or invalid results. Use at your own risk.\n",
      "  UserWarning)\n"
     ]
    }
   ],
   "source": [
    "joblib_file = \"LR_Model.pkl\"  \n",
    "lr = joblib.load(joblib_file)"
   ]
  },
  {
   "cell_type": "code",
   "execution_count": 58,
   "metadata": {},
   "outputs": [],
   "source": [
    "%store -r yhat_train_lr\n",
    "%store -r yhat_dev_lr\n",
    "%store -r yhat_train_prob_lr\n",
    "%store -r yhat_dev_prob_lr"
   ]
  },
  {
   "cell_type": "markdown",
   "metadata": {},
   "source": [
    "<font color='green'> Simple Logistic Regression"
   ]
  },
  {
   "cell_type": "code",
   "execution_count": 17,
   "metadata": {},
   "outputs": [
    {
     "name": "stdout",
     "output_type": "stream",
     "text": [
      "CPU times: user 24.2 s, sys: 59.9 s, total: 1min 24s\n",
      "Wall time: 3.19 s\n"
     ]
    },
    {
     "data": {
      "text/plain": [
       "LogisticRegression(solver='newton-cg')"
      ]
     },
     "execution_count": 17,
     "metadata": {},
     "output_type": "execute_result"
    }
   ],
   "source": [
    "%%time\n",
    "# Ignore imbalance\n",
    "lr = LogisticRegression(solver='newton-cg')\n",
    "lr.fit(x_train, y_train)"
   ]
  },
  {
   "cell_type": "code",
   "execution_count": 18,
   "metadata": {},
   "outputs": [],
   "source": [
    "#Predicting on the test data\n",
    "yhat_train_lr = lr.predict(x_train)\n",
    "yhat_train_prob_lr = lr.predict_proba(x_train)\n",
    "\n",
    "yhat_dev_lr = lr.predict(x_dev)\n",
    "yhat_dev_prob_lr = lr.predict_proba(x_dev)"
   ]
  },
  {
   "cell_type": "code",
   "execution_count": 21,
   "metadata": {},
   "outputs": [
    {
     "data": {
      "text/plain": [
       "(15516, 2)"
      ]
     },
     "execution_count": 21,
     "metadata": {},
     "output_type": "execute_result"
    }
   ],
   "source": [
    "yhat_train_prob_lr.shape"
   ]
  },
  {
   "cell_type": "code",
   "execution_count": 20,
   "metadata": {},
   "outputs": [
    {
     "name": "stdout",
     "output_type": "stream",
     "text": [
      "The f1 score for the training data: 0.7507836990595611\n",
      "The f1 score for the dev data: 0.7474321833026073\n"
     ]
    },
    {
     "data": {
      "image/png": "[encoded data removed]",
      "text/plain": [
       "<Figure size 216x216 with 1 Axes>"
      ]
     },
     "metadata": {},
     "output_type": "display_data"
    }
   ],
   "source": [
    "#Calculating and printing the f1 score \n",
    "f1_test = f1_score(y_train, yhat_train_lr)\n",
    "print('The f1 score for the training data:', f1_test)\n",
    "\n",
    "f1_test = f1_score(y_dev, yhat_dev_lr)\n",
    "print('The f1 score for the dev data:', f1_test)\n",
    "\n",
    "# Plot Confusion Matrix\n",
    "conf_matrix(y_dev, yhat_dev_lr)"
   ]
  },
  {
   "cell_type": "markdown",
   "metadata": {},
   "source": [
    "<font color='green'> Logistic Regression (Manual class weights)"
   ]
  },
  {
   "cell_type": "markdown",
   "metadata": {},
   "source": [
    "<font color='red'> __Conclusion__:</font>\n",
    "<font color='green'>\n",
    "- The performance on the dev set is not good. Check later for variance or bias problem."
   ]
  },
  {
   "cell_type": "code",
   "execution_count": 25,
   "metadata": {},
   "outputs": [
    {
     "name": "stdout",
     "output_type": "stream",
     "text": [
      "{'C': 0.7054802310718645}\n",
      "Dev set f1 score: 0.75 (+/- 0.04)\n",
      "CPU times: user 1min 21s, sys: 3min 2s, total: 4min 23s\n",
      "Wall time: 1min 4s\n"
     ]
    }
   ],
   "source": [
    "%%time\n",
    "# !Caution: long run time required\n",
    "# Find the best hyperparameter c\n",
    "grid = GridSearchCV(lr, {'C': np.logspace(-5, 5, 100)}, n_jobs=4)\n",
    "grid.fit(x_train, y_train)\n",
    "print(grid.best_params_)\n",
    "scores = ms.cross_val_score(grid.best_estimator_, x_dev, y_dev, scoring='f1')\n",
    "print(\"Dev set f1 score: %0.2f (+/- %0.2f)\" % (scores.mean(), scores.std() * 2))"
   ]
  },
  {
   "cell_type": "markdown",
   "metadata": {},
   "source": [
    "<font color='green'> Save model to file"
   ]
  },
  {
   "cell_type": "code",
   "execution_count": 26,
   "metadata": {},
   "outputs": [
    {
     "data": {
      "text/plain": [
       "['LR_Model.pkl']"
      ]
     },
     "execution_count": 26,
     "metadata": {},
     "output_type": "execute_result"
    }
   ],
   "source": [
    "joblib_file = \"LR_Model.pkl\"  \n",
    "joblib.dump(lr, joblib_file)"
   ]
  },
  {
   "cell_type": "code",
   "execution_count": 27,
   "metadata": {},
   "outputs": [
    {
     "name": "stdout",
     "output_type": "stream",
     "text": [
      "Stored 'yhat_train_lr' (ndarray)\n",
      "Stored 'yhat_dev_lr' (ndarray)\n",
      "Stored 'yhat_train_prob_lr' (ndarray)\n",
      "Stored 'yhat_dev_prob_lr' (ndarray)\n"
     ]
    }
   ],
   "source": [
    "%store yhat_train_lr\n",
    "%store yhat_dev_lr\n",
    "%store yhat_train_prob_lr\n",
    "%store yhat_dev_prob_lr"
   ]
  },
  {
   "cell_type": "markdown",
   "metadata": {},
   "source": [
    "## Decision Tree"
   ]
  },
  {
   "cell_type": "markdown",
   "metadata": {},
   "source": [
    "<font color='green'> Load model from file"
   ]
  },
  {
   "cell_type": "code",
   "execution_count": 15,
   "metadata": {},
   "outputs": [],
   "source": [
    "joblib_file = \"Tree_Model.pkl\"  \n",
    "Tree = joblib.load(joblib_file)"
   ]
  },
  {
   "cell_type": "code",
   "execution_count": 70,
   "metadata": {},
   "outputs": [],
   "source": [
    "%store -r yhat_train_Tree\n",
    "%store -r yhat_dev_Tree\n",
    "%store -r yhat_train_prob_Tree\n",
    "%store -r yhat_dev_prob_Tree"
   ]
  },
  {
   "cell_type": "markdown",
   "metadata": {},
   "source": [
    "<font color='green'> class_weight='none'"
   ]
  },
  {
   "cell_type": "code",
   "execution_count": 28,
   "metadata": {
    "scrolled": true
   },
   "outputs": [
    {
     "name": "stdout",
     "output_type": "stream",
     "text": [
      "For depth = 1  the training set f1 score is 0.6696866181494133\n",
      "For depth = 1  the dev set f1 score is 0.6762075134168157\n",
      "For depth = 2  the training set f1 score is 0.6647823629169022\n",
      "For depth = 2  the dev set f1 score is 0.6748944462487821\n",
      "For depth = 3  the training set f1 score is 0.7522149185481566\n",
      "For depth = 3  the dev set f1 score is 0.7468060394889662\n",
      "For depth = 4  the training set f1 score is 0.7829832350407528\n",
      "For depth = 4  the dev set f1 score is 0.7780763030628695\n",
      "For depth = 5  the training set f1 score is 0.7951600105792118\n",
      "For depth = 5  the dev set f1 score is 0.7903780068728523\n",
      "For depth = 6  the training set f1 score is 0.8024987986544931\n",
      "For depth = 6  the dev set f1 score is 0.7588168373151308\n",
      "For depth = 7  the training set f1 score is 0.8189556940813728\n",
      "For depth = 7  the dev set f1 score is 0.7009630005068423\n",
      "For depth = 8  the training set f1 score is 0.8288651481556139\n",
      "For depth = 8  the dev set f1 score is 0.7017633529261437\n",
      "For depth = 9  the training set f1 score is 0.8344216097326277\n",
      "For depth = 9  the dev set f1 score is 0.6776771443793287\n",
      "For depth = 10  the training set f1 score is 0.844484132435774\n",
      "For depth = 10  the dev set f1 score is 0.6727418922540874\n",
      "For depth = 11  the training set f1 score is 0.855228981544771\n",
      "For depth = 11  the dev set f1 score is 0.6998716302952503\n",
      "For depth = 12  the training set f1 score is 0.8672530446549391\n",
      "For depth = 12  the dev set f1 score is 0.6728037874802736\n",
      "For depth = 13  the training set f1 score is 0.8802908691774713\n",
      "For depth = 13  the dev set f1 score is 0.6861388675377914\n",
      "For depth = 14  the training set f1 score is 0.8949405772495757\n",
      "For depth = 14  the dev set f1 score is 0.6697843595739152\n",
      "For depth = 15  the training set f1 score is 0.8998218445936685\n",
      "For depth = 15  the dev set f1 score is 0.6926804386636062\n",
      "For depth = 16  the training set f1 score is 0.9123809523809525\n",
      "For depth = 16  the dev set f1 score is 0.6740530791033238\n",
      "For depth = 17  the training set f1 score is 0.922452842945034\n",
      "For depth = 17  the dev set f1 score is 0.6877175534559921\n",
      "For depth = 18  the training set f1 score is 0.9301038996086899\n",
      "For depth = 18  the dev set f1 score is 0.6658247032078808\n",
      "For depth = 19  the training set f1 score is 0.9372227449926066\n",
      "For depth = 19  the dev set f1 score is 0.6703105590062112\n",
      "For depth = 20  the training set f1 score is 0.9423283261802574\n",
      "For depth = 20  the dev set f1 score is 0.6541541541541541\n",
      "For depth = 21  the training set f1 score is 0.94735435595938\n",
      "For depth = 21  the dev set f1 score is 0.682772083943387\n",
      "For depth = 22  the training set f1 score is 0.9553310289816538\n",
      "For depth = 22  the dev set f1 score is 0.6575817641228939\n",
      "For depth = 23  the training set f1 score is 0.9580623755806238\n",
      "For depth = 23  the dev set f1 score is 0.6656775469831849\n",
      "For depth = 24  the training set f1 score is 0.9620750638632344\n",
      "For depth = 24  the dev set f1 score is 0.6572560673600792\n",
      "For depth = 25  the training set f1 score is 0.9693564194707611\n",
      "For depth = 25  the dev set f1 score is 0.6788338468831476\n",
      "For depth = 26  the training set f1 score is 0.971852240666623\n",
      "For depth = 26  the dev set f1 score is 0.6733812949640288\n",
      "For depth = 27  the training set f1 score is 0.9772519283566479\n",
      "For depth = 27  the dev set f1 score is 0.6690578670492588\n",
      "For depth = 28  the training set f1 score is 0.9803691384595318\n",
      "For depth = 28  the dev set f1 score is 0.6713286713286712\n",
      "For depth = 29  the training set f1 score is 0.9822439024390244\n",
      "For depth = 29  the dev set f1 score is 0.6759414727752459\n",
      "For depth = 30  the training set f1 score is 0.9836684234498017\n",
      "For depth = 30  the dev set f1 score is 0.6728527242445872\n",
      "For depth = 31  the training set f1 score is 0.9860724233983288\n",
      "For depth = 31  the dev set f1 score is 0.6515004840271056\n",
      "For depth = 32  the training set f1 score is 0.9886363636363636\n",
      "For depth = 32  the dev set f1 score is 0.6720763723150359\n",
      "For depth = 33  the training set f1 score is 0.9893169310456459\n",
      "For depth = 33  the dev set f1 score is 0.6570871894788115\n",
      "For depth = 34  the training set f1 score is 0.9922620582924943\n",
      "For depth = 34  the dev set f1 score is 0.6712458550450024\n",
      "For depth = 35  the training set f1 score is 0.9930981100432175\n",
      "For depth = 35  the dev set f1 score is 0.6703061951103727\n",
      "For depth = 36  the training set f1 score is 0.9940142884726783\n",
      "For depth = 36  the dev set f1 score is 0.676435830772867\n",
      "For depth = 37  the training set f1 score is 0.9976265315286419\n",
      "For depth = 37  the dev set f1 score is 0.6714183891660727\n",
      "For depth = 38  the training set f1 score is 0.9967276227141483\n",
      "For depth = 38  the dev set f1 score is 0.673887449964681\n",
      "For depth = 39  the training set f1 score is 0.9977522317127995\n",
      "For depth = 39  the dev set f1 score is 0.6757327080890972\n",
      "For depth = 40  the training set f1 score is 0.9974947003276161\n",
      "For depth = 40  the dev set f1 score is 0.6574162679425837\n",
      "For depth = 41  the training set f1 score is 0.9973662234213401\n",
      "For depth = 41  the dev set f1 score is 0.6592449177153922\n",
      "For depth = 42  the training set f1 score is 0.9976231772338922\n",
      "For depth = 42  the dev set f1 score is 0.6610617343262071\n",
      "For depth = 43  the training set f1 score is 0.9986525505293551\n",
      "For depth = 43  the dev set f1 score is 0.6728439059158945\n",
      "For depth = 44  the training set f1 score is 0.9995511957427711\n",
      "For depth = 44  the dev set f1 score is 0.6612284069097889\n",
      "For depth = 45  the training set f1 score is 0.9996153352993974\n",
      "For depth = 45  the dev set f1 score is 0.6717159763313609\n",
      "For depth = 46  the training set f1 score is 0.999551253285467\n",
      "For depth = 46  the dev set f1 score is 0.653522481365713\n",
      "For depth = 47  the training set f1 score is 0.9996153352993974\n",
      "For depth = 47  the dev set f1 score is 0.6772511848341233\n",
      "For depth = 48  the training set f1 score is 0.9996794666324764\n",
      "For depth = 48  the dev set f1 score is 0.6725118483412322\n",
      "For depth = 49  the training set f1 score is 1.0\n",
      "For depth = 49  the dev set f1 score is 0.6560999039385206\n",
      "For depth = 50  the training set f1 score is 1.0\n",
      "For depth = 50  the dev set f1 score is 0.667612293144208\n",
      "For depth = 51  the training set f1 score is 1.0\n",
      "For depth = 51  the dev set f1 score is 0.680233918128655\n",
      "For depth = 52  the training set f1 score is 1.0\n",
      "For depth = 52  the dev set f1 score is 0.6777673545966229\n",
      "For depth = 53  the training set f1 score is 1.0\n",
      "For depth = 53  the dev set f1 score is 0.6511404561824731\n",
      "For depth = 54  the training set f1 score is 1.0\n",
      "For depth = 54  the dev set f1 score is 0.6732487070992007\n",
      "For depth = 55  the training set f1 score is 1.0\n",
      "For depth = 55  the dev set f1 score is 0.655965500718735\n",
      "For depth = 56  the training set f1 score is 1.0\n",
      "For depth = 56  the dev set f1 score is 0.6794841735052755\n",
      "For depth = 57  the training set f1 score is 1.0\n",
      "For depth = 57  the dev set f1 score is 0.6554054054054055\n",
      "For depth = 58  the training set f1 score is 1.0\n",
      "For depth = 58  the dev set f1 score is 0.6655621301775148\n",
      "For depth = 59  the training set f1 score is 1.0\n",
      "For depth = 59  the dev set f1 score is 0.6645873320537429\n",
      "For depth = 60  the training set f1 score is 1.0\n",
      "For depth = 60  the dev set f1 score is 0.6761095372993391\n",
      "For depth = 61  the training set f1 score is 1.0\n",
      "For depth = 61  the dev set f1 score is 0.6738721804511278\n",
      "For depth = 62  the training set f1 score is 1.0\n",
      "For depth = 62  the dev set f1 score is 0.6559113893570913\n",
      "For depth = 63  the training set f1 score is 1.0\n",
      "For depth = 63  the dev set f1 score is 0.6567593480345159\n",
      "For depth = 64  the training set f1 score is 1.0\n",
      "For depth = 64  the dev set f1 score is 0.6569908079342043\n",
      "For depth = 65  the training set f1 score is 1.0\n",
      "For depth = 65  the dev set f1 score is 0.6527377521613832\n",
      "For depth = 66  the training set f1 score is 1.0\n",
      "For depth = 66  the dev set f1 score is 0.6496969696969698\n",
      "For depth = 67  the training set f1 score is 1.0\n",
      "For depth = 67  the dev set f1 score is 0.6677631578947368\n",
      "For depth = 68  the training set f1 score is 1.0\n",
      "For depth = 68  the dev set f1 score is 0.6562575066058133\n",
      "For depth = 69  the training set f1 score is 1.0\n",
      "For depth = 69  the dev set f1 score is 0.6782772417039304\n",
      "For depth = 70  the training set f1 score is 1.0\n",
      "For depth = 70  the dev set f1 score is 0.6712071395021136\n"
     ]
    },
    {
     "name": "stdout",
     "output_type": "stream",
     "text": [
      "For depth = 71  the training set f1 score is 1.0\n",
      "For depth = 71  the dev set f1 score is 0.6524243879020643\n",
      "For depth = 72  the training set f1 score is 1.0\n",
      "For depth = 72  the dev set f1 score is 0.6693320790216369\n",
      "For depth = 73  the training set f1 score is 1.0\n",
      "For depth = 73  the dev set f1 score is 0.6612362242453281\n",
      "For depth = 74  the training set f1 score is 1.0\n",
      "For depth = 74  the dev set f1 score is 0.6565802113352546\n",
      "For depth = 75  the training set f1 score is 1.0\n",
      "For depth = 75  the dev set f1 score is 0.6751740139211138\n",
      "For depth = 76  the training set f1 score is 1.0\n",
      "For depth = 76  the dev set f1 score is 0.6533749699735768\n",
      "For depth = 77  the training set f1 score is 1.0\n",
      "For depth = 77  the dev set f1 score is 0.6666666666666666\n",
      "For depth = 78  the training set f1 score is 1.0\n",
      "For depth = 78  the dev set f1 score is 0.6728884741017266\n",
      "For depth = 79  the training set f1 score is 1.0\n",
      "For depth = 79  the dev set f1 score is 0.6554298097760655\n",
      "For depth = 80  the training set f1 score is 1.0\n",
      "For depth = 80  the dev set f1 score is 0.6594150350495528\n",
      "For depth = 81  the training set f1 score is 1.0\n",
      "For depth = 81  the dev set f1 score is 0.6581914128088271\n",
      "For depth = 82  the training set f1 score is 1.0\n",
      "For depth = 82  the dev set f1 score is 0.6818075392179817\n",
      "For depth = 83  the training set f1 score is 1.0\n",
      "For depth = 83  the dev set f1 score is 0.667757774140753\n",
      "For depth = 84  the training set f1 score is 1.0\n",
      "For depth = 84  the dev set f1 score is 0.6682543462729221\n",
      "For depth = 85  the training set f1 score is 1.0\n",
      "For depth = 85  the dev set f1 score is 0.6540397986094463\n",
      "For depth = 86  the training set f1 score is 1.0\n",
      "For depth = 86  the dev set f1 score is 0.6715191359474054\n",
      "For depth = 87  the training set f1 score is 1.0\n",
      "For depth = 87  the dev set f1 score is 0.6676003734827264\n",
      "For depth = 88  the training set f1 score is 1.0\n",
      "For depth = 88  the dev set f1 score is 0.6702779086198776\n",
      "For depth = 89  the training set f1 score is 1.0\n",
      "For depth = 89  the dev set f1 score is 0.6756183745583039\n",
      "For depth = 90  the training set f1 score is 1.0\n",
      "For depth = 90  the dev set f1 score is 0.6488052136133237\n",
      "For depth = 91  the training set f1 score is 1.0\n",
      "For depth = 91  the dev set f1 score is 0.6679289940828402\n",
      "For depth = 92  the training set f1 score is 1.0\n",
      "For depth = 92  the dev set f1 score is 0.6557770838337736\n",
      "For depth = 93  the training set f1 score is 1.0\n",
      "For depth = 93  the dev set f1 score is 0.6771838945137745\n",
      "For depth = 94  the training set f1 score is 1.0\n",
      "For depth = 94  the dev set f1 score is 0.6617011052378665\n",
      "For depth = 95  the training set f1 score is 1.0\n",
      "For depth = 95  the dev set f1 score is 0.6772462077012836\n",
      "For depth = 96  the training set f1 score is 1.0\n",
      "For depth = 96  the dev set f1 score is 0.6556036556036556\n",
      "For depth = 97  the training set f1 score is 1.0\n",
      "For depth = 97  the dev set f1 score is 0.6556354916067146\n",
      "For depth = 98  the training set f1 score is 1.0\n",
      "For depth = 98  the dev set f1 score is 0.6787224048849225\n",
      "For depth = 99  the training set f1 score is 1.0\n",
      "For depth = 99  the dev set f1 score is 0.655421686746988\n"
     ]
    }
   ],
   "source": [
    "# d is the depth of the forest\n",
    "depths, f1_trains, f1_devs = [], [], []\n",
    "for d in range(1,100):\n",
    "    Tree = DecisionTreeClassifier(criterion = 'entropy', max_depth = d).fit(x_train, y_train)\n",
    "    yhat_dev = Tree.predict(x_dev)\n",
    "    yhat_train = Tree.predict(x_train)\n",
    "    depths.append(d)\n",
    "    f1_train=f1_score(y_train, yhat_train)\n",
    "    f1_trains.append(f1_train)\n",
    "    f1_dev=f1_score(y_dev, yhat_dev)\n",
    "    f1_devs.append(f1_dev)\n",
    "    print(f\"For depth = {d}  the training set f1 score is {f1_train}\")\n",
    "    print(f\"For depth = {d}  the dev set f1 score is {f1_dev}\")    "
   ]
  },
  {
   "cell_type": "code",
   "execution_count": 30,
   "metadata": {},
   "outputs": [
    {
     "data": {
      "image/png": "[encoded data removed]",
      "text/plain": [
       "<Figure size 432x288 with 1 Axes>"
      ]
     },
     "metadata": {},
     "output_type": "display_data"
    }
   ],
   "source": [
    "plt.plot(depths, f1_trains, label='train')\n",
    "plt.plot(depths, f1_devs, label='test')\n",
    "plt.legend()\n",
    "plt.show()"
   ]
  },
  {
   "cell_type": "code",
   "execution_count": 36,
   "metadata": {},
   "outputs": [],
   "source": [
    "Tree = DecisionTreeClassifier(criterion = 'entropy', max_depth = 5).fit(x_train, y_train)"
   ]
  },
  {
   "cell_type": "code",
   "execution_count": 37,
   "metadata": {},
   "outputs": [],
   "source": [
    "yhat_dev_Tree = Tree.predict(x_dev)\n",
    "yhat_train_Tree = Tree.predict(x_train)\n",
    "yhat_dev_prob_Tree = Tree.predict_proba(x_dev)\n",
    "yhat_train_prob_Tree = Tree.predict_proba(x_train)"
   ]
  },
  {
   "cell_type": "code",
   "execution_count": 39,
   "metadata": {},
   "outputs": [
    {
     "name": "stdout",
     "output_type": "stream",
     "text": [
      "For depth = 5  the training set f1 score is 0.7951600105792118\n",
      "For depth = 5  the dev set f1 score is 0.7903780068728523\n"
     ]
    },
    {
     "data": {
      "image/png": "[encoded data removed]",
      "text/plain": [
       "<Figure size 216x216 with 1 Axes>"
      ]
     },
     "metadata": {},
     "output_type": "display_data"
    }
   ],
   "source": [
    "d=5\n",
    "print(f\"For depth = {d}  the training set f1 score is {f1_score(y_train, yhat_train_Tree)}\")\n",
    "print(f\"For depth = {d}  the dev set f1 score is {f1_score(y_dev, yhat_dev_Tree)}\") \n",
    "\n",
    "# Plot Confusion Matrix\n",
    "conf_matrix(y_dev, yhat_dev_Tree)"
   ]
  },
  {
   "cell_type": "markdown",
   "metadata": {},
   "source": [
    "<font color='red'> __Conclusion__:</font>\n",
    "<font color='green'>\n",
    "\n",
    "- The best performance overall is d=4 or 5  with f1_train and f1_dev ~ 80%, indicating high bias. "
   ]
  },
  {
   "cell_type": "markdown",
   "metadata": {},
   "source": [
    "<font color='green'> Save model to file"
   ]
  },
  {
   "cell_type": "code",
   "execution_count": 40,
   "metadata": {},
   "outputs": [
    {
     "data": {
      "text/plain": [
       "['Tree_Model.pkl']"
      ]
     },
     "execution_count": 40,
     "metadata": {},
     "output_type": "execute_result"
    }
   ],
   "source": [
    "joblib_file = \"Tree_Model.pkl\"  \n",
    "joblib.dump(Tree, joblib_file)"
   ]
  },
  {
   "cell_type": "code",
   "execution_count": 41,
   "metadata": {},
   "outputs": [
    {
     "name": "stdout",
     "output_type": "stream",
     "text": [
      "Stored 'yhat_train_Tree' (ndarray)\n",
      "Stored 'yhat_dev_Tree' (ndarray)\n",
      "Stored 'yhat_train_prob_Tree' (ndarray)\n",
      "Stored 'yhat_dev_prob_Tree' (ndarray)\n"
     ]
    }
   ],
   "source": [
    "%store yhat_train_Tree\n",
    "%store yhat_dev_Tree\n",
    "%store yhat_train_prob_Tree\n",
    "%store yhat_dev_prob_Tree"
   ]
  },
  {
   "cell_type": "markdown",
   "metadata": {},
   "source": [
    "## K Nearest Neighbors"
   ]
  },
  {
   "cell_type": "markdown",
   "metadata": {},
   "source": [
    "<font color='green'>Load model from file"
   ]
  },
  {
   "cell_type": "code",
   "execution_count": 64,
   "metadata": {},
   "outputs": [],
   "source": [
    "joblib_file = \"KNN_Model.pkl\"  \n",
    "knn = joblib.load(joblib_file)"
   ]
  },
  {
   "cell_type": "code",
   "execution_count": 71,
   "metadata": {},
   "outputs": [],
   "source": [
    "%store -r yhat_train_knn\n",
    "%store -r yhat_dev_knn"
   ]
  },
  {
   "cell_type": "code",
   "execution_count": 72,
   "metadata": {},
   "outputs": [],
   "source": [
    "%store -r yhat_train_prob_knn\n",
    "%store -r yhat_dev_prob_knn"
   ]
  },
  {
   "cell_type": "code",
   "execution_count": 65,
   "metadata": {},
   "outputs": [
    {
     "name": "stdout",
     "output_type": "stream",
     "text": [
      "Training set:\n",
      "[1.         0.86060606 0.87746673 0.83835306 0.85127384 0.8315362\n",
      " 0.83971003 0.82434977 0.83046152 0.82162539 0.82562084 0.81629815\n",
      " 0.82150625 0.81401168]\n",
      "The best f1 score was with 1.0 with k= 1\n",
      "Dev set:\n",
      "[0.75026123 0.73709484 0.7801229  0.77841561 0.78817467 0.78413598\n",
      " 0.79181446 0.79367767 0.7994513  0.80033793 0.80055021 0.79277244\n",
      " 0.80044101 0.79708111]\n",
      "The best f1 score was with 0.800550206327373 with k= 11\n"
     ]
    }
   ],
   "source": [
    "# find the best K\n",
    "Ks = 15\n",
    "mean_acc_train = np.zeros((Ks-1))\n",
    "std_acc_train = np.zeros((Ks-1))\n",
    "mean_acc_dev = np.zeros((Ks-1))\n",
    "std_acc_dev = np.zeros((Ks-1))\n",
    "\n",
    "for n in range(1,Ks):\n",
    "    #Train Model and Predict  \n",
    "    neigh = KNeighborsClassifier(n_neighbors = n).fit(x_train,y_train)\n",
    "    \n",
    "    yhat_train=neigh.predict(x_train)\n",
    "    yhat_dev=neigh.predict(x_dev)\n",
    "    \n",
    "    mean_acc_train[n-1] = f1_score(y_train, yhat_train)\n",
    "    std_acc_train[n-1]=np.std(yhat_train==y_train)/np.sqrt(yhat_train.shape[0])\n",
    "    \n",
    "    mean_acc_dev[n-1] = f1_score(y_dev, yhat_dev)\n",
    "    std_acc_dev[n-1]=np.std(yhat_dev==y_dev)/np.sqrt(yhat_dev.shape[0])\n",
    "\n",
    "print('Training set:')\n",
    "print(mean_acc_train)\n",
    "print( \"The best f1 score was with\", mean_acc_train.max(), \"with k=\", mean_acc_train.argmax()+1) \n",
    "\n",
    "print('Dev set:')\n",
    "print(mean_acc_dev)\n",
    "print( \"The best f1 score was with\", mean_acc_dev.max(), \"with k=\", mean_acc_dev.argmax()+1) "
   ]
  },
  {
   "cell_type": "code",
   "execution_count": 66,
   "metadata": {},
   "outputs": [
    {
     "name": "stdout",
     "output_type": "stream",
     "text": [
      "CPU times: user 131 ms, sys: 0 ns, total: 131 ms\n",
      "Wall time: 129 ms\n"
     ]
    }
   ],
   "source": [
    "%%time\n",
    "# build the model with the best K=7\n",
    "k = 11\n",
    "knn = KNeighborsClassifier(n_neighbors = k).fit(x_train,y_train)"
   ]
  },
  {
   "cell_type": "code",
   "execution_count": 67,
   "metadata": {},
   "outputs": [
    {
     "name": "stdout",
     "output_type": "stream",
     "text": [
      "CPU times: user 5.87 s, sys: 0 ns, total: 5.87 s\n",
      "Wall time: 5.88 s\n"
     ]
    }
   ],
   "source": [
    "%%time\n",
    "yhat_train_knn=knn.predict(x_train)"
   ]
  },
  {
   "cell_type": "code",
   "execution_count": 68,
   "metadata": {},
   "outputs": [
    {
     "name": "stdout",
     "output_type": "stream",
     "text": [
      "CPU times: user 1.7 s, sys: 0 ns, total: 1.7 s\n",
      "Wall time: 1.71 s\n"
     ]
    }
   ],
   "source": [
    "%%time\n",
    "yhat_dev_knn=knn.predict(x_dev)"
   ]
  },
  {
   "cell_type": "code",
   "execution_count": 69,
   "metadata": {},
   "outputs": [
    {
     "name": "stdout",
     "output_type": "stream",
     "text": [
      "CPU times: user 5.31 s, sys: 0 ns, total: 5.31 s\n",
      "Wall time: 5.32 s\n"
     ]
    }
   ],
   "source": [
    "%%time\n",
    "yhat_train_prob_knn=knn.predict_proba(x_train)"
   ]
  },
  {
   "cell_type": "code",
   "execution_count": 70,
   "metadata": {},
   "outputs": [
    {
     "name": "stdout",
     "output_type": "stream",
     "text": [
      "CPU times: user 1.57 s, sys: 0 ns, total: 1.57 s\n",
      "Wall time: 1.57 s\n"
     ]
    }
   ],
   "source": [
    "%%time\n",
    "yhat_dev_prob_knn=knn.predict_proba(x_dev)"
   ]
  },
  {
   "cell_type": "code",
   "execution_count": 71,
   "metadata": {},
   "outputs": [
    {
     "name": "stdout",
     "output_type": "stream",
     "text": [
      "The training set f1 score is 0.8256208440765368\n",
      "The dev set f1 score is 0.800550206327373\n"
     ]
    },
    {
     "data": {
      "image/png": "[encoded data removed]",
      "text/plain": [
       "<Figure size 216x216 with 1 Axes>"
      ]
     },
     "metadata": {},
     "output_type": "display_data"
    }
   ],
   "source": [
    "print(f\"The training set f1 score is {f1_score(y_train, yhat_train_knn)}\")\n",
    "print(f\"The dev set f1 score is {f1_score(y_dev, yhat_dev_knn)}\") \n",
    "\n",
    "# Plot Confusion Matrix\n",
    "conf_matrix(y_dev, yhat_dev_knn)"
   ]
  },
  {
   "cell_type": "markdown",
   "metadata": {},
   "source": [
    "<font color='red'> __Conclusion__:</font>\n",
    "<font color='green'>\n",
    "- Similar performance as Decision Tree.\n",
    "- Takes much longer to run."
   ]
  },
  {
   "cell_type": "markdown",
   "metadata": {},
   "source": [
    "<font color='green'> Save model to file"
   ]
  },
  {
   "cell_type": "code",
   "execution_count": 72,
   "metadata": {},
   "outputs": [
    {
     "data": {
      "text/plain": [
       "['KNN_Model.pkl']"
      ]
     },
     "execution_count": 72,
     "metadata": {},
     "output_type": "execute_result"
    }
   ],
   "source": [
    "joblib_file = \"KNN_Model.pkl\"  \n",
    "joblib.dump(knn, joblib_file)"
   ]
  },
  {
   "cell_type": "code",
   "execution_count": 73,
   "metadata": {},
   "outputs": [
    {
     "name": "stdout",
     "output_type": "stream",
     "text": [
      "Stored 'yhat_train_knn' (ndarray)\n",
      "Stored 'yhat_dev_knn' (ndarray)\n"
     ]
    }
   ],
   "source": [
    "%store yhat_train_knn\n",
    "%store yhat_dev_knn"
   ]
  },
  {
   "cell_type": "code",
   "execution_count": 74,
   "metadata": {},
   "outputs": [
    {
     "name": "stdout",
     "output_type": "stream",
     "text": [
      "Stored 'yhat_train_prob_knn' (ndarray)\n",
      "Stored 'yhat_dev_prob_knn' (ndarray)\n"
     ]
    }
   ],
   "source": [
    "%store yhat_train_prob_knn\n",
    "%store yhat_dev_prob_knn"
   ]
  },
  {
   "cell_type": "markdown",
   "metadata": {},
   "source": [
    "## Neural Network\n",
    "Based on https://ui.adsabs.harvard.edu/abs/2021MNRAS.501.3951C/abstract "
   ]
  },
  {
   "cell_type": "markdown",
   "metadata": {},
   "source": [
    "The structure of the network from the paper is as follows:\n",
    "<img src=\"./images/NN_structure_paper.jpg\">\n",
    "- Input size = (44x2x1)\n",
    "- Kernel size = (1x2)\n",
    "- Kernel # for CNN = 16, 32, 32\n",
    "\n",
    "<font color='red'>\n",
    "Input => CNN => ReLU => CNN => ReLU => CNN => ReLU => FC => ReLU => FC => ReLU => Sigmoid => Output</font>\n",
    "\n",
    "The work flow in this paper is as follows:\n",
    "<img src=\"./images/NN_workflow_paper.jpg\" >\n",
    "\n",
    "The training epochs come to the end when a specific condition\n",
    "is satisfied. This termination condition generally could be written\n",
    "as:\n",
    "<img src=\"./images/condition_paper.jpg\" >\n",
    "\n",
    "The loss function is define as a modified cross-entropy loss function for\n",
    "up-weighting the lesser class in the training samples:\n",
    "<img src=\"./images/loss_paper.jpg\" >\n",
    "Notice that the lesser class in the paper is AGN, while in our database is non-AGN.\n",
    "We will try the normal loss function first, then use this modified function later.\n",
    "\n",
    "For retais in this paper:\n",
    "- Adam\n",
    "- L2 and dropout\n",
    "- Batch Normalization\n",
    "- Padding"
   ]
  },
  {
   "cell_type": "markdown",
   "metadata": {},
   "source": [
    "<font color='green'> Load model from file"
   ]
  },
  {
   "cell_type": "code",
   "execution_count": 11,
   "metadata": {
    "scrolled": true
   },
   "outputs": [],
   "source": [
    "agn_NN = keras.models.load_model('agn_NN.pd')"
   ]
  },
  {
   "cell_type": "code",
   "execution_count": 12,
   "metadata": {},
   "outputs": [],
   "source": [
    "%store -r yhat_train_cnn\n",
    "%store -r yhat_dev_cnn"
   ]
  },
  {
   "cell_type": "markdown",
   "metadata": {},
   "source": [
    "<font color='green'> Define macro f1 score based on https://towardsdatascience.com/implementing-macro-f1-score-in-keras-what-not-to-do-e9f1aa04029d"
   ]
  },
  {
   "cell_type": "code",
   "execution_count": 43,
   "metadata": {},
   "outputs": [],
   "source": [
    "class Metrics(Callback):\n",
    "    def __init__(self, validation):   \n",
    "        super(Metrics, self).__init__()\n",
    "        self.validation = validation    \n",
    "            \n",
    "        print('validation shape', len(self.validation[0]))\n",
    "        \n",
    "    def on_train_begin(self, logs={}):        \n",
    "        self.val_f1s = []\n",
    "        self.val_recalls = []\n",
    "        self.val_precisions = []\n",
    "     \n",
    "    def on_epoch_end(self, epoch, logs={}):\n",
    "        val_targ = self.validation[1]   \n",
    "        val_predict = (np.asarray(self.model.predict(self.validation[0]))).round()        \n",
    "    \n",
    "        val_f1 = f1_score(val_targ, val_predict)\n",
    "        val_recall = recall_score(val_targ, val_predict)         \n",
    "        val_precision = precision_score(val_targ, val_predict)\n",
    "        \n",
    "        self.val_f1s.append(round(val_f1, 6))\n",
    "        self.val_recalls.append(round(val_recall, 6))\n",
    "        self.val_precisions.append(round(val_precision, 6))\n",
    " \n",
    "        print(f' — val_f1: {val_f1} — val_precision: {val_precision}, — val_recall: {val_recall}')"
   ]
  },
  {
   "cell_type": "markdown",
   "metadata": {},
   "source": [
    "<font color='green'> Build the model"
   ]
  },
  {
   "cell_type": "code",
   "execution_count": 44,
   "metadata": {},
   "outputs": [],
   "source": [
    "x_train_nn = x_train.reshape(-1,26,1,1)\n",
    "x_dev_nn = x_dev.reshape(-1,26,1,1)\n",
    "x_test_nn = x_test.reshape(-1,26,1,1)"
   ]
  },
  {
   "cell_type": "code",
   "execution_count": 45,
   "metadata": {},
   "outputs": [],
   "source": [
    "def AGN_NN(input_shape):\n",
    "    \"\"\"\n",
    "    Implementation of the AGN_NN.\n",
    "    \n",
    "    Arguments:\n",
    "    input_shape -- shape of the input of the dataset\n",
    "        (height, width, channels) as a tuple.  \n",
    "        Note that this does not include the 'batch' as a dimension.\n",
    "        If you have a batch like 'X_train', \n",
    "        then you can provide the input_shape using\n",
    "        X_train.shape[1:]\n",
    "    \n",
    "\n",
    "    Returns:\n",
    "    model -- a Model() instance in Keras\n",
    "    \"\"\"\n",
    "  # Define the input placeholder as a tensor with shape input_shape. Think of this as your input image!\n",
    "    \n",
    "    X_input = Input(input_shape)\n",
    "\n",
    "    # CONV -> BN -> RELU Block 1 applied to X\n",
    "    X = Conv2D(16, (1, 1), strides = (1, 1), padding=\"same\", name = 'conv0')(X_input)\n",
    "    X = BatchNormalization(axis = 3, name = 'bn0')(X)\n",
    "    X = Activation('relu')(X)\n",
    "    \n",
    "    # CONV -> BN -> RELU Block 2 applied to X\n",
    "    X = Conv2D(32, (1, 1), strides = (1, 1), padding=\"same\", name = 'conv1')(X)\n",
    "    X = BatchNormalization(axis = 3, name = 'bn1')(X)\n",
    "    X = Activation('relu')(X)\n",
    "    \n",
    "    # CONV -> BN -> RELU Block 3 applied to X\n",
    "    X = Conv2D(32, (1, 1), strides = (1, 1), padding=\"same\", name = 'conv2')(X)\n",
    "    X = BatchNormalization(axis = 3, name = 'bn2')(X)\n",
    "    X = Activation('relu')(X)\n",
    "\n",
    "\n",
    "    # FLATTEN X (means convert it to a vector) + FULLYCONNECTED \n",
    "    X = Flatten()(X)\n",
    "    X = Dense(64, activation='relu', name='fc0')(X)\n",
    "    X = Dense(16, activation='relu', name='fc1')(X)\n",
    "    X = Dense(1, activation='sigmoid', name='fc2')(X)\n",
    "\n",
    "    # Create model. This creates your Keras model instance, you'll use this instance to train/test the model.\n",
    "    model = Model(inputs = X_input, outputs = X, name='AGN_NN')\n",
    "\n",
    "    \n",
    "    ### END CODE HERE ###\n",
    "    \n",
    "    return model"
   ]
  },
  {
   "cell_type": "code",
   "execution_count": 17,
   "metadata": {},
   "outputs": [
    {
     "name": "stdout",
     "output_type": "stream",
     "text": [
      "3.6.5\n"
     ]
    }
   ],
   "source": [
    "from platform import python_version\n",
    "\n",
    "print(python_version())"
   ]
  },
  {
   "cell_type": "code",
   "execution_count": 46,
   "metadata": {
    "scrolled": true
   },
   "outputs": [
    {
     "name": "stdout",
     "output_type": "stream",
     "text": [
      "validation shape 3880\n",
      "Epoch 1/200\n",
      "31/31 [==============================] - 2s 43ms/step - loss: 0.5715 - accuracy: 0.6984 - val_loss: 0.6490 - val_accuracy: 0.7242\n",
      " — val_f1: 0.746685606060606 — val_precision: 0.677405498281787, — val_recall: 0.8317510548523207\n",
      "Epoch 2/200\n",
      "31/31 [==============================] - 1s 19ms/step - loss: 0.4418 - accuracy: 0.7937 - val_loss: 0.6193 - val_accuracy: 0.7374\n",
      " — val_f1: 0.7536862460720328 — val_precision: 0.6956715751896475, — val_recall: 0.8222573839662447\n",
      "Epoch 3/200\n",
      "31/31 [==============================] - 1s 17ms/step - loss: 0.4078 - accuracy: 0.8107 - val_loss: 0.5958 - val_accuracy: 0.7044\n",
      " — val_f1: 0.7468549988964909 — val_precision: 0.6421252371916508, — val_recall: 0.8924050632911392\n",
      "Epoch 4/200\n",
      "31/31 [==============================] - 0s 16ms/step - loss: 0.4050 - accuracy: 0.8133 - val_loss: 0.5634 - val_accuracy: 0.7392\n",
      " — val_f1: 0.7632194665418811 — val_precision: 0.6858704793944491, — val_recall: 0.8602320675105485\n",
      "Epoch 5/200\n",
      "31/31 [==============================] - 1s 17ms/step - loss: 0.3849 - accuracy: 0.8199 - val_loss: 0.5218 - val_accuracy: 0.7845\n",
      " — val_f1: 0.782404997397189 — val_precision: 0.7723535457348407, — val_recall: 0.7927215189873418\n",
      "Epoch 6/200\n",
      "31/31 [==============================] - 1s 17ms/step - loss: 0.3766 - accuracy: 0.8279 - val_loss: 0.4945 - val_accuracy: 0.7830\n",
      " — val_f1: 0.7705722070844686 — val_precision: 0.7970687711386697, — val_recall: 0.7457805907172996\n",
      "Epoch 7/200\n",
      "31/31 [==============================] - 1s 18ms/step - loss: 0.3890 - accuracy: 0.8183 - val_loss: 0.4690 - val_accuracy: 0.7889\n",
      " — val_f1: 0.7796610169491526 — val_precision: 0.7957166392092258, — val_recall: 0.7642405063291139\n",
      "Epoch 8/200\n",
      "31/31 [==============================] - 0s 15ms/step - loss: 0.3718 - accuracy: 0.8298 - val_loss: 0.4643 - val_accuracy: 0.7884\n",
      " — val_f1: 0.7879101007491603 — val_precision: 0.7721518987341772, — val_recall: 0.804324894514768\n",
      "Epoch 9/200\n",
      "31/31 [==============================] - 1s 18ms/step - loss: 0.3686 - accuracy: 0.8338 - val_loss: 0.4466 - val_accuracy: 0.7910\n",
      " — val_f1: 0.7916773696378115 — val_precision: 0.771657486229344, — val_recall: 0.8127637130801688\n",
      "Epoch 10/200\n",
      "31/31 [==============================] - 1s 17ms/step - loss: 0.3620 - accuracy: 0.8328 - val_loss: 0.4421 - val_accuracy: 0.7951\n",
      " — val_f1: 0.7907344037904712 — val_precision: 0.789280084077772, — val_recall: 0.7921940928270043\n",
      "Epoch 11/200\n",
      "31/31 [==============================] - 1s 17ms/step - loss: 0.3538 - accuracy: 0.8394 - val_loss: 0.4513 - val_accuracy: 0.7835\n",
      " — val_f1: 0.786476868327402 — val_precision: 0.7590775269872424, — val_recall: 0.8159282700421941\n",
      "Epoch 12/200\n",
      "31/31 [==============================] - 1s 17ms/step - loss: 0.3588 - accuracy: 0.8340 - val_loss: 0.4229 - val_accuracy: 0.8085\n",
      " — val_f1: 0.8052424639580603 — val_precision: 0.8004168837936425, — val_recall: 0.810126582278481\n",
      "Epoch 13/200\n",
      "31/31 [==============================] - 1s 17ms/step - loss: 0.3565 - accuracy: 0.8361 - val_loss: 0.4172 - val_accuracy: 0.8080\n",
      " — val_f1: 0.8034819308889476 — val_precision: 0.8036939313984169, — val_recall: 0.8032700421940928\n",
      "Epoch 14/200\n",
      "31/31 [==============================] - 1s 20ms/step - loss: 0.3460 - accuracy: 0.8437 - val_loss: 0.4445 - val_accuracy: 0.7905\n",
      " — val_f1: 0.7948523845571536 — val_precision: 0.7619738751814223, — val_recall: 0.8306962025316456\n",
      "Epoch 15/200\n",
      "31/31 [==============================] - 1s 20ms/step - loss: 0.3399 - accuracy: 0.8445 - val_loss: 0.4278 - val_accuracy: 0.8028\n",
      " — val_f1: 0.8019673828630598 — val_precision: 0.7874936451448907, — val_recall: 0.8169831223628692\n",
      "Epoch 16/200\n",
      "31/31 [==============================] - 1s 18ms/step - loss: 0.3438 - accuracy: 0.8430 - val_loss: 0.4594 - val_accuracy: 0.7825\n",
      " — val_f1: 0.7892107892107891 — val_precision: 0.7495256166982922, — val_recall: 0.8333333333333334\n",
      "Epoch 17/200\n",
      "31/31 [==============================] - 1s 18ms/step - loss: 0.3370 - accuracy: 0.8479 - val_loss: 0.4042 - val_accuracy: 0.8170\n",
      " — val_f1: 0.8060109289617485 — val_precision: 0.8361678004535147, — val_recall: 0.7779535864978903\n",
      "Epoch 18/200\n",
      "31/31 [==============================] - 1s 18ms/step - loss: 0.3308 - accuracy: 0.8506 - val_loss: 0.4402 - val_accuracy: 0.8034\n",
      " — val_f1: 0.7984147952443857 — val_precision: 0.7998941238750662, — val_recall: 0.7969409282700421\n",
      "Epoch 19/200\n",
      "31/31 [==============================] - 1s 19ms/step - loss: 0.3293 - accuracy: 0.8487 - val_loss: 0.4507 - val_accuracy: 0.7985\n",
      " — val_f1: 0.8017241379310345 — val_precision: 0.77197265625, — val_recall: 0.8338607594936709\n",
      "Epoch 20/200\n",
      "31/31 [==============================] - 1s 17ms/step - loss: 0.3316 - accuracy: 0.8482 - val_loss: 0.4327 - val_accuracy: 0.8062\n",
      " — val_f1: 0.8027282266526757 — val_precision: 0.7985386221294363, — val_recall: 0.8069620253164557\n",
      "Epoch 21/200\n",
      "31/31 [==============================] - 1s 18ms/step - loss: 0.3260 - accuracy: 0.8514 - val_loss: 0.4338 - val_accuracy: 0.7982\n",
      " — val_f1: 0.7954010974653775 — val_precision: 0.7881926462972553, — val_recall: 0.8027426160337553\n",
      "Epoch 22/200\n",
      "31/31 [==============================] - 1s 17ms/step - loss: 0.3179 - accuracy: 0.8538 - val_loss: 0.4422 - val_accuracy: 0.8028\n",
      " — val_f1: 0.8011437483753574 — val_precision: 0.7898513582778063, — val_recall: 0.8127637130801688\n",
      "Epoch 23/200\n",
      "31/31 [==============================] - 1s 18ms/step - loss: 0.3161 - accuracy: 0.8572 - val_loss: 0.4282 - val_accuracy: 0.8085\n",
      " — val_f1: 0.8048332019963226 — val_precision: 0.8016745159602302, — val_recall: 0.8080168776371308\n",
      "Epoch 24/200\n",
      "31/31 [==============================] - 1s 18ms/step - loss: 0.3094 - accuracy: 0.8592 - val_loss: 0.4606 - val_accuracy: 0.7889\n",
      " — val_f1: 0.7854335865863243 — val_precision: 0.780322748568454, — val_recall: 0.7906118143459916\n",
      "Epoch 25/200\n",
      "31/31 [==============================] - 1s 17ms/step - loss: 0.3023 - accuracy: 0.8632 - val_loss: 0.4566 - val_accuracy: 0.7809\n",
      " — val_f1: 0.7867536377320623 — val_precision: 0.7502392344497608, — val_recall: 0.8270042194092827\n",
      "Epoch 26/200\n",
      "31/31 [==============================] - 1s 18ms/step - loss: 0.3067 - accuracy: 0.8600 - val_loss: 0.4691 - val_accuracy: 0.7907\n",
      " — val_f1: 0.7946383409205868 — val_precision: 0.7633624878522838, — val_recall: 0.8285864978902954\n",
      "Epoch 27/200\n",
      "31/31 [==============================] - 1s 16ms/step - loss: 0.2923 - accuracy: 0.8688 - val_loss: 0.4435 - val_accuracy: 0.8059\n",
      " — val_f1: 0.7976350443429187 — val_precision: 0.8131506849315069, — val_recall: 0.7827004219409283\n",
      "Epoch 28/200\n",
      "31/31 [==============================] - 1s 17ms/step - loss: 0.2962 - accuracy: 0.8688 - val_loss: 0.4635 - val_accuracy: 0.8013\n",
      " — val_f1: 0.7912266450040617 — val_precision: 0.8130217028380634, — val_recall: 0.7705696202531646\n",
      "Epoch 29/200\n",
      "31/31 [==============================] - 1s 16ms/step - loss: 0.2947 - accuracy: 0.8702 - val_loss: 0.4741 - val_accuracy: 0.7794\n",
      " — val_f1: 0.7855711422845691 — val_precision: 0.7480916030534351, — val_recall: 0.8270042194092827\n",
      "Epoch 30/200\n",
      "31/31 [==============================] - ETA: 0s - loss: 0.2830 - accuracy: 0.87 - 1s 16ms/step - loss: 0.2834 - accuracy: 0.8747 - val_loss: 0.4751 - val_accuracy: 0.7923\n",
      " — val_f1: 0.7929085303186022 — val_precision: 0.7730460921843687, — val_recall: 0.8138185654008439\n",
      "Epoch 31/200\n",
      "31/31 [==============================] - 0s 16ms/step - loss: 0.2802 - accuracy: 0.8734 - val_loss: 0.4720 - val_accuracy: 0.7892\n",
      " — val_f1: 0.7892838742916022 — val_precision: 0.771399798590131, — val_recall: 0.8080168776371308\n",
      "Epoch 32/200\n",
      "31/31 [==============================] - 1s 17ms/step - loss: 0.2778 - accuracy: 0.8778 - val_loss: 0.4961 - val_accuracy: 0.7863\n",
      " — val_f1: 0.787163029525032 — val_precision: 0.7668834417208604, — val_recall: 0.8085443037974683\n",
      "Epoch 33/200\n",
      "31/31 [==============================] - 0s 16ms/step - loss: 0.2773 - accuracy: 0.8767 - val_loss: 0.4792 - val_accuracy: 0.7915\n",
      " — val_f1: 0.7916559361318568 — val_precision: 0.7735279315551082, — val_recall: 0.8106540084388185\n",
      "Epoch 34/200\n",
      "31/31 [==============================] - 1s 17ms/step - loss: 0.2661 - accuracy: 0.8820 - val_loss: 0.4786 - val_accuracy: 0.7979\n"
     ]
    },
    {
     "name": "stdout",
     "output_type": "stream",
     "text": [
      " — val_f1: 0.7929212889593238 — val_precision: 0.7941798941798942, — val_recall: 0.7916666666666666\n",
      "Epoch 35/200\n",
      "31/31 [==============================] - 1s 17ms/step - loss: 0.2744 - accuracy: 0.8780 - val_loss: 0.5049 - val_accuracy: 0.7724\n",
      " — val_f1: 0.7768511498610058 — val_precision: 0.7457544881125667, — val_recall: 0.8106540084388185\n",
      "Epoch 36/200\n",
      "31/31 [==============================] - 0s 16ms/step - loss: 0.2729 - accuracy: 0.8786 - val_loss: 0.4973 - val_accuracy: 0.7930\n",
      " — val_f1: 0.790612777053455 — val_precision: 0.7818463125322331, — val_recall: 0.79957805907173\n",
      "Epoch 37/200\n",
      "31/31 [==============================] - 0s 16ms/step - loss: 0.2577 - accuracy: 0.8851 - val_loss: 0.4959 - val_accuracy: 0.7817\n",
      " — val_f1: 0.7792546260099035 — val_precision: 0.7702215352910871, — val_recall: 0.7885021097046413\n",
      "Epoch 38/200\n",
      "31/31 [==============================] - 1s 17ms/step - loss: 0.2548 - accuracy: 0.8868 - val_loss: 0.5106 - val_accuracy: 0.7876\n",
      " — val_f1: 0.7879567678847145 — val_precision: 0.7693467336683417, — val_recall: 0.8074894514767933\n",
      "Epoch 39/200\n",
      "31/31 [==============================] - 1s 17ms/step - loss: 0.2491 - accuracy: 0.8902 - val_loss: 0.5155 - val_accuracy: 0.7858\n",
      " — val_f1: 0.7884958004581318 — val_precision: 0.7619281849483522, — val_recall: 0.8169831223628692\n",
      "Epoch 40/200\n",
      "31/31 [==============================] - 1s 17ms/step - loss: 0.2477 - accuracy: 0.8908 - val_loss: 0.5394 - val_accuracy: 0.7616\n",
      " — val_f1: 0.7740043977522599 — val_precision: 0.7209831588529814, — val_recall: 0.8354430379746836\n",
      "Epoch 41/200\n",
      "31/31 [==============================] - 1s 25ms/step - loss: 0.2421 - accuracy: 0.8954 - val_loss: 0.5916 - val_accuracy: 0.7461\n",
      " — val_f1: 0.7628220563448109 — val_precision: 0.7018165706690297, — val_recall: 0.8354430379746836\n",
      "Epoch 42/200\n",
      "31/31 [==============================] - 1s 16ms/step - loss: 0.2390 - accuracy: 0.8946 - val_loss: 0.5648 - val_accuracy: 0.7732\n",
      " — val_f1: 0.7758532857870606 — val_precision: 0.7502463054187192, — val_recall: 0.8032700421940928\n",
      "Epoch 43/200\n",
      "31/31 [==============================] - 0s 16ms/step - loss: 0.2362 - accuracy: 0.8984 - val_loss: 0.5915 - val_accuracy: 0.7580\n",
      " — val_f1: 0.7709197365211027 — val_precision: 0.7172038129822969, — val_recall: 0.8333333333333334\n",
      "Epoch 44/200\n",
      "31/31 [==============================] - 1s 16ms/step - loss: 0.2311 - accuracy: 0.8998 - val_loss: 0.5675 - val_accuracy: 0.7588\n",
      " — val_f1: 0.7688888888888888 — val_precision: 0.7228412256267409, — val_recall: 0.8212025316455697\n",
      "Epoch 45/200\n",
      "31/31 [==============================] - 1s 16ms/step - loss: 0.2270 - accuracy: 0.9015 - val_loss: 0.5802 - val_accuracy: 0.7613\n",
      " — val_f1: 0.77180877279448 — val_precision: 0.7243293246993524, — val_recall: 0.8259493670886076\n",
      "Epoch 46/200\n",
      "31/31 [==============================] - 0s 15ms/step - loss: 0.2205 - accuracy: 0.9051 - val_loss: 0.5514 - val_accuracy: 0.7863\n",
      " — val_f1: 0.7789922687283392 — val_precision: 0.7876010781671159, — val_recall: 0.7705696202531646\n",
      "Epoch 47/200\n",
      "31/31 [==============================] - 0s 16ms/step - loss: 0.2223 - accuracy: 0.9026 - val_loss: 0.6178 - val_accuracy: 0.7451\n",
      " — val_f1: 0.7645798619376338 — val_precision: 0.6967462039045553, — val_recall: 0.8470464135021097\n",
      "Epoch 48/200\n",
      "31/31 [==============================] - 0s 16ms/step - loss: 0.2170 - accuracy: 0.9081 - val_loss: 0.5883 - val_accuracy: 0.7603\n",
      " — val_f1: 0.7707100591715976 — val_precision: 0.7236111111111111, — val_recall: 0.8243670886075949\n",
      "Epoch 49/200\n",
      "31/31 [==============================] - 0s 16ms/step - loss: 0.2193 - accuracy: 0.9067 - val_loss: 0.5987 - val_accuracy: 0.7629\n",
      " — val_f1: 0.7633744855967078 — val_precision: 0.7449799196787149, — val_recall: 0.7827004219409283\n",
      "Epoch 50/200\n",
      "31/31 [==============================] - 1s 17ms/step - loss: 0.2157 - accuracy: 0.9072 - val_loss: 0.6368 - val_accuracy: 0.7528\n",
      " — val_f1: 0.7613834287136103 — val_precision: 0.7206782854451248, — val_recall: 0.8069620253164557\n",
      "Epoch 51/200\n",
      "31/31 [==============================] - 1s 17ms/step - loss: 0.2038 - accuracy: 0.9158 - val_loss: 0.6565 - val_accuracy: 0.7492\n",
      " — val_f1: 0.7620445096600634 — val_precision: 0.7104423164614683, — val_recall: 0.8217299578059072\n",
      "Epoch 52/200\n",
      "31/31 [==============================] - 1s 18ms/step - loss: 0.1956 - accuracy: 0.9185 - val_loss: 0.6889 - val_accuracy: 0.7541\n",
      " — val_f1: 0.763978228599703 — val_precision: 0.7194780987884436, — val_recall: 0.8143459915611815\n",
      "Epoch 53/200\n",
      "31/31 [==============================] - 1s 17ms/step - loss: 0.1976 - accuracy: 0.9197 - val_loss: 0.7362 - val_accuracy: 0.7423\n",
      " — val_f1: 0.7536945812807881 — val_precision: 0.7070240295748613, — val_recall: 0.8069620253164557\n",
      "Epoch 54/200\n",
      "31/31 [==============================] - 1s 17ms/step - loss: 0.1968 - accuracy: 0.9184 - val_loss: 0.6735 - val_accuracy: 0.7639\n",
      " — val_f1: 0.7654889912954428 — val_precision: 0.7437810945273632, — val_recall: 0.7885021097046413\n",
      "Epoch 55/200\n",
      "31/31 [==============================] - 1s 17ms/step - loss: 0.1928 - accuracy: 0.9226 - val_loss: 0.6737 - val_accuracy: 0.7660\n",
      " — val_f1: 0.7651319192964304 — val_precision: 0.750761421319797, — val_recall: 0.7800632911392406\n",
      "Epoch 56/200\n",
      "31/31 [==============================] - 0s 16ms/step - loss: 0.1880 - accuracy: 0.9222 - val_loss: 0.6943 - val_accuracy: 0.7624\n",
      " — val_f1: 0.7690380761523046 — val_precision: 0.7323473282442748, — val_recall: 0.8095991561181435\n",
      "Epoch 57/200\n",
      "31/31 [==============================] - 1s 16ms/step - loss: 0.1854 - accuracy: 0.9223 - val_loss: 0.7022 - val_accuracy: 0.7441\n",
      " — val_f1: 0.7551171393341554 — val_precision: 0.7091245947197776, — val_recall: 0.8074894514767933\n",
      "Epoch 58/200\n",
      "31/31 [==============================] - 1s 17ms/step - loss: 0.1781 - accuracy: 0.9244 - val_loss: 0.7229 - val_accuracy: 0.7595\n",
      " — val_f1: 0.7624140565317037 — val_precision: 0.7370753323485968, — val_recall: 0.7895569620253164\n",
      "Epoch 59/200\n",
      "31/31 [==============================] - 1s 17ms/step - loss: 0.1773 - accuracy: 0.9247 - val_loss: 0.7725 - val_accuracy: 0.7448\n",
      " — val_f1: 0.7574718275355217 — val_precision: 0.707227813357731, — val_recall: 0.8154008438818565\n",
      "Epoch 60/200\n",
      "31/31 [==============================] - 1s 16ms/step - loss: 0.1701 - accuracy: 0.9307 - val_loss: 0.7951 - val_accuracy: 0.7392\n",
      " — val_f1: 0.7553191489361701 — val_precision: 0.6973214285714285, — val_recall: 0.8238396624472574\n",
      "Epoch 61/200\n",
      "31/31 [==============================] - 1s 18ms/step - loss: 0.1768 - accuracy: 0.9257 - val_loss: 0.7627 - val_accuracy: 0.7508\n",
      " — val_f1: 0.7603469640644361 — val_precision: 0.7171575502571295, — val_recall: 0.8090717299578059\n",
      "Epoch 62/200\n",
      "31/31 [==============================] - 1s 18ms/step - loss: 0.1729 - accuracy: 0.9285 - val_loss: 0.8251 - val_accuracy: 0.7325\n",
      " — val_f1: 0.7495173745173745 — val_precision: 0.6908362989323843, — val_recall: 0.8190928270042194\n",
      "Epoch 63/200\n",
      "31/31 [==============================] - 0s 16ms/step - loss: 0.1663 - accuracy: 0.9299 - val_loss: 0.7903 - val_accuracy: 0.7464\n",
      " — val_f1: 0.752016129032258 — val_precision: 0.7200772200772201, — val_recall: 0.7869198312236287\n",
      "Epoch 64/200\n",
      "31/31 [==============================] - 1s 17ms/step - loss: 0.1583 - accuracy: 0.9361 - val_loss: 0.8033 - val_accuracy: 0.7485\n",
      " — val_f1: 0.7507660878447396 — val_precision: 0.7277227722772277, — val_recall: 0.7753164556962026\n",
      "Epoch 65/200\n",
      "31/31 [==============================] - 1s 18ms/step - loss: 0.1626 - accuracy: 0.9291 - val_loss: 0.8473 - val_accuracy: 0.7405\n",
      " — val_f1: 0.7571738606221364 — val_precision: 0.6974677920924034, — val_recall: 0.8280590717299579\n",
      "Epoch 66/200\n",
      "31/31 [==============================] - 1s 18ms/step - loss: 0.1514 - accuracy: 0.9416 - val_loss: 0.9338 - val_accuracy: 0.7258\n",
      " — val_f1: 0.7467872441694431 — val_precision: 0.6803989592367736, — val_recall: 0.8275316455696202\n",
      "Epoch 67/200\n",
      "31/31 [==============================] - 1s 18ms/step - loss: 0.1537 - accuracy: 0.9389 - val_loss: 0.8634 - val_accuracy: 0.7340\n",
      " — val_f1: 0.7388663967611336 — val_precision: 0.7101167315175098, — val_recall: 0.770042194092827\n",
      "Epoch 68/200\n",
      "31/31 [==============================] - 1s 19ms/step - loss: 0.1518 - accuracy: 0.9390 - val_loss: 0.9466 - val_accuracy: 0.7263\n",
      " — val_f1: 0.7444658325312802 — val_precision: 0.6845132743362832, — val_recall: 0.8159282700421941\n",
      "Epoch 69/200\n",
      "31/31 [==============================] - 1s 18ms/step - loss: 0.1478 - accuracy: 0.9423 - val_loss: 0.8940 - val_accuracy: 0.7332\n",
      " — val_f1: 0.7456377488326371 — val_precision: 0.6981132075471698, — val_recall: 0.8001054852320675\n",
      "Epoch 70/200\n",
      "31/31 [==============================] - 1s 17ms/step - loss: 0.1442 - accuracy: 0.9423 - val_loss: 0.9699 - val_accuracy: 0.7309\n",
      " — val_f1: 0.7511916110581506 — val_precision: 0.6852173913043478, — val_recall: 0.8312236286919831\n",
      "Epoch 71/200\n",
      "31/31 [==============================] - 1s 18ms/step - loss: 0.1527 - accuracy: 0.9376 - val_loss: 1.0399 - val_accuracy: 0.7124\n",
      " — val_f1: 0.7446224256292906 — val_precision: 0.6576394502829426, — val_recall: 0.8581223628691983\n",
      "Epoch 72/200\n",
      "31/31 [==============================] - 1s 18ms/step - loss: 0.1521 - accuracy: 0.9369 - val_loss: 0.9449 - val_accuracy: 0.7271\n",
      " — val_f1: 0.7448807516261141 — val_precision: 0.6855875831485587, — val_recall: 0.8154008438818565\n",
      "Epoch 73/200\n",
      "31/31 [==============================] - 1s 17ms/step - loss: 0.1304 - accuracy: 0.9509 - val_loss: 1.0227 - val_accuracy: 0.7255\n",
      " — val_f1: 0.7440519105984138 — val_precision: 0.6834437086092715, — val_recall: 0.8164556962025317\n",
      "Epoch 74/200\n",
      "31/31 [==============================] - 1s 18ms/step - loss: 0.1319 - accuracy: 0.9493 - val_loss: 1.0114 - val_accuracy: 0.7247\n",
      " — val_f1: 0.7460770328102709 — val_precision: 0.6792207792207792, — val_recall: 0.8275316455696202\n",
      "Epoch 75/200\n",
      "31/31 [==============================] - 1s 19ms/step - loss: 0.1388 - accuracy: 0.9427 - val_loss: 0.9375 - val_accuracy: 0.7307\n",
      " — val_f1: 0.7438097572934542 — val_precision: 0.6949152542372882, — val_recall: 0.8001054852320675\n",
      "Epoch 76/200\n",
      "31/31 [==============================] - 1s 19ms/step - loss: 0.1276 - accuracy: 0.9487 - val_loss: 0.9904 - val_accuracy: 0.7371\n",
      " — val_f1: 0.7483966452886038 — val_precision: 0.7029657089898054, — val_recall: 0.8001054852320675\n",
      "Epoch 77/200\n",
      "31/31 [==============================] - 1s 18ms/step - loss: 0.1323 - accuracy: 0.9492 - val_loss: 1.0288 - val_accuracy: 0.7224\n",
      " — val_f1: 0.7446051695518141 — val_precision: 0.6764325721671693, — val_recall: 0.8280590717299579\n",
      "Epoch 78/200\n",
      "31/31 [==============================] - 1s 17ms/step - loss: 0.1343 - accuracy: 0.9457 - val_loss: 1.0249 - val_accuracy: 0.7209\n",
      " — val_f1: 0.742204237086408 — val_precision: 0.676355748373102, — val_recall: 0.8222573839662447\n",
      "Epoch 79/200\n",
      "31/31 [==============================] - 1s 17ms/step - loss: 0.1234 - accuracy: 0.9532 - val_loss: 1.0211 - val_accuracy: 0.7211\n",
      " — val_f1: 0.7354523227383862 — val_precision: 0.6855059252506837, — val_recall: 0.7932489451476793\n",
      "Epoch 80/200\n",
      "31/31 [==============================] - 1s 24ms/step - loss: 0.1265 - accuracy: 0.9512 - val_loss: 1.0546 - val_accuracy: 0.7222\n",
      " — val_f1: 0.7383495145631067 — val_precision: 0.6839028776978417, — val_recall: 0.8022151898734177\n",
      "Epoch 81/200\n",
      "31/31 [==============================] - 1s 17ms/step - loss: 0.1210 - accuracy: 0.9546 - val_loss: 1.0558 - val_accuracy: 0.7304\n",
      " — val_f1: 0.7435017165277096 — val_precision: 0.694775435380385, — val_recall: 0.79957805907173\n",
      "Epoch 82/200\n",
      "31/31 [==============================] - 1s 16ms/step - loss: 0.1141 - accuracy: 0.9580 - val_loss: 1.0832 - val_accuracy: 0.7235\n",
      " — val_f1: 0.7353884093711467 — val_precision: 0.6905974988420565, — val_recall: 0.7863924050632911\n",
      "Epoch 83/200\n",
      "31/31 [==============================] - 1s 18ms/step - loss: 0.1072 - accuracy: 0.9607 - val_loss: 1.1365 - val_accuracy: 0.7149\n",
      " — val_f1: 0.7393967954759659 — val_precision: 0.6682282793867121, — val_recall: 0.8275316455696202\n",
      "Epoch 84/200\n",
      "31/31 [==============================] - 1s 20ms/step - loss: 0.1214 - accuracy: 0.9503 - val_loss: 1.0871 - val_accuracy: 0.7441\n",
      " — val_f1: 0.7519360479640271 — val_precision: 0.7142857142857143, — val_recall: 0.7937763713080169\n",
      "Epoch 85/200\n",
      "31/31 [==============================] - 1s 18ms/step - loss: 0.1116 - accuracy: 0.9570 - val_loss: 1.1054 - val_accuracy: 0.7322\n",
      " — val_f1: 0.7410914527784699 — val_precision: 0.7024090694378838, — val_recall: 0.7842827004219409\n",
      "Epoch 86/200\n",
      "31/31 [==============================] - 1s 18ms/step - loss: 0.1084 - accuracy: 0.9584 - val_loss: 1.0792 - val_accuracy: 0.7436\n",
      " — val_f1: 0.7498114156399297 — val_precision: 0.7164824603555983, — val_recall: 0.7863924050632911\n",
      "Epoch 87/200\n",
      "31/31 [==============================] - 1s 17ms/step - loss: 0.1003 - accuracy: 0.9646 - val_loss: 1.1040 - val_accuracy: 0.7402\n",
      " — val_f1: 0.7454545454545455 — val_precision: 0.7151162790697675, — val_recall: 0.7784810126582279\n",
      "Epoch 88/200\n",
      "31/31 [==============================] - 1s 19ms/step - loss: 0.1067 - accuracy: 0.9590 - val_loss: 1.1476 - val_accuracy: 0.7448\n",
      " — val_f1: 0.7501261988894498 — val_precision: 0.7192642787996127, — val_recall: 0.7837552742616034\n",
      "Epoch 89/200\n",
      "31/31 [==============================] - 1s 20ms/step - loss: 0.1161 - accuracy: 0.9526 - val_loss: 1.2279 - val_accuracy: 0.7505\n",
      " — val_f1: 0.7517948717948718 — val_precision: 0.7315369261477046, — val_recall: 0.7732067510548524\n",
      "Epoch 90/200\n",
      "31/31 [==============================] - 1s 19ms/step - loss: 0.1095 - accuracy: 0.9581 - val_loss: 1.2332 - val_accuracy: 0.7384\n",
      " — val_f1: 0.7515299877600978 — val_precision: 0.7012334399269072, — val_recall: 0.8095991561181435\n",
      "Epoch 91/200\n",
      "31/31 [==============================] - 1s 18ms/step - loss: 0.0958 - accuracy: 0.9637 - val_loss: 1.1824 - val_accuracy: 0.7309\n",
      " — val_f1: 0.7451171875 — val_precision: 0.6936363636363636, — val_recall: 0.8048523206751055\n",
      "Epoch 92/200\n",
      "31/31 [==============================] - 1s 17ms/step - loss: 0.0931 - accuracy: 0.9639 - val_loss: 1.1702 - val_accuracy: 0.7448\n",
      " — val_f1: 0.7497472194135489 — val_precision: 0.7199029126213592, — val_recall: 0.7821729957805907\n",
      "Epoch 93/200\n",
      "31/31 [==============================] - 1s 17ms/step - loss: 0.0975 - accuracy: 0.9627 - val_loss: 1.0615 - val_accuracy: 0.7423\n",
      " — val_f1: 0.7452878247580235 — val_precision: 0.7206896551724138, — val_recall: 0.7716244725738397\n",
      "Epoch 94/200\n",
      "31/31 [==============================] - 1s 18ms/step - loss: 0.0994 - accuracy: 0.9625 - val_loss: 1.1355 - val_accuracy: 0.7441\n",
      " — val_f1: 0.7453193126442678 — val_precision: 0.7254118821767349, — val_recall: 0.7663502109704642\n",
      "Epoch 95/200\n",
      "31/31 [==============================] - 1s 17ms/step - loss: 0.0934 - accuracy: 0.9658 - val_loss: 1.1679 - val_accuracy: 0.7397\n",
      " — val_f1: 0.7463586137619287 — val_precision: 0.7123681687440077, — val_recall: 0.7837552742616034\n",
      "Epoch 96/200\n",
      "31/31 [==============================] - 1s 17ms/step - loss: 0.0889 - accuracy: 0.9696 - val_loss: 1.2111 - val_accuracy: 0.7317\n",
      " — val_f1: 0.7334186939820744 — val_precision: 0.7127924340467895, — val_recall: 0.7552742616033755\n",
      "Epoch 97/200\n",
      "31/31 [==============================] - 1s 18ms/step - loss: 0.0979 - accuracy: 0.9657 - val_loss: 1.1516 - val_accuracy: 0.7474\n",
      " — val_f1: 0.743723849372385 — val_precision: 0.7375518672199171, — val_recall: 0.75\n",
      "Epoch 98/200\n",
      "31/31 [==============================] - 1s 17ms/step - loss: 0.0894 - accuracy: 0.9699 - val_loss: 1.2295 - val_accuracy: 0.7420\n",
      " — val_f1: 0.751797669228862 — val_precision: 0.7094057089377632, — val_recall: 0.79957805907173\n",
      "Epoch 99/200\n",
      "31/31 [==============================] - 1s 19ms/step - loss: 0.0870 - accuracy: 0.9665 - val_loss: 1.2985 - val_accuracy: 0.7271\n",
      " — val_f1: 0.7418961735315623 — val_precision: 0.6896239238785682, — val_recall: 0.8027426160337553\n",
      "Epoch 100/200\n",
      "31/31 [==============================] - 1s 17ms/step - loss: 0.0810 - accuracy: 0.9712 - val_loss: 1.3331 - val_accuracy: 0.7294\n",
      " — val_f1: 0.745269286754003 — val_precision: 0.6900269541778976, — val_recall: 0.810126582278481\n",
      "Epoch 101/200\n",
      "31/31 [==============================] - 1s 18ms/step - loss: 0.0849 - accuracy: 0.9686 - val_loss: 1.4579 - val_accuracy: 0.7286\n",
      " — val_f1: 0.7466923261967765 — val_precision: 0.686421937195931, — val_recall: 0.8185654008438819\n",
      "Epoch 102/200\n"
     ]
    },
    {
     "name": "stdout",
     "output_type": "stream",
     "text": [
      "31/31 [==============================] - 1s 18ms/step - loss: 0.0871 - accuracy: 0.9684 - val_loss: 1.3458 - val_accuracy: 0.7296\n",
      " — val_f1: 0.7402822480812081 — val_precision: 0.6976201586560896, — val_recall: 0.7885021097046413\n",
      "Epoch 103/200\n",
      "31/31 [==============================] - 1s 18ms/step - loss: 0.0937 - accuracy: 0.9636 - val_loss: 1.3498 - val_accuracy: 0.7430\n",
      " — val_f1: 0.7477864912724511 — val_precision: 0.7185221195916383, — val_recall: 0.7795358649789029\n",
      "Epoch 104/200\n",
      "31/31 [==============================] - 1s 17ms/step - loss: 0.0973 - accuracy: 0.9606 - val_loss: 1.3994 - val_accuracy: 0.7433\n",
      " — val_f1: 0.7557626287395782 — val_precision: 0.7062328139321723, — val_recall: 0.8127637130801688\n",
      "Epoch 105/200\n",
      "31/31 [==============================] - 1s 19ms/step - loss: 0.0914 - accuracy: 0.9658 - val_loss: 1.2610 - val_accuracy: 0.7438\n",
      " — val_f1: 0.7472024415055951 — val_precision: 0.7215127701375246, — val_recall: 0.7747890295358649\n",
      "Epoch 106/200\n",
      "31/31 [==============================] - 1s 18ms/step - loss: 0.0838 - accuracy: 0.9689 - val_loss: 1.3655 - val_accuracy: 0.7508\n",
      " — val_f1: 0.7581895473868469 — val_precision: 0.7208749405611032, — val_recall: 0.79957805907173\n",
      "Epoch 107/200\n",
      "31/31 [==============================] - 1s 18ms/step - loss: 0.0772 - accuracy: 0.9725 - val_loss: 1.3842 - val_accuracy: 0.7407\n",
      " — val_f1: 0.7478696741854636 — val_precision: 0.7125119388729704, — val_recall: 0.7869198312236287\n",
      "Epoch 108/200\n",
      "31/31 [==============================] - 1s 18ms/step - loss: 0.0714 - accuracy: 0.9756 - val_loss: 1.4454 - val_accuracy: 0.7361\n",
      " — val_f1: 0.7464091134224864 — val_precision: 0.7035480859010271, — val_recall: 0.794831223628692\n",
      "Epoch 109/200\n",
      "31/31 [==============================] - 1s 18ms/step - loss: 0.0750 - accuracy: 0.9741 - val_loss: 1.5277 - val_accuracy: 0.7247\n",
      " — val_f1: 0.7366863905325444 — val_precision: 0.6916666666666667, — val_recall: 0.7879746835443038\n",
      "Epoch 110/200\n",
      "31/31 [==============================] - 1s 17ms/step - loss: 0.0787 - accuracy: 0.9704 - val_loss: 1.4394 - val_accuracy: 0.7332\n",
      " — val_f1: 0.740276035131744 — val_precision: 0.7060794638583054, — val_recall: 0.7779535864978903\n",
      "Epoch 111/200\n",
      "31/31 [==============================] - 1s 18ms/step - loss: 0.0836 - accuracy: 0.9691 - val_loss: 1.4273 - val_accuracy: 0.7500\n",
      " — val_f1: 0.7521716913643332 — val_precision: 0.7294350842418236, — val_recall: 0.7763713080168776\n",
      "Epoch 112/200\n",
      "31/31 [==============================] - 1s 23ms/step - loss: 0.0869 - accuracy: 0.9669 - val_loss: 1.4458 - val_accuracy: 0.7294\n",
      " — val_f1: 0.7430249632892804 — val_precision: 0.6931506849315069, — val_recall: 0.8006329113924051\n",
      "Epoch 113/200\n",
      "31/31 [==============================] - 1s 17ms/step - loss: 0.0753 - accuracy: 0.9720 - val_loss: 1.5403 - val_accuracy: 0.7284\n",
      " — val_f1: 0.7421722113502934 — val_precision: 0.6920620437956204, — val_recall: 0.8001054852320675\n",
      "Epoch 114/200\n",
      "31/31 [==============================] - 1s 18ms/step - loss: 0.0714 - accuracy: 0.9751 - val_loss: 1.5169 - val_accuracy: 0.7250\n",
      " — val_f1: 0.7412078583555664 — val_precision: 0.6861248316120341, — val_recall: 0.8059071729957806\n",
      "Epoch 115/200\n",
      "31/31 [==============================] - 1s 19ms/step - loss: 0.0659 - accuracy: 0.9781 - val_loss: 1.5443 - val_accuracy: 0.7204\n",
      " — val_f1: 0.7399952072849268 — val_precision: 0.6780851998243302, — val_recall: 0.8143459915611815\n",
      "Epoch 116/200\n",
      "31/31 [==============================] - 1s 19ms/step - loss: 0.0674 - accuracy: 0.9777 - val_loss: 1.5552 - val_accuracy: 0.7358\n",
      " — val_f1: 0.7450882864958964 — val_precision: 0.7049411764705882, — val_recall: 0.790084388185654\n",
      "Epoch 117/200\n",
      "31/31 [==============================] - 1s 18ms/step - loss: 0.0689 - accuracy: 0.9750 - val_loss: 1.5215 - val_accuracy: 0.7397\n",
      " — val_f1: 0.7478781827259111 — val_precision: 0.7099526066350711, — val_recall: 0.790084388185654\n",
      "Epoch 118/200\n",
      "31/31 [==============================] - 1s 18ms/step - loss: 0.0713 - accuracy: 0.9730 - val_loss: 1.5192 - val_accuracy: 0.7343\n",
      " — val_f1: 0.7452433901655547 — val_precision: 0.701069270106927, — val_recall: 0.7953586497890295\n",
      "Epoch 119/200\n",
      "31/31 [==============================] - 1s 18ms/step - loss: 0.0710 - accuracy: 0.9748 - val_loss: 1.5389 - val_accuracy: 0.7515\n",
      " — val_f1: 0.7512899896800825 — val_precision: 0.7353535353535353, — val_recall: 0.7679324894514767\n",
      "Epoch 120/200\n",
      "31/31 [==============================] - 1s 18ms/step - loss: 0.0762 - accuracy: 0.9732 - val_loss: 1.5817 - val_accuracy: 0.7469\n",
      " — val_f1: 0.7515182186234817 — val_precision: 0.7222762645914397, — val_recall: 0.7832278481012658\n",
      "Epoch 121/200\n",
      "31/31 [==============================] - 1s 19ms/step - loss: 0.0736 - accuracy: 0.9741 - val_loss: 1.5246 - val_accuracy: 0.7348\n",
      " — val_f1: 0.7424280350438047 — val_precision: 0.7065269175797999, — val_recall: 0.7821729957805907\n",
      "Epoch 122/200\n",
      "31/31 [==============================] - 1s 21ms/step - loss: 0.0705 - accuracy: 0.9748 - val_loss: 1.5457 - val_accuracy: 0.7325\n",
      " — val_f1: 0.7455882352941177 — val_precision: 0.6964285714285714, — val_recall: 0.8022151898734177\n",
      "Epoch 123/200\n",
      "31/31 [==============================] - 1s 20ms/step - loss: 0.0648 - accuracy: 0.9759 - val_loss: 1.5514 - val_accuracy: 0.7407\n",
      " — val_f1: 0.7486256871564219 — val_precision: 0.7113010446343779, — val_recall: 0.790084388185654\n",
      "Epoch 124/200\n",
      "31/31 [==============================] - 1s 18ms/step - loss: 0.0667 - accuracy: 0.9766 - val_loss: 1.4878 - val_accuracy: 0.7456\n",
      " — val_f1: 0.7478927203065134 — val_precision: 0.725111441307578, — val_recall: 0.7721518987341772\n",
      "Epoch 125/200\n",
      "31/31 [==============================] - 1s 19ms/step - loss: 0.0751 - accuracy: 0.9692 - val_loss: 1.5140 - val_accuracy: 0.7371\n",
      " — val_f1: 0.744616925388082 — val_precision: 0.7087702573879886, — val_recall: 0.7842827004219409\n",
      "Epoch 126/200\n",
      "31/31 [==============================] - 1s 20ms/step - loss: 0.0545 - accuracy: 0.9815 - val_loss: 1.5046 - val_accuracy: 0.7327\n",
      " — val_f1: 0.7435072965619589 — val_precision: 0.7000465766185375, — val_recall: 0.7927215189873418\n",
      "Epoch 127/200\n",
      "31/31 [==============================] - 1s 21ms/step - loss: 0.0545 - accuracy: 0.9813 - val_loss: 1.6021 - val_accuracy: 0.7322\n",
      " — val_f1: 0.7441516867766559 — val_precision: 0.6979214780600462, — val_recall: 0.7969409282700421\n",
      "Epoch 128/200\n",
      "31/31 [==============================] - 1s 19ms/step - loss: 0.0660 - accuracy: 0.9772 - val_loss: 1.6083 - val_accuracy: 0.7222\n",
      " — val_f1: 0.7338271604938271 — val_precision: 0.6898792943361188, — val_recall: 0.7837552742616034\n",
      "Epoch 129/200\n",
      "31/31 [==============================] - 1s 20ms/step - loss: 0.0556 - accuracy: 0.9808 - val_loss: 1.6363 - val_accuracy: 0.7361\n",
      " — val_f1: 0.7434869739478958 — val_precision: 0.7080152671755725, — val_recall: 0.7827004219409283\n",
      "Epoch 130/200\n",
      "31/31 [==============================] - 1s 18ms/step - loss: 0.0703 - accuracy: 0.9750 - val_loss: 1.6488 - val_accuracy: 0.7335\n",
      " — val_f1: 0.7329545454545453 — val_precision: 0.7181174089068826, — val_recall: 0.7484177215189873\n",
      "Epoch 131/200\n",
      "31/31 [==============================] - 1s 17ms/step - loss: 0.0650 - accuracy: 0.9773 - val_loss: 1.7002 - val_accuracy: 0.7276\n",
      " — val_f1: 0.731521463042926 — val_precision: 0.7055365017148456, — val_recall: 0.759493670886076\n",
      "Epoch 132/200\n",
      "31/31 [==============================] - 1s 18ms/step - loss: 0.0596 - accuracy: 0.9797 - val_loss: 1.8083 - val_accuracy: 0.7139\n",
      " — val_f1: 0.7313649564375604 — val_precision: 0.6757602862254025, — val_recall: 0.7969409282700421\n",
      "Epoch 133/200\n",
      "31/31 [==============================] - 1s 20ms/step - loss: 0.0595 - accuracy: 0.9803 - val_loss: 1.7851 - val_accuracy: 0.7296\n",
      " — val_f1: 0.7424502823471643 — val_precision: 0.6945337620578779, — val_recall: 0.7974683544303798\n",
      "Epoch 134/200\n",
      "31/31 [==============================] - 1s 18ms/step - loss: 0.0584 - accuracy: 0.9798 - val_loss: 1.7578 - val_accuracy: 0.7268\n",
      " — val_f1: 0.7378832838773491 — val_precision: 0.6945996275605214, — val_recall: 0.7869198312236287\n",
      "Epoch 135/200\n",
      "31/31 [==============================] - 1s 19ms/step - loss: 0.0495 - accuracy: 0.9824 - val_loss: 1.7904 - val_accuracy: 0.7224\n",
      " — val_f1: 0.7337453646477132 — val_precision: 0.6905537459283387, — val_recall: 0.7827004219409283\n",
      "Epoch 136/200\n"
     ]
    },
    {
     "name": "stdout",
     "output_type": "stream",
     "text": [
      "31/31 [==============================] - 1s 19ms/step - loss: 0.0465 - accuracy: 0.9860 - val_loss: 1.8585 - val_accuracy: 0.7162\n",
      " — val_f1: 0.7350180505415161 — val_precision: 0.6759628154050464, — val_recall: 0.805379746835443\n",
      "Epoch 137/200\n",
      "31/31 [==============================] - 1s 19ms/step - loss: 0.0626 - accuracy: 0.9760 - val_loss: 1.8183 - val_accuracy: 0.7312\n",
      " — val_f1: 0.7445505755571883 — val_precision: 0.695016003657979, — val_recall: 0.8016877637130801\n",
      "Epoch 138/200\n",
      "31/31 [==============================] - 1s 19ms/step - loss: 0.0516 - accuracy: 0.9832 - val_loss: 1.7100 - val_accuracy: 0.7304\n",
      " — val_f1: 0.7392821535393819 — val_precision: 0.7008506616257089, — val_recall: 0.7821729957805907\n",
      "Epoch 139/200\n",
      "31/31 [==============================] - 1s 17ms/step - loss: 0.0512 - accuracy: 0.9804 - val_loss: 1.7253 - val_accuracy: 0.7299\n",
      " — val_f1: 0.7327893931667516 — val_precision: 0.709279368213228, — val_recall: 0.7579113924050633\n",
      "Epoch 140/200\n",
      "31/31 [==============================] - 0s 15ms/step - loss: 0.0631 - accuracy: 0.9771 - val_loss: 1.7487 - val_accuracy: 0.7387\n",
      " — val_f1: 0.7432911392405063 — val_precision: 0.7147030185004869, — val_recall: 0.7742616033755274\n",
      "Epoch 141/200\n",
      "31/31 [==============================] - 1s 17ms/step - loss: 0.0547 - accuracy: 0.9811 - val_loss: 1.7269 - val_accuracy: 0.7317\n",
      " — val_f1: 0.7423904974016332 — val_precision: 0.6993006993006993, — val_recall: 0.7911392405063291\n",
      "Epoch 142/200\n",
      "31/31 [==============================] - 1s 17ms/step - loss: 0.0480 - accuracy: 0.9846 - val_loss: 1.8254 - val_accuracy: 0.7253\n",
      " — val_f1: 0.7408847836655323 — val_precision: 0.6871055004508566, — val_recall: 0.8037974683544303\n",
      "Epoch 143/200\n",
      "31/31 [==============================] - 0s 16ms/step - loss: 0.0680 - accuracy: 0.9739 - val_loss: 1.7799 - val_accuracy: 0.7307\n",
      " — val_f1: 0.7363108755992934 — val_precision: 0.7058538945331398, — val_recall: 0.7695147679324894\n",
      "Epoch 144/200\n",
      "31/31 [==============================] - 1s 16ms/step - loss: 0.0560 - accuracy: 0.9806 - val_loss: 1.9566 - val_accuracy: 0.7162\n",
      " — val_f1: 0.7337363966142684 — val_precision: 0.6775346136668156, — val_recall: 0.8001054852320675\n",
      "Epoch 145/200\n",
      "31/31 [==============================] - 1s 17ms/step - loss: 0.0537 - accuracy: 0.9806 - val_loss: 1.9226 - val_accuracy: 0.7211\n",
      " — val_f1: 0.7388996138996139 — val_precision: 0.681049822064057, — val_recall: 0.8074894514767933\n",
      "Epoch 146/200\n",
      "31/31 [==============================] - 1s 18ms/step - loss: 0.0576 - accuracy: 0.9800 - val_loss: 1.8214 - val_accuracy: 0.7332\n",
      " — val_f1: 0.7405364753070945 — val_precision: 0.705685618729097, — val_recall: 0.7790084388185654\n",
      "Epoch 147/200\n",
      "31/31 [==============================] - 1s 16ms/step - loss: 0.0707 - accuracy: 0.9732 - val_loss: 1.7785 - val_accuracy: 0.7358\n",
      " — val_f1: 0.74368592148037 — val_precision: 0.7070851165002378, — val_recall: 0.7842827004219409\n",
      "Epoch 148/200\n",
      "31/31 [==============================] - 1s 17ms/step - loss: 0.0603 - accuracy: 0.9774 - val_loss: 1.9327 - val_accuracy: 0.7276\n",
      " — val_f1: 0.7436332767402377 — val_precision: 0.6883700044903458, — val_recall: 0.8085443037974683\n",
      "Epoch 149/200\n",
      "31/31 [==============================] - 1s 18ms/step - loss: 0.0536 - accuracy: 0.9809 - val_loss: 1.8235 - val_accuracy: 0.7343\n",
      " — val_f1: 0.7457459926017262 — val_precision: 0.7003242241778601, — val_recall: 0.7974683544303798\n",
      "Epoch 150/200\n",
      "31/31 [==============================] - 1s 16ms/step - loss: 0.0587 - accuracy: 0.9772 - val_loss: 1.9749 - val_accuracy: 0.7214\n",
      " — val_f1: 0.7345936656027497 — val_precision: 0.6871841984382178, — val_recall: 0.7890295358649789\n",
      "Epoch 151/200\n",
      "31/31 [==============================] - 0s 16ms/step - loss: 0.0515 - accuracy: 0.9821 - val_loss: 1.9874 - val_accuracy: 0.7332\n",
      " — val_f1: 0.7458875521728456 — val_precision: 0.6977491961414791, — val_recall: 0.8011603375527426\n",
      "Epoch 152/200\n",
      "31/31 [==============================] - 1s 16ms/step - loss: 0.0527 - accuracy: 0.9792 - val_loss: 1.9492 - val_accuracy: 0.7291\n",
      " — val_f1: 0.7410692288741069 — val_precision: 0.6953305594082293, — val_recall: 0.7932489451476793\n",
      "Epoch 153/200\n",
      "31/31 [==============================] - 0s 15ms/step - loss: 0.0435 - accuracy: 0.9857 - val_loss: 2.0544 - val_accuracy: 0.7247\n",
      " — val_f1: 0.7391304347826088 — val_precision: 0.6883530482256597, — val_recall: 0.7979957805907173\n",
      "Epoch 154/200\n",
      "31/31 [==============================] - 1s 17ms/step - loss: 0.0445 - accuracy: 0.9841 - val_loss: 2.1240 - val_accuracy: 0.7191\n",
      " — val_f1: 0.7381066794810188 — val_precision: 0.677846425419241, — val_recall: 0.810126582278481\n",
      "Epoch 155/200\n",
      "31/31 [==============================] - 1s 18ms/step - loss: 0.0374 - accuracy: 0.9873 - val_loss: 2.0982 - val_accuracy: 0.7201\n",
      " — val_f1: 0.7403156384505021 — val_precision: 0.6771653543307087, — val_recall: 0.8164556962025317\n",
      "Epoch 156/200\n",
      "31/31 [==============================] - 1s 17ms/step - loss: 0.0400 - accuracy: 0.9849 - val_loss: 2.0184 - val_accuracy: 0.7263\n",
      " — val_f1: 0.7376482213438735 — val_precision: 0.6937732342007435, — val_recall: 0.7874472573839663\n",
      "Epoch 157/200\n",
      "31/31 [==============================] - 1s 23ms/step - loss: 0.0403 - accuracy: 0.9868 - val_loss: 2.1157 - val_accuracy: 0.7144\n",
      " — val_f1: 0.7339097022094141 — val_precision: 0.673721340388007, — val_recall: 0.8059071729957806\n",
      "Epoch 158/200\n",
      "31/31 [==============================] - 1s 17ms/step - loss: 0.0473 - accuracy: 0.9813 - val_loss: 2.2174 - val_accuracy: 0.7108\n",
      " — val_f1: 0.7306769083053289 — val_precision: 0.6704845814977973, — val_recall: 0.8027426160337553\n",
      "Epoch 159/200\n",
      "31/31 [==============================] - 1s 18ms/step - loss: 0.0581 - accuracy: 0.9787 - val_loss: 1.9327 - val_accuracy: 0.7289\n",
      " — val_f1: 0.738568588469185 — val_precision: 0.6983082706766918, — val_recall: 0.7837552742616034\n",
      "Epoch 160/200\n",
      "31/31 [==============================] - 1s 17ms/step - loss: 0.0552 - accuracy: 0.9800 - val_loss: 2.0171 - val_accuracy: 0.7247\n",
      " — val_f1: 0.7307110438729197 — val_precision: 0.7, — val_recall: 0.7642405063291139\n",
      "Epoch 161/200\n",
      "31/31 [==============================] - 1s 18ms/step - loss: 0.0466 - accuracy: 0.9844 - val_loss: 2.0202 - val_accuracy: 0.7273\n",
      " — val_f1: 0.7377293009419932 — val_precision: 0.695977549111319, — val_recall: 0.7848101265822784\n",
      "Epoch 162/200\n",
      "31/31 [==============================] - 0s 15ms/step - loss: 0.0414 - accuracy: 0.9859 - val_loss: 2.0780 - val_accuracy: 0.7209\n",
      " — val_f1: 0.738342594829669 — val_precision: 0.6812304948729381, — val_recall: 0.8059071729957806\n",
      "Epoch 163/200\n",
      "31/31 [==============================] - 1s 16ms/step - loss: 0.0648 - accuracy: 0.9732 - val_loss: 2.1717 - val_accuracy: 0.7240\n",
      " — val_f1: 0.7360118314025144 — val_precision: 0.6908838500694123, — val_recall: 0.7874472573839663\n",
      "Epoch 164/200\n",
      "31/31 [==============================] - 1s 17ms/step - loss: 0.0567 - accuracy: 0.9792 - val_loss: 2.1552 - val_accuracy: 0.7152\n",
      " — val_f1: 0.7253293562018394 — val_precision: 0.685942642219088, — val_recall: 0.7695147679324894\n",
      "Epoch 165/200\n",
      "31/31 [==============================] - 1s 17ms/step - loss: 0.0498 - accuracy: 0.9826 - val_loss: 2.0316 - val_accuracy: 0.7366\n",
      " — val_f1: 0.7413967611336033 — val_precision: 0.7125486381322957, — val_recall: 0.7726793248945147\n",
      "Epoch 166/200\n",
      "31/31 [==============================] - 0s 15ms/step - loss: 0.0502 - accuracy: 0.9822 - val_loss: 2.2759 - val_accuracy: 0.7155\n",
      " — val_f1: 0.7357587362374342 — val_precision: 0.6735319894829097, — val_recall: 0.8106540084388185\n",
      "Epoch 167/200\n",
      "31/31 [==============================] - 0s 16ms/step - loss: 0.0538 - accuracy: 0.9797 - val_loss: 2.2019 - val_accuracy: 0.7155\n",
      " — val_f1: 0.7372679676344598 — val_precision: 0.6717259323503902, — val_recall: 0.8169831223628692\n",
      "Epoch 168/200\n",
      "31/31 [==============================] - 0s 16ms/step - loss: 0.0438 - accuracy: 0.9849 - val_loss: 2.0772 - val_accuracy: 0.7291\n",
      " — val_f1: 0.7391412261106974 — val_precision: 0.6980778246601032, — val_recall: 0.7853375527426161\n",
      "Epoch 169/200\n",
      "31/31 [==============================] - 1s 17ms/step - loss: 0.0478 - accuracy: 0.9831 - val_loss: 2.0063 - val_accuracy: 0.7255\n",
      " — val_f1: 0.7338165458635341 — val_precision: 0.6973871733966746, — val_recall: 0.7742616033755274\n",
      "Epoch 170/200\n"
     ]
    },
    {
     "name": "stdout",
     "output_type": "stream",
     "text": [
      "31/31 [==============================] - 1s 17ms/step - loss: 0.0460 - accuracy: 0.9838 - val_loss: 1.9725 - val_accuracy: 0.7376\n",
      " — val_f1: 0.7483934750370735 — val_precision: 0.7041860465116279, — val_recall: 0.7985232067510548\n",
      "Epoch 171/200\n",
      "31/31 [==============================] - 0s 16ms/step - loss: 0.0490 - accuracy: 0.9828 - val_loss: 2.2609 - val_accuracy: 0.7070\n",
      " — val_f1: 0.7347795661301609 — val_precision: 0.6587202007528231, — val_recall: 0.8306962025316456\n",
      "Epoch 172/200\n",
      "31/31 [==============================] - 1s 17ms/step - loss: 0.0566 - accuracy: 0.9788 - val_loss: 2.0797 - val_accuracy: 0.7263\n",
      " — val_f1: 0.7356893977103037 — val_precision: 0.6965127238454288, — val_recall: 0.7795358649789029\n",
      "Epoch 173/200\n",
      "31/31 [==============================] - 0s 15ms/step - loss: 0.0402 - accuracy: 0.9868 - val_loss: 2.2303 - val_accuracy: 0.7235\n",
      " — val_f1: 0.7407586373520174 — val_precision: 0.683459652251449, — val_recall: 0.8085443037974683\n",
      "Epoch 174/200\n",
      "31/31 [==============================] - 0s 15ms/step - loss: 0.0534 - accuracy: 0.9807 - val_loss: 2.1122 - val_accuracy: 0.7374\n",
      " — val_f1: 0.7467064379816057 — val_precision: 0.7061589092618712, — val_recall: 0.7921940928270043\n",
      "Epoch 175/200\n",
      "31/31 [==============================] - 0s 16ms/step - loss: 0.0446 - accuracy: 0.9833 - val_loss: 2.2490 - val_accuracy: 0.7268\n",
      " — val_f1: 0.7433414043583535 — val_precision: 0.6871083258728737, — val_recall: 0.8095991561181435\n",
      "Epoch 176/200\n",
      "31/31 [==============================] - 0s 15ms/step - loss: 0.0451 - accuracy: 0.9841 - val_loss: 2.0941 - val_accuracy: 0.7358\n",
      " — val_f1: 0.7421383647798743 — val_precision: 0.7094757094757095, — val_recall: 0.7779535864978903\n",
      "Epoch 177/200\n",
      "31/31 [==============================] - 0s 15ms/step - loss: 0.0410 - accuracy: 0.9858 - val_loss: 2.1609 - val_accuracy: 0.7461\n",
      " — val_f1: 0.7505697644973411 — val_precision: 0.7218704335119338, — val_recall: 0.7816455696202531\n",
      "Epoch 178/200\n",
      "31/31 [==============================] - 0s 16ms/step - loss: 0.0401 - accuracy: 0.9857 - val_loss: 2.0712 - val_accuracy: 0.7415\n",
      " — val_f1: 0.7479266147273184 — val_precision: 0.71435429668747, — val_recall: 0.7848101265822784\n",
      "Epoch 179/200\n",
      "31/31 [==============================] - 0s 16ms/step - loss: 0.0414 - accuracy: 0.9865 - val_loss: 2.0706 - val_accuracy: 0.7361\n",
      " — val_f1: 0.740628166160081 — val_precision: 0.7124756335282652, — val_recall: 0.7710970464135021\n",
      "Epoch 180/200\n",
      "31/31 [==============================] - 1s 16ms/step - loss: 0.0350 - accuracy: 0.9879 - val_loss: 2.0924 - val_accuracy: 0.7446\n",
      " — val_f1: 0.7503149407911313 — val_precision: 0.718282682103232, — val_recall: 0.7853375527426161\n",
      "Epoch 181/200\n",
      "31/31 [==============================] - 0s 15ms/step - loss: 0.0371 - accuracy: 0.9864 - val_loss: 2.0778 - val_accuracy: 0.7343\n",
      " — val_f1: 0.7414095811387006 — val_precision: 0.7068388330942132, — val_recall: 0.7795358649789029\n",
      "Epoch 182/200\n",
      "31/31 [==============================] - 0s 15ms/step - loss: 0.0301 - accuracy: 0.9895 - val_loss: 2.1200 - val_accuracy: 0.7309\n",
      " — val_f1: 0.7417120237506185 — val_precision: 0.6985088536812675, — val_recall: 0.7906118143459916\n",
      "Epoch 183/200\n",
      "31/31 [==============================] - 1s 17ms/step - loss: 0.0343 - accuracy: 0.9889 - val_loss: 2.0886 - val_accuracy: 0.7343\n",
      " — val_f1: 0.7429568686113189 — val_precision: 0.7044917257683215, — val_recall: 0.7858649789029536\n",
      "Epoch 184/200\n",
      "31/31 [==============================] - 1s 18ms/step - loss: 0.0383 - accuracy: 0.9888 - val_loss: 2.0632 - val_accuracy: 0.7425\n",
      " — val_f1: 0.7377264373851405 — val_precision: 0.7344485101934135, — val_recall: 0.7410337552742616\n",
      "Epoch 185/200\n",
      "31/31 [==============================] - 1s 17ms/step - loss: 0.0377 - accuracy: 0.9869 - val_loss: 2.1075 - val_accuracy: 0.7394\n",
      " — val_f1: 0.7358244055395871 — val_precision: 0.7291558777835319, — val_recall: 0.7426160337552743\n",
      "Epoch 186/200\n",
      "31/31 [==============================] - 1s 18ms/step - loss: 0.0425 - accuracy: 0.9846 - val_loss: 2.1131 - val_accuracy: 0.7340\n",
      " — val_f1: 0.742899850523169 — val_precision: 0.7039660056657224, — val_recall: 0.7863924050632911\n",
      "Epoch 187/200\n",
      "31/31 [==============================] - 0s 16ms/step - loss: 0.0369 - accuracy: 0.9884 - val_loss: 2.1120 - val_accuracy: 0.7356\n",
      " — val_f1: 0.7391967463141841 — val_precision: 0.7134445534838076, — val_recall: 0.7668776371308017\n",
      "Epoch 188/200\n",
      "31/31 [==============================] - 1s 16ms/step - loss: 0.0323 - accuracy: 0.9907 - val_loss: 2.2046 - val_accuracy: 0.7198\n",
      " — val_f1: 0.7315386515188935 — val_precision: 0.6878773803994427, — val_recall: 0.7811181434599156\n",
      "Epoch 189/200\n",
      "31/31 [==============================] - 1s 17ms/step - loss: 0.0390 - accuracy: 0.9880 - val_loss: 2.1282 - val_accuracy: 0.7330\n",
      " — val_f1: 0.7387796268280383 — val_precision: 0.7077294685990339, — val_recall: 0.7726793248945147\n",
      "Epoch 190/200\n",
      "31/31 [==============================] - 1s 17ms/step - loss: 0.0321 - accuracy: 0.9879 - val_loss: 2.1387 - val_accuracy: 0.7351\n",
      " — val_f1: 0.7419678714859438 — val_precision: 0.7078544061302682, — val_recall: 0.7795358649789029\n",
      "Epoch 191/200\n",
      "31/31 [==============================] - 0s 16ms/step - loss: 0.0309 - accuracy: 0.9905 - val_loss: 2.1529 - val_accuracy: 0.7348\n",
      " — val_f1: 0.7424280350438047 — val_precision: 0.7065269175797999, — val_recall: 0.7821729957805907\n",
      "Epoch 192/200\n",
      "31/31 [==============================] - 0s 16ms/step - loss: 0.0298 - accuracy: 0.9896 - val_loss: 2.1589 - val_accuracy: 0.7322\n",
      " — val_f1: 0.7375599898964385 — val_precision: 0.7077072224915172, — val_recall: 0.770042194092827\n",
      "Epoch 193/200\n",
      "31/31 [==============================] - 1s 17ms/step - loss: 0.0341 - accuracy: 0.9874 - val_loss: 2.3043 - val_accuracy: 0.7229\n",
      " — val_f1: 0.7356774034915171 — val_precision: 0.6890833717181023, — val_recall: 0.7890295358649789\n",
      "Epoch 194/200\n",
      "31/31 [==============================] - 1s 17ms/step - loss: 0.0558 - accuracy: 0.9791 - val_loss: 2.2232 - val_accuracy: 0.7399\n",
      " — val_f1: 0.7485671567405932 — val_precision: 0.7094945677846008, — val_recall: 0.7921940928270043\n",
      "Epoch 195/200\n",
      "31/31 [==============================] - 0s 16ms/step - loss: 0.0486 - accuracy: 0.9831 - val_loss: 2.1382 - val_accuracy: 0.7384\n",
      " — val_f1: 0.7480764457681807 — val_precision: 0.706516643225504, — val_recall: 0.794831223628692\n",
      "Epoch 196/200\n",
      "31/31 [==============================] - 1s 20ms/step - loss: 0.0463 - accuracy: 0.9823 - val_loss: 2.1750 - val_accuracy: 0.7456\n",
      " — val_f1: 0.7510718789407315 — val_precision: 0.7196713388110199, — val_recall: 0.7853375527426161\n",
      "Epoch 197/200\n",
      "31/31 [==============================] - 0s 15ms/step - loss: 0.0398 - accuracy: 0.9868 - val_loss: 2.3809 - val_accuracy: 0.7276\n",
      " — val_f1: 0.7399753997539976 — val_precision: 0.6934071000461042, — val_recall: 0.7932489451476793\n",
      "Epoch 198/200\n",
      "31/31 [==============================] - 0s 16ms/step - loss: 0.0344 - accuracy: 0.9882 - val_loss: 2.3789 - val_accuracy: 0.7299\n",
      " — val_f1: 0.746615087040619 — val_precision: 0.6892857142857143, — val_recall: 0.8143459915611815\n",
      "Epoch 199/200\n",
      "31/31 [==============================] - 1s 17ms/step - loss: 0.0416 - accuracy: 0.9837 - val_loss: 2.1724 - val_accuracy: 0.7343\n",
      " — val_f1: 0.7427002745195908 — val_precision: 0.7048792041686405, — val_recall: 0.7848101265822784\n",
      "Epoch 200/200\n",
      "31/31 [==============================] - 1s 17ms/step - loss: 0.0564 - accuracy: 0.9798 - val_loss: 2.2477 - val_accuracy: 0.7260\n",
      " — val_f1: 0.7418022832159339 — val_precision: 0.6875281404772625, — val_recall: 0.805379746835443\n"
     ]
    }
   ],
   "source": [
    "# Create the model\n",
    "agn_NN = AGN_NN(x_train_nn.shape[1:])\n",
    "\n",
    "# compile the model\n",
    "agn_NN.compile(loss='binary_crossentropy', optimizer='adam', metrics=['accuracy'])\n",
    "\n",
    "# Create a tensorboard logger\n",
    "RUN_NAME = 'run 1 with conv16_32_32 fc64_16_1'\n",
    "logger = keras.callbacks.TensorBoard(log_dir=f'logs/{RUN_NAME}',\n",
    "                                    histogram_freq=5,\n",
    "                                    write_graph=True)\n",
    "\n",
    "# Train the model\n",
    "history = agn_NN.fit(x_train_nn, \n",
    "          y_train,\n",
    "          validation_data=(x_dev_nn, y_dev),\n",
    "          callbacks=[logger, Metrics(validation=(x_dev_nn, y_dev))], \n",
    "          epochs=200, \n",
    "          batch_size=512,   \n",
    "          verbose=1)"
   ]
  },
  {
   "cell_type": "code",
   "execution_count": 47,
   "metadata": {},
   "outputs": [
    {
     "name": "stdout",
     "output_type": "stream",
     "text": [
      "8/8 [==============================] - 0s 4ms/step - loss: 2.2477 - accuracy: 0.7260\n",
      "Loss = 2.247713088989258\n",
      "Test Accuracy = 0.7260309457778931\n"
     ]
    }
   ],
   "source": [
    "# Evaluate model\n",
    "preds = agn_NN.evaluate(x=x_dev_nn, y=y_dev, batch_size=512)\n",
    "print (\"Loss = \" + str(preds[0]))\n",
    "print (\"Test Accuracy = \" + str(preds[1]))"
   ]
  },
  {
   "cell_type": "code",
   "execution_count": 50,
   "metadata": {},
   "outputs": [
    {
     "name": "stdout",
     "output_type": "stream",
     "text": [
      "8/8 [==============================] - 0s 3ms/step\n",
      "31/31 [==============================] - 0s 4ms/step\n",
      "The training set f1 score is 0.959070425712428\n",
      "the dev set f1 score is 0.7246239307176243\n"
     ]
    },
    {
     "data": {
      "image/png": "[encoded data removed]",
      "text/plain": [
       "<Figure size 216x216 with 1 Axes>"
      ]
     },
     "metadata": {},
     "output_type": "display_data"
    }
   ],
   "source": [
    "yhat_dev_cnn0 = agn_NN.predict(x_dev_nn, batch_size=512, verbose=1)\n",
    "yhat_dev_cnn = np.where(yhat_dev_cnn0 >= 0.5, 1, 0)\n",
    "#yhat_dev = np.argmax(yhat_dev0, axis=1)\n",
    "yhat_train_cnn0 = agn_NN.predict(x_train_nn, batch_size=512, verbose=1)\n",
    "yhat_train_cnn = np.where(yhat_train_cnn0 >= 0.5, 1, 0)\n",
    "#yhat_train = np.argmax(yhat_train0, axis=1)\n",
    "print(f\"The training set f1 score is {f1_score(y_train, yhat_train_cnn, average='weighted')}\")\n",
    "print(f\"the dev set f1 score is {f1_score(y_dev, yhat_dev_cnn, average='weighted')}\") \n",
    "\n",
    "# Plot Confusion Matrix\n",
    "conf_matrix(y_dev, yhat_dev_cnn)"
   ]
  },
  {
   "cell_type": "markdown",
   "metadata": {},
   "source": [
    "<font color='green'>Model Summary"
   ]
  },
  {
   "cell_type": "code",
   "execution_count": 51,
   "metadata": {
    "scrolled": true
   },
   "outputs": [
    {
     "name": "stdout",
     "output_type": "stream",
     "text": [
      "Model: \"AGN_NN\"\n",
      "_________________________________________________________________\n",
      "Layer (type)                 Output Shape              Param #   \n",
      "=================================================================\n",
      "input_1 (InputLayer)         [(None, 26, 1, 1)]        0         \n",
      "_________________________________________________________________\n",
      "conv0 (Conv2D)               (None, 26, 1, 16)         32        \n",
      "_________________________________________________________________\n",
      "bn0 (BatchNormalization)     (None, 26, 1, 16)         64        \n",
      "_________________________________________________________________\n",
      "activation (Activation)      (None, 26, 1, 16)         0         \n",
      "_________________________________________________________________\n",
      "conv1 (Conv2D)               (None, 26, 1, 32)         544       \n",
      "_________________________________________________________________\n",
      "bn1 (BatchNormalization)     (None, 26, 1, 32)         128       \n",
      "_________________________________________________________________\n",
      "activation_1 (Activation)    (None, 26, 1, 32)         0         \n",
      "_________________________________________________________________\n",
      "conv2 (Conv2D)               (None, 26, 1, 32)         1056      \n",
      "_________________________________________________________________\n",
      "bn2 (BatchNormalization)     (None, 26, 1, 32)         128       \n",
      "_________________________________________________________________\n",
      "activation_2 (Activation)    (None, 26, 1, 32)         0         \n",
      "_________________________________________________________________\n",
      "flatten (Flatten)            (None, 832)               0         \n",
      "_________________________________________________________________\n",
      "fc0 (Dense)                  (None, 64)                53312     \n",
      "_________________________________________________________________\n",
      "fc1 (Dense)                  (None, 16)                1040      \n",
      "_________________________________________________________________\n",
      "fc2 (Dense)                  (None, 1)                 17        \n",
      "=================================================================\n",
      "Total params: 56,321\n",
      "Trainable params: 56,161\n",
      "Non-trainable params: 160\n",
      "_________________________________________________________________\n"
     ]
    }
   ],
   "source": [
    "agn_NN.summary()"
   ]
  },
  {
   "cell_type": "code",
   "execution_count": null,
   "metadata": {},
   "outputs": [],
   "source": [
    "# open a terminal and run\n",
    "tensorboard --logdir=/data/blackbase/notebooks/physics/sicong/AGN_Classifier/version_1/logs --port=6008"
   ]
  },
  {
   "cell_type": "code",
   "execution_count": 23,
   "metadata": {},
   "outputs": [],
   "source": [
    "%load_ext tensorboard"
   ]
  },
  {
   "cell_type": "code",
   "execution_count": 25,
   "metadata": {},
   "outputs": [],
   "source": [
    "%tensorboard --logdir /data/blackbase/notebooks/physics/sicong/AGN_Classifier/version_1/logs"
   ]
  },
  {
   "cell_type": "code",
   "execution_count": 65,
   "metadata": {},
   "outputs": [
    {
     "name": "stdout",
     "output_type": "stream",
     "text": [
      "dict_keys([])\n"
     ]
    }
   ],
   "source": [
    "print(agn_NN.history.history.keys())"
   ]
  },
  {
   "cell_type": "code",
   "execution_count": 52,
   "metadata": {},
   "outputs": [
    {
     "name": "stdout",
     "output_type": "stream",
     "text": [
      "<tensorflow.python.keras.callbacks.History object at 0x7fe3f6c511d0>\n"
     ]
    }
   ],
   "source": [
    "print(agn_NN.history)"
   ]
  },
  {
   "cell_type": "markdown",
   "metadata": {},
   "source": [
    "<font color='green'> Plot"
   ]
  },
  {
   "cell_type": "code",
   "execution_count": 53,
   "metadata": {},
   "outputs": [
    {
     "data": {
      "image/png": "[encoded data removed]",
      "text/plain": [
       "<Figure size 432x288 with 1 Axes>"
      ]
     },
     "metadata": {},
     "output_type": "display_data"
    }
   ],
   "source": [
    "# plot training history\n",
    "plt.plot(history.history['accuracy'], label='train')\n",
    "plt.plot(history.history['val_accuracy'], label='test')\n",
    "plt.legend()\n",
    "plt.show()"
   ]
  },
  {
   "cell_type": "code",
   "execution_count": 54,
   "metadata": {
    "scrolled": true
   },
   "outputs": [
    {
     "data": {
      "image/png": "[encoded data removed]",
      "text/plain": [
       "<Figure size 432x288 with 1 Axes>"
      ]
     },
     "metadata": {},
     "output_type": "display_data"
    }
   ],
   "source": [
    "plt.plot(history.history['loss'], label='train')\n",
    "plt.plot(history.history['val_loss'], label='test')\n",
    "plt.legend()\n",
    "plt.show()"
   ]
  },
  {
   "cell_type": "markdown",
   "metadata": {},
   "source": [
    "<font color='green'> Early stopping\n",
    "see https://machinelearningmastery.com/how-to-stop-training-deep-neural-networks-at-the-right-time-using-early-stopping/"
   ]
  },
  {
   "cell_type": "markdown",
   "metadata": {},
   "source": [
    "<font color='green'>Save model to file"
   ]
  },
  {
   "cell_type": "code",
   "execution_count": 55,
   "metadata": {},
   "outputs": [
    {
     "name": "stdout",
     "output_type": "stream",
     "text": [
      "INFO:tensorflow:Assets written to: agn_NN.pd/assets\n"
     ]
    }
   ],
   "source": [
    "agn_NN.save('agn_NN.pd')"
   ]
  },
  {
   "cell_type": "code",
   "execution_count": 56,
   "metadata": {},
   "outputs": [
    {
     "name": "stdout",
     "output_type": "stream",
     "text": [
      "Stored 'yhat_train_cnn' (ndarray)\n",
      "Stored 'yhat_dev_cnn' (ndarray)\n"
     ]
    }
   ],
   "source": [
    "%store yhat_train_cnn\n",
    "%store yhat_dev_cnn"
   ]
  },
  {
   "cell_type": "code",
   "execution_count": 57,
   "metadata": {},
   "outputs": [
    {
     "name": "stdout",
     "output_type": "stream",
     "text": [
      "Stored 'yhat_dev_prob_cnn' (ndarray)\n",
      "Stored 'yhat_train_prob_cnn' (ndarray)\n"
     ]
    }
   ],
   "source": [
    "yhat_dev_prob_cnn = yhat_dev_cnn0\n",
    "yhat_train_prob_cnn = yhat_train_cnn0\n",
    "%store yhat_dev_prob_cnn\n",
    "%store yhat_train_prob_cnn"
   ]
  },
  {
   "cell_type": "code",
   "execution_count": null,
   "metadata": {},
   "outputs": [],
   "source": []
  }
 ],
 "metadata": {
  "kernelspec": {
   "display_name": "Python 3.6.5 64-bit",
   "language": "python",
   "name": "python36564bit93b81c14a79841988c96843b1cebe27c"
  },
  "language_info": {
   "codemirror_mode": {
    "name": "ipython",
    "version": 3
   },
   "file_extension": ".py",
   "mimetype": "text/x-python",
   "name": "python",
   "nbconvert_exporter": "python",
   "pygments_lexer": "ipython3",
   "version": "3.6.5"
  },
  "toc-autonumbering": false
 },
 "nbformat": 4,
 "nbformat_minor": 4
}
