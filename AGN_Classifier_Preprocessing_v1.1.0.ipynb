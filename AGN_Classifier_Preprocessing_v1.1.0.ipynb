{
 "cells": [
  {
   "cell_type": "markdown",
   "metadata": {},
   "source": [
    "<h1> <center><font color='green' > <b>AGN Classifier for AGNDB</b></font> </center></h1>\n",
    "\n",
    "# Data Preprocessing\n",
    "by Sicong Huang <br> \\\n",
    "<font color='blue'>Python Version: 3.6.5 <br>\n",
    "AGNDB Version: 1.1.0"
   ]
  },
  {
   "cell_type": "markdown",
   "metadata": {},
   "source": [
    "# THE QUESTION: <br><font color='green'>How to use ML methods to classify agn and non-agns?</font>"
   ]
  },
  {
   "cell_type": "markdown",
   "metadata": {},
   "source": [
    "# Goal of Data Preprocessing\n",
    "<font color='green'>Nico: \"We need to get rid of the galaxies and stars in our database. They are useless!\" <br>\n",
    "<font color='red'>\n",
    "- Test new database (v1.1.0)\n",
    "- Identify AGN and non-AGN in our database so as to remove the non-AGN contaimination.\n",
    "- Downsampling AGN to remove data imbalance.\n",
    "- Creat training, dev and testing sets for ML models.\n",
    "- Use TSNE plot for clustering visulizaion.   \n",
    "    "
   ]
  },
  {
   "cell_type": "markdown",
   "metadata": {},
   "source": [
    "# Analytic Approach\n",
    "<font color='green'>__Machine learning & deep learning__:\n",
    "- Logistic Regression\n",
    "- Kernal SVM\n",
    "- Random Forest\n",
    "- Convolutional Neural Network"
   ]
  },
  {
   "cell_type": "markdown",
   "metadata": {},
   "source": [
    "# IMPORT LIBRARIES"
   ]
  },
  {
   "cell_type": "code",
   "execution_count": 263,
   "metadata": {},
   "outputs": [],
   "source": [
    "# System\n",
    "import os\n",
    "import glob\n",
    "from tqdm import tqdm\n",
    "from IPython.display import Markdown, display, Audio\n",
    "\n",
    "# Web Scraping\n",
    "\n",
    "# Data Analysis\n",
    "import pandas as pd\n",
    "from pandas_profiling import ProfileReport\n",
    "import numpy as np\n",
    "from scipy import stats\n",
    "from sklearn.manifold import TSNE\n",
    "\n",
    "\n",
    "# Data Visualization\n",
    "import matplotlib.pyplot as plt\n",
    "import plotnine as p9\n",
    "import seaborn as sns\n",
    "%matplotlib inline"
   ]
  },
  {
   "cell_type": "markdown",
   "metadata": {},
   "source": [
    "# Functions"
   ]
  },
  {
   "cell_type": "code",
   "execution_count": 264,
   "metadata": {},
   "outputs": [],
   "source": [
    "def sound_effect(fail=0):\n",
    "    \"\"\"\n",
    "    Play a sound when job is finished\n",
    "    \"\"\"\n",
    "    if fail == 0:\n",
    "        sound_file = '/data/home/sicong/sounds/jobs-done_1.mp3'\n",
    "        display(Audio(sound_file, autoplay=True))\n",
    "    else:\n",
    "        sound_file = '/data/home/sicong/sounds/oh-shit-im-sorry_0001.mp3'\n",
    "        display(Audio(sound_file, autoplay=True))"
   ]
  },
  {
   "cell_type": "code",
   "execution_count": 2,
   "metadata": {},
   "outputs": [],
   "source": [
    "def printmd(string):\n",
    "    \"\"\"\n",
    "    print in markdown style\n",
    "    \"\"\"\n",
    "    display(Markdown(string))"
   ]
  },
  {
   "cell_type": "code",
   "execution_count": 3,
   "metadata": {
    "scrolled": true
   },
   "outputs": [
    {
     "data": {
      "text/markdown": [
       "**<font color='purple'>This is a test.**"
      ],
      "text/plain": [
       "<IPython.core.display.Markdown object>"
      ]
     },
     "metadata": {},
     "output_type": "display_data"
    }
   ],
   "source": [
    "printmd(\"**<font color='purple'>This is a test.**\")"
   ]
  },
  {
   "cell_type": "code",
   "execution_count": 52,
   "metadata": {},
   "outputs": [],
   "source": [
    "def non_nan_percent(df, cols):\n",
    "    '''\n",
    "    This function returns the percentage \n",
    "    of non-NaN values sorted by percentage\n",
    "    '''\n",
    "    perc = {col:f\"{len(df[col].dropna())/len(df[col])*100 :.2f} %\" for col in cols}\n",
    "    perc = dict(sorted(perc.items(), key=lambda item: float(item[1].split('%')[0]), reverse=True))\n",
    "    return perc"
   ]
  },
  {
   "cell_type": "code",
   "execution_count": 53,
   "metadata": {},
   "outputs": [],
   "source": [
    "def nan_percent(df, cols):\n",
    "    '''\n",
    "    This function returns the percentage \n",
    "    of NaN values sorted by percentage\n",
    "    '''\n",
    "    perc = {col:f\"{(1-len(df[col].dropna())/len(df[col]))*100 :.2f} %\" for col in cols}\n",
    "    perc = dict(sorted(perc.items(), key=lambda item: float(item[1].split('%')[0]), reverse=False))\n",
    "    return perc"
   ]
  },
  {
   "cell_type": "code",
   "execution_count": 54,
   "metadata": {},
   "outputs": [],
   "source": [
    "def combine_columns(df, column_names):\n",
    "    '''\n",
    "    This function merges the columns \n",
    "    with first come first serve order\n",
    "    and returns a new df series\n",
    "    '''\n",
    "    col = df[column_names[0]]\n",
    "    for name in column_names[1:]:\n",
    "        col = col.combine_first(df[name])\n",
    "    return col"
   ]
  },
  {
   "cell_type": "code",
   "execution_count": 55,
   "metadata": {},
   "outputs": [],
   "source": [
    "def predict(x):\n",
    "    '''simple liear regression'''\n",
    "    return slope*x + intercept"
   ]
  },
  {
   "cell_type": "markdown",
   "metadata": {},
   "source": [
    "# Data Requirements \n",
    "Identify the necessary data content, formats and sources for initial data collection."
   ]
  },
  {
   "cell_type": "code",
   "execution_count": 8,
   "metadata": {},
   "outputs": [
    {
     "data": {
      "text/plain": [
       "['/data/blackbase/final/master-Redshift-store.csv',\n",
       " '/data/blackbase/final/master-Morphology-store.csv',\n",
       " '/data/blackbase/final/master-Photometry-store.csv',\n",
       " '/data/blackbase/final/master-converted-Photometry-store.csv',\n",
       " '/data/blackbase/final/master-merged-Photometry-store.csv',\n",
       " '/data/blackbase/final/master-merged-Redshift-store.csv',\n",
       " '/data/blackbase/final/master-converted-Morphology-store.csv',\n",
       " '/data/blackbase/final/master-merged-Morphology-store.csv',\n",
       " '/data/blackbase/final/master-merged-all-store.csv']"
      ]
     },
     "execution_count": 8,
     "metadata": {},
     "output_type": "execute_result"
    }
   ],
   "source": [
    "glob.glob('/data/blackbase/final/*master*')"
   ]
  },
  {
   "cell_type": "code",
   "execution_count": 7,
   "metadata": {},
   "outputs": [],
   "source": [
    "# master tables\n",
    "morph_csv = '/data/blackbase/final/master-merged-Morphology-store.csv'\n",
    "photo_csv = '/data/blackbase/final/master-merged-Photometry-store.csv'\n",
    "redshift_csv = '/data/blackbase/final/master-merged-Redshift-store.csv'"
   ]
  },
  {
   "cell_type": "markdown",
   "metadata": {},
   "source": [
    "# Data Collection\n",
    "Perform data collection and data assessment."
   ]
  },
  {
   "cell_type": "code",
   "execution_count": 8,
   "metadata": {},
   "outputs": [
    {
     "name": "stderr",
     "output_type": "stream",
     "text": [
      "/home/jack/.pyenv/versions/3.6.5/lib/python3.6/site-packages/IPython/core/interactiveshell.py:3072: DtypeWarning: Columns (3,7,8,9,10,11) have mixed types.Specify dtype option on import or set low_memory=False.\n",
      "/home/jack/.pyenv/versions/3.6.5/lib/python3.6/site-packages/IPython/core/interactiveshell.py:3072: DtypeWarning: Columns (4,6,7,8,9,10,11,12,13,14,15,16,17,18,19,20,21,22,23,24,25,26,27,28,29,30,31,32,33,34) have mixed types.Specify dtype option on import or set low_memory=False.\n"
     ]
    }
   ],
   "source": [
    "# read into pandas dataframe\n",
    "df_morph_original = pd.read_csv('/data/blackbase/final/master-merged-Morphology-store.csv');\n",
    "df_photo_original = pd.read_csv('/data/blackbase/final/master-merged-Photometry-store.csv');\n",
    "df_redshift_original = pd.read_csv('/data/blackbase/final/master-merged-Redshift-store.csv');"
   ]
  },
  {
   "cell_type": "code",
   "execution_count": 9,
   "metadata": {},
   "outputs": [
    {
     "data": {
      "text/markdown": [
       "We have 1436614 sources."
      ],
      "text/plain": [
       "<IPython.core.display.Markdown object>"
      ]
     },
     "metadata": {},
     "output_type": "display_data"
    }
   ],
   "source": [
    "printmd(f'We have {len(df_photo_original)} sources.')"
   ]
  },
  {
   "cell_type": "code",
   "execution_count": 10,
   "metadata": {
    "scrolled": true
   },
   "outputs": [
    {
     "data": {
      "text/markdown": [
       "We have 204 columns for photometry datasets."
      ],
      "text/plain": [
       "<IPython.core.display.Markdown object>"
      ]
     },
     "metadata": {},
     "output_type": "display_data"
    },
    {
     "data": {
      "text/markdown": [
       "We have 19 columns for redshift datasets."
      ],
      "text/plain": [
       "<IPython.core.display.Markdown object>"
      ]
     },
     "metadata": {},
     "output_type": "display_data"
    },
    {
     "data": {
      "text/markdown": [
       "We have 13 columns for morphology datasets."
      ],
      "text/plain": [
       "<IPython.core.display.Markdown object>"
      ]
     },
     "metadata": {},
     "output_type": "display_data"
    }
   ],
   "source": [
    "printmd(f'We have {len(df_photo_original.columns)} columns for photometry datasets.')\n",
    "printmd(f'We have {len(df_redshift_original.columns)} columns for redshift datasets.')\n",
    "printmd(f'We have {len(df_morph_original.columns)} columns for morphology datasets.')"
   ]
  },
  {
   "cell_type": "markdown",
   "metadata": {},
   "source": [
    "# Data Preparation\n",
    "Data must be prepared in a way that addresses missing or invalid values and removes duplicates, toward ensuring that everything is properly formatted."
   ]
  },
  {
   "cell_type": "markdown",
   "metadata": {},
   "source": [
    "## Feature Selection"
   ]
  },
  {
   "cell_type": "markdown",
   "metadata": {},
   "source": [
    "<font color='green'>Before we move on, let's set the 'np.NaN' values in __df_morph_original__ to be 'unknown'. In this way, the classification column won't affect the sorting of master table based on missing values."
   ]
  },
  {
   "cell_type": "code",
   "execution_count": 11,
   "metadata": {},
   "outputs": [],
   "source": [
    "df_morph_original['best_class'] = df_morph_original['best_class'].replace(np.NaN, 'unknown')"
   ]
  },
  {
   "cell_type": "markdown",
   "metadata": {},
   "source": [
    "<font color='green'>There are too many unwanted columns in the original master tables. We need to select the features we want and remove the others."
   ]
  },
  {
   "cell_type": "code",
   "execution_count": 12,
   "metadata": {
    "scrolled": true
   },
   "outputs": [
    {
     "data": {
      "text/markdown": [
       "**<font color='red'>Photometry table columns:**"
      ],
      "text/plain": [
       "<IPython.core.display.Markdown object>"
      ]
     },
     "metadata": {},
     "output_type": "display_data"
    },
    {
     "name": "stdout",
     "output_type": "stream",
     "text": [
      "('Unnamed: 0', '100.00 %')\n",
      "('Unnamed: 0.1', '100.00 %')\n",
      "('Unnamed: 0.1.1', '100.00 %')\n",
      "('RA', '100.00 %')\n",
      "('DEC', '100.00 %')\n",
      "('u_extinction', '53.33 %')\n",
      "('u_mag', '51.34 %')\n",
      "('r_mag', '51.33 %')\n",
      "('i_mag', '51.08 %')\n",
      "('g_mag', '50.81 %')\n",
      "('z_mag', '50.74 %')\n",
      "('e_i_mag', '50.45 %')\n",
      "('e_z_mag', '50.45 %')\n",
      "('e_r_mag', '50.41 %')\n",
      "('e_u_mag', '50.40 %')\n",
      "('e_g_mag', '47.25 %')\n",
      "('r_extinction', '45.96 %')\n",
      "('g_extinction', '44.89 %')\n",
      "('i_extinction', '43.56 %')\n",
      "('z_extinction', '43.56 %')\n",
      "('W1_mag', '41.57 %')\n",
      "('E_B-V', '33.97 %')\n",
      "('e_rf10', '23.37 %')\n",
      "('rf10', '23.37 %')\n",
      "('e_rf12', '23.37 %')\n",
      "('rf12', '23.37 %')\n",
      "('W2_mag', '21.41 %')\n",
      "('e_W1_mag', '21.38 %')\n",
      "('W3_mag', '21.37 %')\n",
      "('W4_mag', '21.37 %')\n",
      "('e_W2_mag', '21.21 %')\n",
      "('e_W4_mag', '18.30 %')\n",
      "('e_W3_mag', '18.09 %')\n",
      "('e_counts', '10.42 %')\n",
      "('counts', '10.42 %')\n",
      "('e_xf2', '10.28 %')\n",
      "('xf2', '10.28 %')\n",
      "('e_xf6', '10.16 %')\n",
      "('xf6', '10.16 %')\n",
      "('e_xf16', '10.04 %')\n",
      "('xf16', '10.04 %')\n",
      "('e_xf15', '9.91 %')\n",
      "('xf15', '9.91 %')\n",
      "('e_xf17', '9.83 %')\n",
      "('xf17', '9.83 %')\n",
      "('e_HR2', '9.75 %')\n",
      "('HR2', '9.75 %')\n",
      "('e_HR3', '9.68 %')\n",
      "('HR3', '9.68 %')\n",
      "('e_xf14', '9.57 %')\n",
      "('xf14', '9.57 %')\n",
      "('K_mag', '9.51 %')\n",
      "('e_HR1', '9.30 %')\n",
      "('HR1', '9.30 %')\n",
      "('e_K_mag', '9.25 %')\n",
      "('e_xf18', '9.18 %')\n",
      "('xf18', '9.18 %')\n",
      "('e_HR4', '8.89 %')\n",
      "('HR4', '8.89 %')\n",
      "('J_mag', '7.32 %')\n",
      "('e_J_mag', '7.30 %')\n",
      "('H_mag', '7.30 %')\n",
      "('e_H_mag', '7.26 %')\n",
      "('NUV_mag', '7.08 %')\n",
      "('e_NUV_mag', '7.03 %')\n",
      "('e_Y_mag', '6.47 %')\n",
      "('Y_mag', '6.47 %')\n",
      "('e_HR5', '4.97 %')\n",
      "('HR5', '4.97 %')\n",
      "('e_HR6', '4.97 %')\n",
      "('HR6', '4.97 %')\n",
      "('e_HR7', '4.96 %')\n",
      "('HR7', '4.96 %')\n",
      "('xf7', '4.89 %')\n",
      "('e_xf7', '4.88 %')\n",
      "('e_xf20', '4.60 %')\n",
      "('xf20', '4.60 %')\n",
      "('e_xf11', '4.31 %')\n",
      "('xf11', '4.31 %')\n",
      "('e_xf21', '3.89 %')\n",
      "('xf21', '3.89 %')\n",
      "('FUV_mag', '2.71 %')\n",
      "('e_FUV_mag', '2.66 %')\n",
      "('B_mag', '2.43 %')\n",
      "('R_mag', '0.94 %')\n",
      "('e_xf22', '0.92 %')\n",
      "('xf22', '0.92 %')\n",
      "('snr_g', '0.89 %')\n",
      "('snr_i', '0.89 %')\n",
      "('snr_r', '0.89 %')\n",
      "('snr_u', '0.89 %')\n",
      "('snr_z', '0.89 %')\n",
      "('e_B_mag', '0.80 %')\n",
      "('e_R_mag', '0.80 %')\n",
      "('I_mag', '0.76 %')\n",
      "('e_I_mag', '0.75 %')\n",
      "('rf5', '0.68 %')\n",
      "('xcr1', '0.48 %')\n",
      "('e_xf3', '0.41 %')\n",
      "('xf3', '0.41 %')\n",
      "('e_xf10', '0.40 %')\n",
      "('xf10', '0.40 %')\n",
      "('xf1', '0.38 %')\n",
      "('e_xf1', '0.32 %')\n",
      "('V_mag', '0.28 %')\n",
      "('rf6', '0.24 %')\n",
      "('e_xcr1', '0.19 %')\n",
      "('snr_W1', '0.19 %')\n",
      "('snr_W2', '0.19 %')\n",
      "('snr_W3', '0.19 %')\n",
      "('snr_W4', '0.19 %')\n",
      "('e_xfd1', '0.17 %')\n",
      "('xfd1', '0.17 %')\n",
      "('e_xf5', '0.13 %')\n",
      "('xf5', '0.13 %')\n",
      "('e_xf4', '0.12 %')\n",
      "('xf4', '0.12 %')\n",
      "('e_xf9', '0.09 %')\n",
      "('xf9', '0.09 %')\n",
      "('rf7', '0.07 %')\n",
      "('U_mag', '0.06 %')\n",
      "('e_V_mag', '0.06 %')\n",
      "('HR8', '0.06 %')\n",
      "('e_rf7', '0.06 %')\n",
      "('e_rf15', '0.06 %')\n",
      "('rf15', '0.06 %')\n",
      "('e_rf16', '0.06 %')\n",
      "('rf16', '0.06 %')\n",
      "('e_U_mag', '0.05 %')\n",
      "('e_rf6', '0.05 %')\n",
      "('Velocity_ned', '0.04 %')\n",
      "('e_xf23', '0.04 %')\n",
      "('xf23', '0.04 %')\n",
      "('xf19', '0.03 %')\n",
      "('xf12', '0.02 %')\n",
      "('e_rf5', '0.02 %')\n",
      "('Magnitude and Filter_ned', '0.01 %')\n",
      "('Photometry Points_ned', '0.01 %')\n",
      "('FLUX_SYSTEM_U_simbad', '0.01 %')\n",
      "('FLUX_QUAL_U_simbad', '0.01 %')\n",
      "('FLUX_UNIT_U_simbad', '0.01 %')\n",
      "('FLUX_SYSTEM_B_simbad', '0.01 %')\n",
      "('FLUX_UNIT_B_simbad', '0.01 %')\n",
      "('FLUX_SYSTEM_V_simbad', '0.01 %')\n",
      "('FLUX_UNIT_V_simbad', '0.01 %')\n",
      "('FLUX_SYSTEM_R_simbad', '0.01 %')\n",
      "('FLUX_UNIT_R_simbad', '0.01 %')\n",
      "('FLUX_SYSTEM_I_simbad', '0.01 %')\n",
      "('FLUX_UNIT_I_simbad', '0.01 %')\n",
      "('FLUX_SYSTEM_J_simbad', '0.01 %')\n",
      "('FLUX_UNIT_J_simbad', '0.01 %')\n",
      "('FLUX_SYSTEM_H_simbad', '0.01 %')\n",
      "('FLUX_UNIT_H_simbad', '0.01 %')\n",
      "('FLUX_SYSTEM_K_simbad', '0.01 %')\n",
      "('FLUX_UNIT_K_simbad', '0.01 %')\n",
      "('FLUX_SYSTEM_u_simbad', '0.01 %')\n",
      "('FLUX_UNIT_u_simbad', '0.01 %')\n",
      "('FLUX_SYSTEM_g_simbad', '0.01 %')\n",
      "('FLUX_UNIT_g_simbad', '0.01 %')\n",
      "('FLUX_SYSTEM_r_simbad', '0.01 %')\n",
      "('FLUX_UNIT_r_simbad', '0.01 %')\n",
      "('FLUX_SYSTEM_i_simbad', '0.01 %')\n",
      "('FLUX_UNIT_i_simbad', '0.01 %')\n",
      "('FLUX_SYSTEM_z_simbad', '0.01 %')\n",
      "('FLUX_UNIT_z_simbad', '0.01 %')\n",
      "('velocities:Value_simbad', '0.01 %')\n",
      "('velocities:me_simbad', '0.01 %')\n",
      "('1450mag', '0.01 %')\n",
      "('xf8', '0.01 %')\n",
      "('e_xf13', '0.01 %')\n",
      "('xf13', '0.01 %')\n",
      "('e_HR8', '0.01 %')\n",
      "('rf3', '0.01 %')\n",
      "('rf9', '0.01 %')\n",
      "('rf13', '0.01 %')\n",
      "('F143', '0.01 %')\n",
      "('nan_column', '0.00 %')\n",
      "('e_1450Mag', '0.00 %')\n",
      "('1450Mag', '0.00 %')\n",
      "('e_1450mag', '0.00 %')\n",
      "('e_xf8', '0.00 %')\n",
      "('e_xf12', '0.00 %')\n",
      "('e_xf19', '0.00 %')\n",
      "('xl1', '0.00 %')\n",
      "('xl2', '0.00 %')\n",
      "('xl3', '0.00 %')\n",
      "('xl4', '0.00 %')\n",
      "('xl5', '0.00 %')\n",
      "('e_HR9', '0.00 %')\n",
      "('HR9', '0.00 %')\n",
      "('e_rf2', '0.00 %')\n",
      "('rf2', '0.00 %')\n",
      "('e_rf3', '0.00 %')\n",
      "('e_rf4', '0.00 %')\n",
      "('rf4', '0.00 %')\n",
      "('e_rf8', '0.00 %')\n",
      "('rf8', '0.00 %')\n",
      "('e_rf9', '0.00 %')\n",
      "('e_rf11', '0.00 %')\n",
      "('rf11', '0.00 %')\n",
      "('e_rf13', '0.00 %')\n",
      "('e_rf14', '0.00 %')\n",
      "('rf14', '0.00 %')\n",
      "('e_F143', '0.00 %')\n",
      "----------------------------------------------------------------------------------------------------\n"
     ]
    },
    {
     "data": {
      "text/markdown": [
       "**<font color='red'>Classification table columns:**"
      ],
      "text/plain": [
       "<IPython.core.display.Markdown object>"
      ]
     },
     "metadata": {},
     "output_type": "display_data"
    },
    {
     "name": "stdout",
     "output_type": "stream",
     "text": [
      "('Unnamed: 0', '100.00 %')\n",
      "('Unnamed: 0.1', '100.00 %')\n",
      "('Unnamed: 0.1.1', '100.00 %')\n",
      "('RA', '100.00 %')\n",
      "('DEC', '100.00 %')\n",
      "('best_class', '100.00 %')\n",
      "('xray_class', '66.58 %')\n",
      "('spec_class', '48.95 %')\n",
      "('gen_class', '44.00 %')\n",
      "('SED_class', '40.90 %')\n",
      "('image_class', '10.88 %')\n",
      "('SP_TYPE_simbad', '2.68 %')\n",
      "('nan_column', '0.00 %')\n",
      "----------------------------------------------------------------------------------------------------\n"
     ]
    },
    {
     "data": {
      "text/markdown": [
       "**<font color='red'>Redshift table columns:**"
      ],
      "text/plain": [
       "<IPython.core.display.Markdown object>"
      ]
     },
     "metadata": {},
     "output_type": "display_data"
    },
    {
     "name": "stdout",
     "output_type": "stream",
     "text": [
      "('Unnamed: 0', '100.00 %')\n",
      "('Unnamed: 0.1', '100.00 %')\n",
      "('Unnamed: 0.1.1', '100.00 %')\n",
      "('RA', '100.00 %')\n",
      "('DEC', '100.00 %')\n",
      "('best_Z', '52.27 %')\n",
      "('f_best_Z', '52.27 %')\n",
      "('q_Z', '50.37 %')\n",
      "('phot_Z', '43.67 %')\n",
      "('p_phot_Z', '43.60 %')\n",
      "('max_phot_Z', '43.47 %')\n",
      "('min_phot_Z', '42.06 %')\n",
      "('spec_Z', '17.62 %')\n",
      "('Z', '17.09 %')\n",
      "('e_spec_Z', '13.74 %')\n",
      "('e_best_Z', '13.74 %')\n",
      "('nan_column', '0.00 %')\n",
      "('e_phot_Z', '0.00 %')\n",
      "('e_Z', '0.00 %')\n"
     ]
    }
   ],
   "source": [
    "# look at all the columns we have in the original table\n",
    "# with non-Nan percentage\n",
    "printmd(\"**<font color='red'>Photometry table columns:**\")\n",
    "perc = non_nan_percent(df_photo_original,df_photo_original.columns)\n",
    "print(*perc.items(), sep='\\n')\n",
    "print('-'*100)\n",
    "\n",
    "printmd(\"**<font color='red'>Classification table columns:**\")\n",
    "perc = non_nan_percent(df_morph_original,df_morph_original.columns)\n",
    "print(*perc.items(), sep='\\n')\n",
    "print('-'*100)\n",
    "\n",
    "printmd(\"**<font color='red'>Redshift table columns:**\")\n",
    "perc = non_nan_percent(df_redshift_original,df_redshift_original.columns)\n",
    "print(*perc.items(), sep='\\n')"
   ]
  },
  {
   "cell_type": "markdown",
   "metadata": {},
   "source": [
    "<font color='green'>*best_class* column in df_morph_original and *best_Z* column in df_redshift_original are created by following order:<br>\n",
    "- \"spec_class\" > \"SDSS_image_class\" > \"SED_class\" > \"vi_class\" > \"optical_class\" > \"gen_class\" > \"Mtype\""
   ]
  },
  {
   "cell_type": "code",
   "execution_count": 84,
   "metadata": {},
   "outputs": [
    {
     "name": "stdout",
     "output_type": "stream",
     "text": [
      "photometry and morphology table have the same indices.\n",
      "photometry and redshift table have the same indices.\n"
     ]
    }
   ],
   "source": [
    "# check if df_morph_original, df_photo_original and df_redshift_original shares the same index system,\n",
    "# i.e, if the same index corresponds to the same source\n",
    "if df_photo_original['RA'].equals(df_morph_original['RA']):\n",
    "    print('photometry and morphology table have the same indices.')\n",
    "\n",
    "if df_photo_original['RA'].equals(df_redshift_original['RA']):\n",
    "    print('photometry and redshift table have the same indices.')"
   ]
  },
  {
   "cell_type": "code",
   "execution_count": 13,
   "metadata": {},
   "outputs": [],
   "source": [
    "# merge with df_photo_original\n",
    "df_photo_original['best_class'] = df_morph_original[\"best_class\"]\n",
    "df_photo_original['best_z'] = df_redshift_original[\"best_Z\"]\n",
    "df_photo_original['best_z_error'] = df_redshift_original[\"e_best_Z\"]"
   ]
  },
  {
   "cell_type": "code",
   "execution_count": 86,
   "metadata": {},
   "outputs": [
    {
     "data": {
      "text/html": [
       "<div>\n",
       "<style scoped>\n",
       "    .dataframe tbody tr th:only-of-type {\n",
       "        vertical-align: middle;\n",
       "    }\n",
       "\n",
       "    .dataframe tbody tr th {\n",
       "        vertical-align: top;\n",
       "    }\n",
       "\n",
       "    .dataframe thead th {\n",
       "        text-align: right;\n",
       "    }\n",
       "</style>\n",
       "<table border=\"1\" class=\"dataframe\">\n",
       "  <thead>\n",
       "    <tr style=\"text-align: right;\">\n",
       "      <th></th>\n",
       "      <th>Unnamed: 0</th>\n",
       "      <th>Unnamed: 0.1</th>\n",
       "      <th>Unnamed: 0.1.1</th>\n",
       "      <th>Velocity_ned</th>\n",
       "      <th>Magnitude and Filter_ned</th>\n",
       "      <th>Photometry Points_ned</th>\n",
       "      <th>FLUX_SYSTEM_U_simbad</th>\n",
       "      <th>FLUX_QUAL_U_simbad</th>\n",
       "      <th>FLUX_UNIT_U_simbad</th>\n",
       "      <th>FLUX_SYSTEM_B_simbad</th>\n",
       "      <th>...</th>\n",
       "      <th>snr_r</th>\n",
       "      <th>snr_u</th>\n",
       "      <th>snr_z</th>\n",
       "      <th>snr_W1</th>\n",
       "      <th>snr_W2</th>\n",
       "      <th>snr_W3</th>\n",
       "      <th>snr_W4</th>\n",
       "      <th>best_class</th>\n",
       "      <th>best_z</th>\n",
       "      <th>best_z_error</th>\n",
       "    </tr>\n",
       "  </thead>\n",
       "  <tbody>\n",
       "    <tr>\n",
       "      <th>0</th>\n",
       "      <td>0</td>\n",
       "      <td>0</td>\n",
       "      <td>0</td>\n",
       "      <td>809807.0</td>\n",
       "      <td>NaN</td>\n",
       "      <td>0.0</td>\n",
       "      <td>NaN</td>\n",
       "      <td>NaN</td>\n",
       "      <td>NaN</td>\n",
       "      <td>NaN</td>\n",
       "      <td>...</td>\n",
       "      <td>NaN</td>\n",
       "      <td>NaN</td>\n",
       "      <td>NaN</td>\n",
       "      <td>NaN</td>\n",
       "      <td>NaN</td>\n",
       "      <td>NaN</td>\n",
       "      <td>NaN</td>\n",
       "      <td>unknown</td>\n",
       "      <td>2.7010</td>\n",
       "      <td>0.0</td>\n",
       "    </tr>\n",
       "    <tr>\n",
       "      <th>1</th>\n",
       "      <td>1</td>\n",
       "      <td>1</td>\n",
       "      <td>1</td>\n",
       "      <td>278.0</td>\n",
       "      <td>0.9</td>\n",
       "      <td>51.0</td>\n",
       "      <td>NaN</td>\n",
       "      <td>NaN</td>\n",
       "      <td>NaN</td>\n",
       "      <td>NaN</td>\n",
       "      <td>...</td>\n",
       "      <td>4.90</td>\n",
       "      <td>1.48</td>\n",
       "      <td>3.48</td>\n",
       "      <td>33.85</td>\n",
       "      <td>34.65</td>\n",
       "      <td>30.4</td>\n",
       "      <td>5.75</td>\n",
       "      <td>galaxy</td>\n",
       "      <td>2.4150</td>\n",
       "      <td>0.0</td>\n",
       "    </tr>\n",
       "    <tr>\n",
       "      <th>2</th>\n",
       "      <td>2</td>\n",
       "      <td>2</td>\n",
       "      <td>2</td>\n",
       "      <td>NaN</td>\n",
       "      <td>NaN</td>\n",
       "      <td>6.0</td>\n",
       "      <td>False</td>\n",
       "      <td>False</td>\n",
       "      <td>False</td>\n",
       "      <td>False</td>\n",
       "      <td>...</td>\n",
       "      <td>2.54</td>\n",
       "      <td>1.45</td>\n",
       "      <td>2.38</td>\n",
       "      <td>23.90</td>\n",
       "      <td>15.60</td>\n",
       "      <td>3.5</td>\n",
       "      <td>0.50</td>\n",
       "      <td>galaxy</td>\n",
       "      <td>3.5100</td>\n",
       "      <td>0.0</td>\n",
       "    </tr>\n",
       "    <tr>\n",
       "      <th>3</th>\n",
       "      <td>3</td>\n",
       "      <td>3</td>\n",
       "      <td>3</td>\n",
       "      <td>NaN</td>\n",
       "      <td>20.3g</td>\n",
       "      <td>5.0</td>\n",
       "      <td>NaN</td>\n",
       "      <td>NaN</td>\n",
       "      <td>NaN</td>\n",
       "      <td>NaN</td>\n",
       "      <td>...</td>\n",
       "      <td>14.61</td>\n",
       "      <td>3.31</td>\n",
       "      <td>8.01</td>\n",
       "      <td>37.50</td>\n",
       "      <td>37.45</td>\n",
       "      <td>16.9</td>\n",
       "      <td>4.95</td>\n",
       "      <td>galaxy</td>\n",
       "      <td>0.7213</td>\n",
       "      <td>0.0</td>\n",
       "    </tr>\n",
       "    <tr>\n",
       "      <th>4</th>\n",
       "      <td>4</td>\n",
       "      <td>4</td>\n",
       "      <td>4</td>\n",
       "      <td>870897.0</td>\n",
       "      <td>20.9g</td>\n",
       "      <td>5.0</td>\n",
       "      <td>NaN</td>\n",
       "      <td>NaN</td>\n",
       "      <td>NaN</td>\n",
       "      <td>NaN</td>\n",
       "      <td>...</td>\n",
       "      <td>NaN</td>\n",
       "      <td>NaN</td>\n",
       "      <td>NaN</td>\n",
       "      <td>NaN</td>\n",
       "      <td>NaN</td>\n",
       "      <td>NaN</td>\n",
       "      <td>NaN</td>\n",
       "      <td>galaxy</td>\n",
       "      <td>2.3780</td>\n",
       "      <td>0.0</td>\n",
       "    </tr>\n",
       "  </tbody>\n",
       "</table>\n",
       "<p>5 rows × 207 columns</p>\n",
       "</div>"
      ],
      "text/plain": [
       "   Unnamed: 0  Unnamed: 0.1  Unnamed: 0.1.1  Velocity_ned  \\\n",
       "0           0             0               0      809807.0   \n",
       "1           1             1               1         278.0   \n",
       "2           2             2               2           NaN   \n",
       "3           3             3               3           NaN   \n",
       "4           4             4               4      870897.0   \n",
       "\n",
       "  Magnitude and Filter_ned  Photometry Points_ned FLUX_SYSTEM_U_simbad  \\\n",
       "0                      NaN                    0.0                  NaN   \n",
       "1                      0.9                   51.0                  NaN   \n",
       "2                      NaN                    6.0                False   \n",
       "3                    20.3g                    5.0                  NaN   \n",
       "4                    20.9g                    5.0                  NaN   \n",
       "\n",
       "  FLUX_QUAL_U_simbad FLUX_UNIT_U_simbad FLUX_SYSTEM_B_simbad  ...  snr_r  \\\n",
       "0                NaN                NaN                  NaN  ...    NaN   \n",
       "1                NaN                NaN                  NaN  ...   4.90   \n",
       "2              False              False                False  ...   2.54   \n",
       "3                NaN                NaN                  NaN  ...  14.61   \n",
       "4                NaN                NaN                  NaN  ...    NaN   \n",
       "\n",
       "  snr_u snr_z snr_W1 snr_W2 snr_W3 snr_W4 best_class  best_z best_z_error  \n",
       "0   NaN   NaN    NaN    NaN    NaN    NaN    unknown  2.7010          0.0  \n",
       "1  1.48  3.48  33.85  34.65   30.4   5.75     galaxy  2.4150          0.0  \n",
       "2  1.45  2.38  23.90  15.60    3.5   0.50     galaxy  3.5100          0.0  \n",
       "3  3.31  8.01  37.50  37.45   16.9   4.95     galaxy  0.7213          0.0  \n",
       "4   NaN   NaN    NaN    NaN    NaN    NaN     galaxy  2.3780          0.0  \n",
       "\n",
       "[5 rows x 207 columns]"
      ]
     },
     "execution_count": 86,
     "metadata": {},
     "output_type": "execute_result"
    }
   ],
   "source": [
    "df_photo_original.head(5)"
   ]
  },
  {
   "cell_type": "markdown",
   "metadata": {},
   "source": [
    "<font color='green'>Select the features we want:\n",
    "    select top 5% rows and columns with missing values < 30%"
   ]
  },
  {
   "cell_type": "code",
   "execution_count": null,
   "metadata": {},
   "outputs": [],
   "source": [
    "# sort the df based on missing value counts where the least NaN rows are at the top\n",
    "df = df_photo_original.iloc[df_photo_original.isnull().sum(axis=1).mul(1).argsort()]"
   ]
  },
  {
   "cell_type": "code",
   "execution_count": 202,
   "metadata": {},
   "outputs": [],
   "source": [
    "df = df.loc[:round(len(df)*0.05)] "
   ]
  },
  {
   "cell_type": "code",
   "execution_count": 206,
   "metadata": {
    "scrolled": true
   },
   "outputs": [
    {
     "name": "stdout",
     "output_type": "stream",
     "text": [
      "['RA', 'DEC', 'best_class', 'best_z', 'i_mag', 'r_mag', 'z_mag', 'u_mag', 'g_mag', 'e_i_mag', 'e_z_mag', 'e_r_mag', 'e_u_mag', 'u_extinction', 'r_extinction', 'e_g_mag', 'g_extinction', 'i_extinction', 'z_extinction', 'e_rf10', 'rf10', 'e_rf12', 'rf12', 'W1_mag', 'W2_mag', 'e_W1_mag', 'W4_mag', 'W3_mag', 'e_W2_mag']\n"
     ]
    }
   ],
   "source": [
    "#perc = non_nan_percent(df_photo_original,df_photo_original.columns)\n",
    "perc = non_nan_percent(df,df.columns)\n",
    "\n",
    "useful_columns = [k for k,v in perc.items() if float(v[:v.index('%')]) > 70]\n",
    "# remove wanted columns\n",
    "useful_columns.remove('Unnamed: 0')\n",
    "useful_columns.remove('Unnamed: 0.1')\n",
    "useful_columns.remove('Unnamed: 0.1.1')\n",
    "#useful_columns.remove('uv_NBCKDE.fit')\n",
    "\n",
    "print(useful_columns)"
   ]
  },
  {
   "cell_type": "code",
   "execution_count": 207,
   "metadata": {},
   "outputs": [],
   "source": [
    "df = df[useful_columns]"
   ]
  },
  {
   "cell_type": "code",
   "execution_count": 208,
   "metadata": {
    "scrolled": true
   },
   "outputs": [
    {
     "data": {
      "text/plain": [
       "31        29\n",
       "5         29\n",
       "1         29\n",
       "19        29\n",
       "157       29\n",
       "          ..\n",
       "34209     29\n",
       "34434     29\n",
       "34114     29\n",
       "215094    18\n",
       "273       29\n",
       "Length: 100, dtype: int64"
      ]
     },
     "execution_count": 208,
     "metadata": {},
     "output_type": "execute_result"
    }
   ],
   "source": [
    "# check the missing value count\n",
    "df[:100].apply(lambda x: x.count(), axis=1)"
   ]
  },
  {
   "cell_type": "code",
   "execution_count": 209,
   "metadata": {},
   "outputs": [
    {
     "data": {
      "text/plain": [
       "192044"
      ]
     },
     "execution_count": 209,
     "metadata": {},
     "output_type": "execute_result"
    }
   ],
   "source": [
    "len(df)"
   ]
  },
  {
   "cell_type": "markdown",
   "metadata": {},
   "source": [
    "<font color='green'> Check the missing values again"
   ]
  },
  {
   "cell_type": "code",
   "execution_count": 210,
   "metadata": {
    "scrolled": true
   },
   "outputs": [
    {
     "name": "stdout",
     "output_type": "stream",
     "text": [
      "29 columns:\n",
      "('RA', '0.00 %')\n",
      "('DEC', '0.00 %')\n",
      "('best_class', '0.00 %')\n",
      "('best_z', '7.73 %')\n",
      "('i_mag', '8.24 %')\n",
      "('r_mag', '8.33 %')\n",
      "('z_mag', '8.36 %')\n",
      "('u_mag', '8.45 %')\n",
      "('g_mag', '8.47 %')\n",
      "('e_i_mag', '8.76 %')\n",
      "('e_z_mag', '8.76 %')\n",
      "('e_r_mag', '9.00 %')\n",
      "('e_u_mag', '9.01 %')\n",
      "('u_extinction', '9.26 %')\n",
      "('r_extinction', '11.57 %')\n",
      "('e_g_mag', '12.56 %')\n",
      "('g_extinction', '13.56 %')\n",
      "('i_extinction', '16.76 %')\n",
      "('z_extinction', '16.78 %')\n",
      "('e_rf10', '23.63 %')\n",
      "('rf10', '23.63 %')\n",
      "('e_rf12', '23.63 %')\n",
      "('rf12', '23.63 %')\n",
      "('W1_mag', '27.66 %')\n",
      "('W2_mag', '28.50 %')\n",
      "('e_W1_mag', '28.58 %')\n",
      "('W4_mag', '28.64 %')\n",
      "('W3_mag', '28.65 %')\n",
      "('e_W2_mag', '29.01 %')\n"
     ]
    }
   ],
   "source": [
    "perc = nan_percent(df,df.columns)\n",
    "print(f'{len(perc)} columns:')\n",
    "print(*perc.items(),sep='\\n')"
   ]
  },
  {
   "cell_type": "markdown",
   "metadata": {},
   "source": [
    "<font color='blue'> After feature engineering, we only select top 5% rows with at least 70% available data. <br>\n",
    "    The majority of the ML training would depend on optical magnitude columns."
   ]
  },
  {
   "cell_type": "markdown",
   "metadata": {},
   "source": [
    "<font color='green'>Replace AGN=1 and non-AGN=0 in __best_class__ column."
   ]
  },
  {
   "cell_type": "code",
   "execution_count": 211,
   "metadata": {},
   "outputs": [
    {
     "data": {
      "text/plain": [
       "generic_agn    163070\n",
       "unknown         11485\n",
       "galaxy           5081\n",
       "type2            4705\n",
       "star             4615\n",
       "type1            2660\n",
       "blazar            426\n",
       "false               2\n",
       "Name: best_class, dtype: int64"
      ]
     },
     "execution_count": 211,
     "metadata": {},
     "output_type": "execute_result"
    }
   ],
   "source": [
    "df['best_class'].value_counts()"
   ]
  },
  {
   "cell_type": "code",
   "execution_count": 212,
   "metadata": {},
   "outputs": [],
   "source": [
    "df.rename(columns = {'best_class':'AGN'}, inplace = True)\n",
    "df['AGN'].replace({'generic_agn':True,\n",
    "                   'blazar':True,\n",
    "                   'star':False,\n",
    "                   'galaxy':False,\n",
    "                   'type1':True,\n",
    "                   'type2':True,\n",
    "                   'lens_system':True,\n",
    "                   'unknown': np.nan,\n",
    "                   'false':False\n",
    "                    }, inplace=True)"
   ]
  },
  {
   "cell_type": "code",
   "execution_count": 213,
   "metadata": {},
   "outputs": [],
   "source": [
    "df['AGN']=df['AGN'].astype('float')"
   ]
  },
  {
   "cell_type": "markdown",
   "metadata": {},
   "source": [
    "## Downsampling AGN to the same number of non-AGN"
   ]
  },
  {
   "cell_type": "code",
   "execution_count": 214,
   "metadata": {},
   "outputs": [
    {
     "name": "stdout",
     "output_type": "stream",
     "text": [
      "AGN: 170861.00,       non-AGN: 9698.00,       NaN: 11485.00\n",
      "AGN: 88.97%,       non-AGN: 5.05%,       NaN: 5.98%\n"
     ]
    }
   ],
   "source": [
    "print(f\"AGN: {len(df[df['AGN']==1]):.2f}, \\\n",
    "      non-AGN: {len(df[df['AGN']==0]):.2f}, \\\n",
    "      NaN: {df['AGN'].isna().sum():.2f}\")\n",
    "print(f\"AGN: {100*len(df[df['AGN']==1])/len(df):.2f}%, \\\n",
    "      non-AGN: {100*len(df[df['AGN']==0])/len(df):.2f}%, \\\n",
    "      NaN: {100*df['AGN'].isna().sum()/len(df):.2f}%\")"
   ]
  },
  {
   "cell_type": "code",
   "execution_count": 215,
   "metadata": {
    "scrolled": true
   },
   "outputs": [
    {
     "data": {
      "text/html": [
       "<div>\n",
       "<style scoped>\n",
       "    .dataframe tbody tr th:only-of-type {\n",
       "        vertical-align: middle;\n",
       "    }\n",
       "\n",
       "    .dataframe tbody tr th {\n",
       "        vertical-align: top;\n",
       "    }\n",
       "\n",
       "    .dataframe thead th {\n",
       "        text-align: right;\n",
       "    }\n",
       "</style>\n",
       "<table border=\"1\" class=\"dataframe\">\n",
       "  <thead>\n",
       "    <tr style=\"text-align: right;\">\n",
       "      <th></th>\n",
       "      <th>RA</th>\n",
       "      <th>DEC</th>\n",
       "      <th>AGN</th>\n",
       "      <th>best_z</th>\n",
       "      <th>i_mag</th>\n",
       "      <th>r_mag</th>\n",
       "      <th>z_mag</th>\n",
       "      <th>u_mag</th>\n",
       "      <th>g_mag</th>\n",
       "      <th>e_i_mag</th>\n",
       "      <th>...</th>\n",
       "      <th>e_rf10</th>\n",
       "      <th>rf10</th>\n",
       "      <th>e_rf12</th>\n",
       "      <th>rf12</th>\n",
       "      <th>W1_mag</th>\n",
       "      <th>W2_mag</th>\n",
       "      <th>e_W1_mag</th>\n",
       "      <th>W4_mag</th>\n",
       "      <th>W3_mag</th>\n",
       "      <th>e_W2_mag</th>\n",
       "    </tr>\n",
       "  </thead>\n",
       "  <tbody>\n",
       "    <tr>\n",
       "      <th>31</th>\n",
       "      <td>318.841683</td>\n",
       "      <td>12.300792</td>\n",
       "      <td>0.0</td>\n",
       "      <td>1.233161</td>\n",
       "      <td>17.352909</td>\n",
       "      <td>19.997735</td>\n",
       "      <td>22.210000</td>\n",
       "      <td>20.355066</td>\n",
       "      <td>20.373289</td>\n",
       "      <td>0.017647</td>\n",
       "      <td>...</td>\n",
       "      <td>6.840000e+00</td>\n",
       "      <td>94.020000</td>\n",
       "      <td>2.976636e+05</td>\n",
       "      <td>0.132923</td>\n",
       "      <td>16.578309</td>\n",
       "      <td>16.599377</td>\n",
       "      <td>0.027</td>\n",
       "      <td>14.6240</td>\n",
       "      <td>15.475</td>\n",
       "      <td>0.027</td>\n",
       "    </tr>\n",
       "    <tr>\n",
       "      <th>5</th>\n",
       "      <td>130.169860</td>\n",
       "      <td>13.290490</td>\n",
       "      <td>0.0</td>\n",
       "      <td>1.964000</td>\n",
       "      <td>20.776632</td>\n",
       "      <td>20.896219</td>\n",
       "      <td>20.465952</td>\n",
       "      <td>21.393705</td>\n",
       "      <td>21.124334</td>\n",
       "      <td>0.007345</td>\n",
       "      <td>...</td>\n",
       "      <td>6.160000e+00</td>\n",
       "      <td>107.840000</td>\n",
       "      <td>3.542632e+05</td>\n",
       "      <td>0.112824</td>\n",
       "      <td>18.920000</td>\n",
       "      <td>19.310000</td>\n",
       "      <td>0.070</td>\n",
       "      <td>15.4630</td>\n",
       "      <td>15.960</td>\n",
       "      <td>0.180</td>\n",
       "    </tr>\n",
       "    <tr>\n",
       "      <th>1</th>\n",
       "      <td>39.768000</td>\n",
       "      <td>25.920000</td>\n",
       "      <td>0.0</td>\n",
       "      <td>2.415000</td>\n",
       "      <td>20.858900</td>\n",
       "      <td>20.851000</td>\n",
       "      <td>19.140000</td>\n",
       "      <td>20.866000</td>\n",
       "      <td>21.322000</td>\n",
       "      <td>0.007500</td>\n",
       "      <td>...</td>\n",
       "      <td>8.680000e+00</td>\n",
       "      <td>188.450000</td>\n",
       "      <td>1.145706e+05</td>\n",
       "      <td>0.315646</td>\n",
       "      <td>17.113495</td>\n",
       "      <td>17.178203</td>\n",
       "      <td>0.027</td>\n",
       "      <td>14.8000</td>\n",
       "      <td>15.900</td>\n",
       "      <td>0.027</td>\n",
       "    </tr>\n",
       "    <tr>\n",
       "      <th>19</th>\n",
       "      <td>218.345400</td>\n",
       "      <td>60.120800</td>\n",
       "      <td>0.0</td>\n",
       "      <td>1.311151</td>\n",
       "      <td>21.340172</td>\n",
       "      <td>21.758242</td>\n",
       "      <td>17.630604</td>\n",
       "      <td>22.376859</td>\n",
       "      <td>22.416345</td>\n",
       "      <td>0.014812</td>\n",
       "      <td>...</td>\n",
       "      <td>4.070000e+00</td>\n",
       "      <td>77.480000</td>\n",
       "      <td>2.312496e+05</td>\n",
       "      <td>0.098265</td>\n",
       "      <td>16.882976</td>\n",
       "      <td>17.043664</td>\n",
       "      <td>0.026</td>\n",
       "      <td>15.9370</td>\n",
       "      <td>15.771</td>\n",
       "      <td>0.026</td>\n",
       "    </tr>\n",
       "    <tr>\n",
       "      <th>157</th>\n",
       "      <td>206.030610</td>\n",
       "      <td>-0.475670</td>\n",
       "      <td>0.0</td>\n",
       "      <td>2.273000</td>\n",
       "      <td>19.620714</td>\n",
       "      <td>19.670056</td>\n",
       "      <td>17.644936</td>\n",
       "      <td>20.752479</td>\n",
       "      <td>20.018521</td>\n",
       "      <td>0.014999</td>\n",
       "      <td>...</td>\n",
       "      <td>4.850000e+00</td>\n",
       "      <td>61.940000</td>\n",
       "      <td>3.501226e+05</td>\n",
       "      <td>0.088145</td>\n",
       "      <td>17.230388</td>\n",
       "      <td>17.075575</td>\n",
       "      <td>0.029</td>\n",
       "      <td>15.5070</td>\n",
       "      <td>15.549</td>\n",
       "      <td>0.029</td>\n",
       "    </tr>\n",
       "    <tr>\n",
       "      <th>64031</th>\n",
       "      <td>150.090792</td>\n",
       "      <td>22.555169</td>\n",
       "      <td>1.0</td>\n",
       "      <td>2.766000</td>\n",
       "      <td>16.860906</td>\n",
       "      <td>20.234067</td>\n",
       "      <td>16.851913</td>\n",
       "      <td>20.156110</td>\n",
       "      <td>20.142405</td>\n",
       "      <td>0.015198</td>\n",
       "      <td>...</td>\n",
       "      <td>6.500000e+00</td>\n",
       "      <td>88.230000</td>\n",
       "      <td>2.813452e+05</td>\n",
       "      <td>0.127644</td>\n",
       "      <td>16.775583</td>\n",
       "      <td>16.502588</td>\n",
       "      <td>0.028</td>\n",
       "      <td>15.3200</td>\n",
       "      <td>15.861</td>\n",
       "      <td>0.028</td>\n",
       "    </tr>\n",
       "    <tr>\n",
       "      <th>460</th>\n",
       "      <td>0.285917</td>\n",
       "      <td>19.242828</td>\n",
       "      <td>0.0</td>\n",
       "      <td>2.375000</td>\n",
       "      <td>17.402841</td>\n",
       "      <td>20.264114</td>\n",
       "      <td>19.070000</td>\n",
       "      <td>20.371759</td>\n",
       "      <td>20.349059</td>\n",
       "      <td>0.014947</td>\n",
       "      <td>...</td>\n",
       "      <td>5.350000e+00</td>\n",
       "      <td>55.820000</td>\n",
       "      <td>4.985584e+05</td>\n",
       "      <td>0.072444</td>\n",
       "      <td>16.872552</td>\n",
       "      <td>17.039300</td>\n",
       "      <td>0.028</td>\n",
       "      <td>13.3580</td>\n",
       "      <td>14.332</td>\n",
       "      <td>0.028</td>\n",
       "    </tr>\n",
       "    <tr>\n",
       "      <th>462</th>\n",
       "      <td>0.325000</td>\n",
       "      <td>-7.774078</td>\n",
       "      <td>0.0</td>\n",
       "      <td>2.439000</td>\n",
       "      <td>21.216860</td>\n",
       "      <td>21.210220</td>\n",
       "      <td>17.687835</td>\n",
       "      <td>21.509406</td>\n",
       "      <td>21.513775</td>\n",
       "      <td>0.011302</td>\n",
       "      <td>...</td>\n",
       "      <td>6.850000e+00</td>\n",
       "      <td>84.490000</td>\n",
       "      <td>5.487622e+05</td>\n",
       "      <td>0.084023</td>\n",
       "      <td>17.725882</td>\n",
       "      <td>17.511274</td>\n",
       "      <td>0.038</td>\n",
       "      <td>15.6350</td>\n",
       "      <td>16.524</td>\n",
       "      <td>0.038</td>\n",
       "    </tr>\n",
       "    <tr>\n",
       "      <th>13062</th>\n",
       "      <td>10.921876</td>\n",
       "      <td>0.881479</td>\n",
       "      <td>1.0</td>\n",
       "      <td>0.834200</td>\n",
       "      <td>18.631000</td>\n",
       "      <td>19.457511</td>\n",
       "      <td>17.936000</td>\n",
       "      <td>22.198470</td>\n",
       "      <td>20.501553</td>\n",
       "      <td>0.005000</td>\n",
       "      <td>...</td>\n",
       "      <td>7.096000e+01</td>\n",
       "      <td>3081.770000</td>\n",
       "      <td>7.722420e+02</td>\n",
       "      <td>4.943107</td>\n",
       "      <td>15.292000</td>\n",
       "      <td>14.611000</td>\n",
       "      <td>2.724</td>\n",
       "      <td>13.1150</td>\n",
       "      <td>13.699</td>\n",
       "      <td>3.361</td>\n",
       "    </tr>\n",
       "    <tr>\n",
       "      <th>30</th>\n",
       "      <td>340.125975</td>\n",
       "      <td>3.358508</td>\n",
       "      <td>0.0</td>\n",
       "      <td>2.146300</td>\n",
       "      <td>21.880000</td>\n",
       "      <td>20.313700</td>\n",
       "      <td>21.840000</td>\n",
       "      <td>20.743828</td>\n",
       "      <td>20.429867</td>\n",
       "      <td>0.010000</td>\n",
       "      <td>...</td>\n",
       "      <td>8.070000e+00</td>\n",
       "      <td>85.900000</td>\n",
       "      <td>4.763404e+05</td>\n",
       "      <td>0.115133</td>\n",
       "      <td>16.868066</td>\n",
       "      <td>16.957554</td>\n",
       "      <td>0.029</td>\n",
       "      <td>14.4640</td>\n",
       "      <td>15.886</td>\n",
       "      <td>0.029</td>\n",
       "    </tr>\n",
       "    <tr>\n",
       "      <th>81</th>\n",
       "      <td>160.625570</td>\n",
       "      <td>1.039910</td>\n",
       "      <td>0.0</td>\n",
       "      <td>0.966300</td>\n",
       "      <td>17.977508</td>\n",
       "      <td>18.190801</td>\n",
       "      <td>19.310000</td>\n",
       "      <td>19.892482</td>\n",
       "      <td>19.499831</td>\n",
       "      <td>0.014826</td>\n",
       "      <td>...</td>\n",
       "      <td>1.215000e+01</td>\n",
       "      <td>387.970000</td>\n",
       "      <td>7.422558e+04</td>\n",
       "      <td>0.550554</td>\n",
       "      <td>17.581936</td>\n",
       "      <td>17.755770</td>\n",
       "      <td>0.035</td>\n",
       "      <td>14.7370</td>\n",
       "      <td>15.899</td>\n",
       "      <td>0.035</td>\n",
       "    </tr>\n",
       "    <tr>\n",
       "      <th>90193</th>\n",
       "      <td>171.466625</td>\n",
       "      <td>-7.705858</td>\n",
       "      <td>1.0</td>\n",
       "      <td>2.929900</td>\n",
       "      <td>19.137000</td>\n",
       "      <td>19.115000</td>\n",
       "      <td>18.443000</td>\n",
       "      <td>19.576453</td>\n",
       "      <td>19.493003</td>\n",
       "      <td>0.017000</td>\n",
       "      <td>...</td>\n",
       "      <td>1.184000e+01</td>\n",
       "      <td>389.400000</td>\n",
       "      <td>9.358720e+04</td>\n",
       "      <td>0.436516</td>\n",
       "      <td>17.694000</td>\n",
       "      <td>16.799000</td>\n",
       "      <td>2.735</td>\n",
       "      <td>15.4140</td>\n",
       "      <td>15.662</td>\n",
       "      <td>3.373</td>\n",
       "    </tr>\n",
       "    <tr>\n",
       "      <th>34443</th>\n",
       "      <td>34.849221</td>\n",
       "      <td>-4.863715</td>\n",
       "      <td>1.0</td>\n",
       "      <td>0.630000</td>\n",
       "      <td>19.210000</td>\n",
       "      <td>19.107000</td>\n",
       "      <td>19.010000</td>\n",
       "      <td>19.129000</td>\n",
       "      <td>18.926000</td>\n",
       "      <td>0.010000</td>\n",
       "      <td>...</td>\n",
       "      <td>1.155000e+01</td>\n",
       "      <td>384.120000</td>\n",
       "      <td>7.257061e+04</td>\n",
       "      <td>0.450817</td>\n",
       "      <td>17.561000</td>\n",
       "      <td>17.323000</td>\n",
       "      <td>2.730</td>\n",
       "      <td>15.1080</td>\n",
       "      <td>16.402</td>\n",
       "      <td>3.379</td>\n",
       "    </tr>\n",
       "    <tr>\n",
       "      <th>384</th>\n",
       "      <td>213.942710</td>\n",
       "      <td>11.495390</td>\n",
       "      <td>0.0</td>\n",
       "      <td>2.560300</td>\n",
       "      <td>16.942000</td>\n",
       "      <td>16.725000</td>\n",
       "      <td>16.840000</td>\n",
       "      <td>19.047000</td>\n",
       "      <td>17.201468</td>\n",
       "      <td>0.374000</td>\n",
       "      <td>...</td>\n",
       "      <td>NaN</td>\n",
       "      <td>NaN</td>\n",
       "      <td>NaN</td>\n",
       "      <td>NaN</td>\n",
       "      <td>15.700000</td>\n",
       "      <td>15.002000</td>\n",
       "      <td>2.722</td>\n",
       "      <td>12.0020</td>\n",
       "      <td>12.956</td>\n",
       "      <td>3.361</td>\n",
       "    </tr>\n",
       "    <tr>\n",
       "      <th>179</th>\n",
       "      <td>227.516730</td>\n",
       "      <td>7.676990</td>\n",
       "      <td>0.0</td>\n",
       "      <td>2.415000</td>\n",
       "      <td>16.944365</td>\n",
       "      <td>19.929493</td>\n",
       "      <td>16.791560</td>\n",
       "      <td>21.982840</td>\n",
       "      <td>20.531253</td>\n",
       "      <td>0.011442</td>\n",
       "      <td>...</td>\n",
       "      <td>1.075000e+01</td>\n",
       "      <td>353.830000</td>\n",
       "      <td>7.073615e+04</td>\n",
       "      <td>0.542500</td>\n",
       "      <td>16.001142</td>\n",
       "      <td>16.339702</td>\n",
       "      <td>0.024</td>\n",
       "      <td>15.2700</td>\n",
       "      <td>16.669</td>\n",
       "      <td>0.024</td>\n",
       "    </tr>\n",
       "    <tr>\n",
       "      <th>3</th>\n",
       "      <td>101.148750</td>\n",
       "      <td>60.646560</td>\n",
       "      <td>0.0</td>\n",
       "      <td>0.721300</td>\n",
       "      <td>17.393000</td>\n",
       "      <td>17.576000</td>\n",
       "      <td>17.438000</td>\n",
       "      <td>17.951000</td>\n",
       "      <td>17.678000</td>\n",
       "      <td>0.012000</td>\n",
       "      <td>...</td>\n",
       "      <td>1.277000e+01</td>\n",
       "      <td>513.330000</td>\n",
       "      <td>3.725325e+04</td>\n",
       "      <td>0.873373</td>\n",
       "      <td>17.192801</td>\n",
       "      <td>17.404212</td>\n",
       "      <td>0.026</td>\n",
       "      <td>15.5980</td>\n",
       "      <td>15.188</td>\n",
       "      <td>0.026</td>\n",
       "    </tr>\n",
       "    <tr>\n",
       "      <th>34277</th>\n",
       "      <td>34.585337</td>\n",
       "      <td>-5.074018</td>\n",
       "      <td>1.0</td>\n",
       "      <td>0.649000</td>\n",
       "      <td>19.798500</td>\n",
       "      <td>19.988000</td>\n",
       "      <td>19.721200</td>\n",
       "      <td>21.050200</td>\n",
       "      <td>20.475300</td>\n",
       "      <td>0.003300</td>\n",
       "      <td>...</td>\n",
       "      <td>3.597493e+06</td>\n",
       "      <td>0.322107</td>\n",
       "      <td>3.597493e+06</td>\n",
       "      <td>0.409261</td>\n",
       "      <td>17.708000</td>\n",
       "      <td>17.385000</td>\n",
       "      <td>2.733</td>\n",
       "      <td>15.1310</td>\n",
       "      <td>16.658</td>\n",
       "      <td>3.376</td>\n",
       "    </tr>\n",
       "    <tr>\n",
       "      <th>157914</th>\n",
       "      <td>244.156500</td>\n",
       "      <td>4.992419</td>\n",
       "      <td>1.0</td>\n",
       "      <td>2.742000</td>\n",
       "      <td>21.321675</td>\n",
       "      <td>21.715236</td>\n",
       "      <td>16.853877</td>\n",
       "      <td>22.320199</td>\n",
       "      <td>21.956195</td>\n",
       "      <td>0.011247</td>\n",
       "      <td>...</td>\n",
       "      <td>5.360000e+00</td>\n",
       "      <td>78.630000</td>\n",
       "      <td>4.282681e+05</td>\n",
       "      <td>0.076842</td>\n",
       "      <td>16.233631</td>\n",
       "      <td>16.112218</td>\n",
       "      <td>0.025</td>\n",
       "      <td>14.9600</td>\n",
       "      <td>16.152</td>\n",
       "      <td>0.025</td>\n",
       "    </tr>\n",
       "    <tr>\n",
       "      <th>166581</th>\n",
       "      <td>317.186333</td>\n",
       "      <td>-2.842828</td>\n",
       "      <td>1.0</td>\n",
       "      <td>3.097000</td>\n",
       "      <td>19.768103</td>\n",
       "      <td>20.123992</td>\n",
       "      <td>14.790000</td>\n",
       "      <td>20.625564</td>\n",
       "      <td>20.469293</td>\n",
       "      <td>0.010476</td>\n",
       "      <td>...</td>\n",
       "      <td>6.160000e+00</td>\n",
       "      <td>86.860000</td>\n",
       "      <td>3.539263e+05</td>\n",
       "      <td>0.104616</td>\n",
       "      <td>17.196971</td>\n",
       "      <td>17.314480</td>\n",
       "      <td>0.032</td>\n",
       "      <td>15.4640</td>\n",
       "      <td>16.475</td>\n",
       "      <td>0.032</td>\n",
       "    </tr>\n",
       "    <tr>\n",
       "      <th>34293</th>\n",
       "      <td>34.613269</td>\n",
       "      <td>-4.915272</td>\n",
       "      <td>1.0</td>\n",
       "      <td>2.214000</td>\n",
       "      <td>19.310000</td>\n",
       "      <td>19.624549</td>\n",
       "      <td>18.890000</td>\n",
       "      <td>20.292171</td>\n",
       "      <td>19.744678</td>\n",
       "      <td>0.010000</td>\n",
       "      <td>...</td>\n",
       "      <td>3.600000e+00</td>\n",
       "      <td>112.830000</td>\n",
       "      <td>1.006005e+05</td>\n",
       "      <td>0.160103</td>\n",
       "      <td>18.742000</td>\n",
       "      <td>18.366000</td>\n",
       "      <td>2.750</td>\n",
       "      <td>15.7770</td>\n",
       "      <td>16.700</td>\n",
       "      <td>3.403</td>\n",
       "    </tr>\n",
       "    <tr>\n",
       "      <th>75</th>\n",
       "      <td>139.609040</td>\n",
       "      <td>16.602520</td>\n",
       "      <td>0.0</td>\n",
       "      <td>1.148600</td>\n",
       "      <td>17.337371</td>\n",
       "      <td>18.965000</td>\n",
       "      <td>17.294064</td>\n",
       "      <td>19.935616</td>\n",
       "      <td>18.948025</td>\n",
       "      <td>0.022693</td>\n",
       "      <td>...</td>\n",
       "      <td>1.090000e+01</td>\n",
       "      <td>295.940000</td>\n",
       "      <td>8.809686e+04</td>\n",
       "      <td>0.475992</td>\n",
       "      <td>16.351523</td>\n",
       "      <td>16.579542</td>\n",
       "      <td>0.026</td>\n",
       "      <td>15.2980</td>\n",
       "      <td>16.566</td>\n",
       "      <td>0.026</td>\n",
       "    </tr>\n",
       "    <tr>\n",
       "      <th>17</th>\n",
       "      <td>214.102800</td>\n",
       "      <td>23.270700</td>\n",
       "      <td>0.0</td>\n",
       "      <td>2.523000</td>\n",
       "      <td>17.452432</td>\n",
       "      <td>17.514550</td>\n",
       "      <td>17.398012</td>\n",
       "      <td>19.858595</td>\n",
       "      <td>19.543868</td>\n",
       "      <td>0.013195</td>\n",
       "      <td>...</td>\n",
       "      <td>1.137000e+01</td>\n",
       "      <td>425.790000</td>\n",
       "      <td>6.015479e+04</td>\n",
       "      <td>0.551061</td>\n",
       "      <td>17.111610</td>\n",
       "      <td>16.806154</td>\n",
       "      <td>0.027</td>\n",
       "      <td>15.6150</td>\n",
       "      <td>16.301</td>\n",
       "      <td>0.027</td>\n",
       "    </tr>\n",
       "    <tr>\n",
       "      <th>34561</th>\n",
       "      <td>35.023099</td>\n",
       "      <td>-5.157922</td>\n",
       "      <td>1.0</td>\n",
       "      <td>0.967000</td>\n",
       "      <td>19.870000</td>\n",
       "      <td>20.002078</td>\n",
       "      <td>19.580000</td>\n",
       "      <td>20.312251</td>\n",
       "      <td>20.292171</td>\n",
       "      <td>0.010000</td>\n",
       "      <td>...</td>\n",
       "      <td>5.500000e+00</td>\n",
       "      <td>182.560000</td>\n",
       "      <td>8.767971e+04</td>\n",
       "      <td>0.245471</td>\n",
       "      <td>18.433000</td>\n",
       "      <td>17.968000</td>\n",
       "      <td>2.743</td>\n",
       "      <td>15.6720</td>\n",
       "      <td>17.000</td>\n",
       "      <td>3.393</td>\n",
       "    </tr>\n",
       "    <tr>\n",
       "      <th>202849</th>\n",
       "      <td>166.639111</td>\n",
       "      <td>-18.356608</td>\n",
       "      <td>1.0</td>\n",
       "      <td>2.303000</td>\n",
       "      <td>16.974000</td>\n",
       "      <td>17.014000</td>\n",
       "      <td>16.793000</td>\n",
       "      <td>17.800000</td>\n",
       "      <td>17.083000</td>\n",
       "      <td>0.015000</td>\n",
       "      <td>...</td>\n",
       "      <td>2.744000e+01</td>\n",
       "      <td>1146.040000</td>\n",
       "      <td>2.234103e+04</td>\n",
       "      <td>1.384204</td>\n",
       "      <td>16.297000</td>\n",
       "      <td>16.035000</td>\n",
       "      <td>2.725</td>\n",
       "      <td>13.8070</td>\n",
       "      <td>14.648</td>\n",
       "      <td>3.363</td>\n",
       "    </tr>\n",
       "    <tr>\n",
       "      <th>166299</th>\n",
       "      <td>293.334542</td>\n",
       "      <td>7.439389</td>\n",
       "      <td>1.0</td>\n",
       "      <td>0.423100</td>\n",
       "      <td>20.251722</td>\n",
       "      <td>20.545516</td>\n",
       "      <td>17.569714</td>\n",
       "      <td>21.130468</td>\n",
       "      <td>20.886349</td>\n",
       "      <td>0.008612</td>\n",
       "      <td>...</td>\n",
       "      <td>6.610000e+00</td>\n",
       "      <td>93.150000</td>\n",
       "      <td>2.110144e+05</td>\n",
       "      <td>0.168733</td>\n",
       "      <td>17.280346</td>\n",
       "      <td>17.490908</td>\n",
       "      <td>0.031</td>\n",
       "      <td>14.7450</td>\n",
       "      <td>14.799</td>\n",
       "      <td>0.031</td>\n",
       "    </tr>\n",
       "    <tr>\n",
       "      <th>34305</th>\n",
       "      <td>34.627460</td>\n",
       "      <td>-4.939764</td>\n",
       "      <td>1.0</td>\n",
       "      <td>1.400000</td>\n",
       "      <td>14.780000</td>\n",
       "      <td>17.705000</td>\n",
       "      <td>14.040000</td>\n",
       "      <td>18.001000</td>\n",
       "      <td>17.954000</td>\n",
       "      <td>0.010000</td>\n",
       "      <td>...</td>\n",
       "      <td>2.113000e+01</td>\n",
       "      <td>695.200000</td>\n",
       "      <td>3.502890e+04</td>\n",
       "      <td>1.241652</td>\n",
       "      <td>17.189000</td>\n",
       "      <td>16.243000</td>\n",
       "      <td>2.726</td>\n",
       "      <td>14.0630</td>\n",
       "      <td>14.903</td>\n",
       "      <td>3.364</td>\n",
       "    </tr>\n",
       "    <tr>\n",
       "      <th>13</th>\n",
       "      <td>182.930950</td>\n",
       "      <td>8.563800</td>\n",
       "      <td>0.0</td>\n",
       "      <td>2.872000</td>\n",
       "      <td>21.605067</td>\n",
       "      <td>21.911083</td>\n",
       "      <td>17.392556</td>\n",
       "      <td>23.001553</td>\n",
       "      <td>22.231880</td>\n",
       "      <td>0.009586</td>\n",
       "      <td>...</td>\n",
       "      <td>5.750000e+00</td>\n",
       "      <td>28.760000</td>\n",
       "      <td>6.566558e+05</td>\n",
       "      <td>0.053015</td>\n",
       "      <td>16.312133</td>\n",
       "      <td>16.485240</td>\n",
       "      <td>0.025</td>\n",
       "      <td>14.3460</td>\n",
       "      <td>15.338</td>\n",
       "      <td>0.025</td>\n",
       "    </tr>\n",
       "    <tr>\n",
       "      <th>34271</th>\n",
       "      <td>34.571605</td>\n",
       "      <td>-5.049603</td>\n",
       "      <td>1.0</td>\n",
       "      <td>1.287000</td>\n",
       "      <td>20.780000</td>\n",
       "      <td>20.402782</td>\n",
       "      <td>20.890000</td>\n",
       "      <td>20.869289</td>\n",
       "      <td>20.799066</td>\n",
       "      <td>0.010000</td>\n",
       "      <td>...</td>\n",
       "      <td>3.040000e+00</td>\n",
       "      <td>99.450000</td>\n",
       "      <td>9.823877e+04</td>\n",
       "      <td>0.122011</td>\n",
       "      <td>18.906000</td>\n",
       "      <td>18.615000</td>\n",
       "      <td>2.756</td>\n",
       "      <td>15.4580</td>\n",
       "      <td>17.273</td>\n",
       "      <td>3.423</td>\n",
       "    </tr>\n",
       "    <tr>\n",
       "      <th>38859</th>\n",
       "      <td>62.341708</td>\n",
       "      <td>12.294389</td>\n",
       "      <td>1.0</td>\n",
       "      <td>2.301900</td>\n",
       "      <td>20.269668</td>\n",
       "      <td>20.810459</td>\n",
       "      <td>20.091616</td>\n",
       "      <td>23.550445</td>\n",
       "      <td>21.837860</td>\n",
       "      <td>0.005915</td>\n",
       "      <td>...</td>\n",
       "      <td>6.550000e+00</td>\n",
       "      <td>50.070000</td>\n",
       "      <td>2.854567e+05</td>\n",
       "      <td>0.111892</td>\n",
       "      <td>17.177919</td>\n",
       "      <td>17.257689</td>\n",
       "      <td>0.032</td>\n",
       "      <td>13.7425</td>\n",
       "      <td>16.551</td>\n",
       "      <td>0.032</td>\n",
       "    </tr>\n",
       "    <tr>\n",
       "      <th>34382</th>\n",
       "      <td>34.752559</td>\n",
       "      <td>-5.283807</td>\n",
       "      <td>1.0</td>\n",
       "      <td>1.451000</td>\n",
       "      <td>21.021000</td>\n",
       "      <td>21.847000</td>\n",
       "      <td>19.370000</td>\n",
       "      <td>19.640806</td>\n",
       "      <td>19.609289</td>\n",
       "      <td>0.008000</td>\n",
       "      <td>...</td>\n",
       "      <td>4.710000e+00</td>\n",
       "      <td>156.050000</td>\n",
       "      <td>8.866437e+04</td>\n",
       "      <td>0.233346</td>\n",
       "      <td>18.610000</td>\n",
       "      <td>17.979000</td>\n",
       "      <td>2.748</td>\n",
       "      <td>15.6560</td>\n",
       "      <td>17.020</td>\n",
       "      <td>3.392</td>\n",
       "    </tr>\n",
       "    <tr>\n",
       "      <th>9</th>\n",
       "      <td>148.217000</td>\n",
       "      <td>7.199000</td>\n",
       "      <td>0.0</td>\n",
       "      <td>0.368989</td>\n",
       "      <td>21.366609</td>\n",
       "      <td>21.911083</td>\n",
       "      <td>17.695136</td>\n",
       "      <td>23.391273</td>\n",
       "      <td>22.223430</td>\n",
       "      <td>0.009183</td>\n",
       "      <td>...</td>\n",
       "      <td>1.000000e-05</td>\n",
       "      <td>0.019830</td>\n",
       "      <td>4.654044e+05</td>\n",
       "      <td>0.069823</td>\n",
       "      <td>17.106438</td>\n",
       "      <td>17.216931</td>\n",
       "      <td>0.029</td>\n",
       "      <td>15.1730</td>\n",
       "      <td>16.520</td>\n",
       "      <td>0.029</td>\n",
       "    </tr>\n",
       "    <tr>\n",
       "      <th>34400</th>\n",
       "      <td>34.773053</td>\n",
       "      <td>-5.178322</td>\n",
       "      <td>1.0</td>\n",
       "      <td>1.656000</td>\n",
       "      <td>20.504500</td>\n",
       "      <td>20.954000</td>\n",
       "      <td>20.510000</td>\n",
       "      <td>21.040400</td>\n",
       "      <td>20.994000</td>\n",
       "      <td>0.006000</td>\n",
       "      <td>...</td>\n",
       "      <td>1.200000e+00</td>\n",
       "      <td>37.380000</td>\n",
       "      <td>1.073231e+05</td>\n",
       "      <td>0.058398</td>\n",
       "      <td>20.177000</td>\n",
       "      <td>19.483000</td>\n",
       "      <td>2.848</td>\n",
       "      <td>15.2990</td>\n",
       "      <td>18.097</td>\n",
       "      <td>3.515</td>\n",
       "    </tr>\n",
       "    <tr>\n",
       "      <th>254</th>\n",
       "      <td>14.772980</td>\n",
       "      <td>0.114340</td>\n",
       "      <td>0.0</td>\n",
       "      <td>0.718900</td>\n",
       "      <td>17.547000</td>\n",
       "      <td>17.457000</td>\n",
       "      <td>17.395000</td>\n",
       "      <td>17.697000</td>\n",
       "      <td>17.462000</td>\n",
       "      <td>0.004000</td>\n",
       "      <td>...</td>\n",
       "      <td>3.576000e+01</td>\n",
       "      <td>1553.100000</td>\n",
       "      <td>1.011157e+04</td>\n",
       "      <td>2.244916</td>\n",
       "      <td>16.011000</td>\n",
       "      <td>15.483000</td>\n",
       "      <td>2.724</td>\n",
       "      <td>13.3930</td>\n",
       "      <td>14.500</td>\n",
       "      <td>3.363</td>\n",
       "    </tr>\n",
       "    <tr>\n",
       "      <th>5230</th>\n",
       "      <td>5.541513</td>\n",
       "      <td>0.274793</td>\n",
       "      <td>1.0</td>\n",
       "      <td>0.574900</td>\n",
       "      <td>18.020000</td>\n",
       "      <td>18.168000</td>\n",
       "      <td>18.118000</td>\n",
       "      <td>18.406000</td>\n",
       "      <td>18.130000</td>\n",
       "      <td>0.004000</td>\n",
       "      <td>...</td>\n",
       "      <td>1.995000e+01</td>\n",
       "      <td>746.790000</td>\n",
       "      <td>3.187670e+04</td>\n",
       "      <td>1.126160</td>\n",
       "      <td>16.817000</td>\n",
       "      <td>16.225000</td>\n",
       "      <td>2.728</td>\n",
       "      <td>14.2370</td>\n",
       "      <td>15.133</td>\n",
       "      <td>3.366</td>\n",
       "    </tr>\n",
       "    <tr>\n",
       "      <th>202854</th>\n",
       "      <td>157.612862</td>\n",
       "      <td>5.415299</td>\n",
       "      <td>1.0</td>\n",
       "      <td>6.311000</td>\n",
       "      <td>23.540000</td>\n",
       "      <td>24.160000</td>\n",
       "      <td>20.190000</td>\n",
       "      <td>26.010000</td>\n",
       "      <td>25.850000</td>\n",
       "      <td>0.280000</td>\n",
       "      <td>...</td>\n",
       "      <td>NaN</td>\n",
       "      <td>NaN</td>\n",
       "      <td>NaN</td>\n",
       "      <td>NaN</td>\n",
       "      <td>19.280000</td>\n",
       "      <td>18.910000</td>\n",
       "      <td>0.090</td>\n",
       "      <td>NaN</td>\n",
       "      <td>NaN</td>\n",
       "      <td>0.150</td>\n",
       "    </tr>\n",
       "    <tr>\n",
       "      <th>34432</th>\n",
       "      <td>34.833861</td>\n",
       "      <td>-5.149418</td>\n",
       "      <td>1.0</td>\n",
       "      <td>1.147000</td>\n",
       "      <td>21.050000</td>\n",
       "      <td>21.552443</td>\n",
       "      <td>20.870000</td>\n",
       "      <td>23.497940</td>\n",
       "      <td>21.915644</td>\n",
       "      <td>0.010000</td>\n",
       "      <td>...</td>\n",
       "      <td>3.597493e+06</td>\n",
       "      <td>0.087902</td>\n",
       "      <td>3.597493e+06</td>\n",
       "      <td>0.092897</td>\n",
       "      <td>19.017000</td>\n",
       "      <td>19.133000</td>\n",
       "      <td>2.757</td>\n",
       "      <td>15.0340</td>\n",
       "      <td>18.038</td>\n",
       "      <td>3.458</td>\n",
       "    </tr>\n",
       "    <tr>\n",
       "      <th>34243</th>\n",
       "      <td>34.535649</td>\n",
       "      <td>-5.206754</td>\n",
       "      <td>1.0</td>\n",
       "      <td>1.039000</td>\n",
       "      <td>21.050000</td>\n",
       "      <td>20.552000</td>\n",
       "      <td>21.020000</td>\n",
       "      <td>22.800524</td>\n",
       "      <td>20.766000</td>\n",
       "      <td>0.010000</td>\n",
       "      <td>...</td>\n",
       "      <td>3.597493e+06</td>\n",
       "      <td>0.059704</td>\n",
       "      <td>3.597493e+06</td>\n",
       "      <td>0.060814</td>\n",
       "      <td>19.580000</td>\n",
       "      <td>19.470000</td>\n",
       "      <td>2.792</td>\n",
       "      <td>15.6300</td>\n",
       "      <td>18.034</td>\n",
       "      <td>3.513</td>\n",
       "    </tr>\n",
       "    <tr>\n",
       "      <th>34318</th>\n",
       "      <td>34.643682</td>\n",
       "      <td>-5.232507</td>\n",
       "      <td>1.0</td>\n",
       "      <td>0.514000</td>\n",
       "      <td>20.510000</td>\n",
       "      <td>21.641676</td>\n",
       "      <td>20.180000</td>\n",
       "      <td>23.429464</td>\n",
       "      <td>22.096104</td>\n",
       "      <td>0.010000</td>\n",
       "      <td>...</td>\n",
       "      <td>3.597493e+06</td>\n",
       "      <td>0.118032</td>\n",
       "      <td>3.597493e+06</td>\n",
       "      <td>0.125893</td>\n",
       "      <td>19.003000</td>\n",
       "      <td>19.426000</td>\n",
       "      <td>2.757</td>\n",
       "      <td>15.5770</td>\n",
       "      <td>17.439</td>\n",
       "      <td>3.500</td>\n",
       "    </tr>\n",
       "    <tr>\n",
       "      <th>34607</th>\n",
       "      <td>35.103092</td>\n",
       "      <td>-5.042037</td>\n",
       "      <td>1.0</td>\n",
       "      <td>0.253000</td>\n",
       "      <td>21.860000</td>\n",
       "      <td>22.582000</td>\n",
       "      <td>21.210000</td>\n",
       "      <td>23.189000</td>\n",
       "      <td>23.043000</td>\n",
       "      <td>0.010000</td>\n",
       "      <td>...</td>\n",
       "      <td>3.564511e+06</td>\n",
       "      <td>0.071121</td>\n",
       "      <td>3.531832e+06</td>\n",
       "      <td>0.076560</td>\n",
       "      <td>17.813000</td>\n",
       "      <td>17.612000</td>\n",
       "      <td>2.734</td>\n",
       "      <td>15.2580</td>\n",
       "      <td>16.520</td>\n",
       "      <td>3.382</td>\n",
       "    </tr>\n",
       "    <tr>\n",
       "      <th>233304</th>\n",
       "      <td>5.729453</td>\n",
       "      <td>0.348760</td>\n",
       "      <td>1.0</td>\n",
       "      <td>0.799000</td>\n",
       "      <td>19.850050</td>\n",
       "      <td>20.545516</td>\n",
       "      <td>19.113000</td>\n",
       "      <td>22.841597</td>\n",
       "      <td>21.943113</td>\n",
       "      <td>0.004393</td>\n",
       "      <td>...</td>\n",
       "      <td>2.143000e+01</td>\n",
       "      <td>831.000000</td>\n",
       "      <td>2.363587e+04</td>\n",
       "      <td>1.409938</td>\n",
       "      <td>16.728000</td>\n",
       "      <td>15.967000</td>\n",
       "      <td>2.727</td>\n",
       "      <td>13.7930</td>\n",
       "      <td>14.837</td>\n",
       "      <td>3.365</td>\n",
       "    </tr>\n",
       "    <tr>\n",
       "      <th>34549</th>\n",
       "      <td>35.008567</td>\n",
       "      <td>-5.017083</td>\n",
       "      <td>1.0</td>\n",
       "      <td>1.788000</td>\n",
       "      <td>19.037000</td>\n",
       "      <td>19.347342</td>\n",
       "      <td>19.186000</td>\n",
       "      <td>19.660483</td>\n",
       "      <td>19.512925</td>\n",
       "      <td>0.025000</td>\n",
       "      <td>...</td>\n",
       "      <td>4.610000e+00</td>\n",
       "      <td>152.080000</td>\n",
       "      <td>8.795211e+04</td>\n",
       "      <td>0.242103</td>\n",
       "      <td>NaN</td>\n",
       "      <td>23.339000</td>\n",
       "      <td>NaN</td>\n",
       "      <td>NaN</td>\n",
       "      <td>NaN</td>\n",
       "      <td>3.339</td>\n",
       "    </tr>\n",
       "    <tr>\n",
       "      <th>91024</th>\n",
       "      <td>179.796958</td>\n",
       "      <td>-22.476919</td>\n",
       "      <td>1.0</td>\n",
       "      <td>2.789900</td>\n",
       "      <td>17.813300</td>\n",
       "      <td>20.268277</td>\n",
       "      <td>17.340582</td>\n",
       "      <td>20.737385</td>\n",
       "      <td>20.385609</td>\n",
       "      <td>0.014055</td>\n",
       "      <td>...</td>\n",
       "      <td>8.570000e+00</td>\n",
       "      <td>238.560000</td>\n",
       "      <td>1.128210e+05</td>\n",
       "      <td>0.332353</td>\n",
       "      <td>17.143592</td>\n",
       "      <td>17.190505</td>\n",
       "      <td>0.030</td>\n",
       "      <td>15.4130</td>\n",
       "      <td>16.505</td>\n",
       "      <td>0.030</td>\n",
       "    </tr>\n",
       "    <tr>\n",
       "      <th>256</th>\n",
       "      <td>15.387460</td>\n",
       "      <td>-27.215310</td>\n",
       "      <td>0.0</td>\n",
       "      <td>0.481000</td>\n",
       "      <td>17.927047</td>\n",
       "      <td>18.213274</td>\n",
       "      <td>18.175000</td>\n",
       "      <td>20.370230</td>\n",
       "      <td>19.769858</td>\n",
       "      <td>0.020206</td>\n",
       "      <td>...</td>\n",
       "      <td>2.152000e+01</td>\n",
       "      <td>865.370000</td>\n",
       "      <td>2.116370e+04</td>\n",
       "      <td>1.487305</td>\n",
       "      <td>17.218110</td>\n",
       "      <td>17.249995</td>\n",
       "      <td>0.031</td>\n",
       "      <td>15.1760</td>\n",
       "      <td>16.341</td>\n",
       "      <td>0.031</td>\n",
       "    </tr>\n",
       "    <tr>\n",
       "      <th>34383</th>\n",
       "      <td>34.754505</td>\n",
       "      <td>-5.203933</td>\n",
       "      <td>1.0</td>\n",
       "      <td>1.510000</td>\n",
       "      <td>21.650000</td>\n",
       "      <td>22.482626</td>\n",
       "      <td>21.460000</td>\n",
       "      <td>23.518793</td>\n",
       "      <td>22.431833</td>\n",
       "      <td>0.010000</td>\n",
       "      <td>...</td>\n",
       "      <td>3.597493e+06</td>\n",
       "      <td>0.037670</td>\n",
       "      <td>3.597493e+06</td>\n",
       "      <td>0.044875</td>\n",
       "      <td>20.318000</td>\n",
       "      <td>19.509000</td>\n",
       "      <td>2.868</td>\n",
       "      <td>15.8120</td>\n",
       "      <td>17.518</td>\n",
       "      <td>3.508</td>\n",
       "    </tr>\n",
       "    <tr>\n",
       "      <th>34469</th>\n",
       "      <td>34.892418</td>\n",
       "      <td>-5.149839</td>\n",
       "      <td>1.0</td>\n",
       "      <td>2.299000</td>\n",
       "      <td>20.332700</td>\n",
       "      <td>20.270000</td>\n",
       "      <td>20.344000</td>\n",
       "      <td>20.740600</td>\n",
       "      <td>20.695500</td>\n",
       "      <td>0.004500</td>\n",
       "      <td>...</td>\n",
       "      <td>1.410000e+00</td>\n",
       "      <td>43.470000</td>\n",
       "      <td>1.120767e+05</td>\n",
       "      <td>0.042815</td>\n",
       "      <td>20.134000</td>\n",
       "      <td>19.881000</td>\n",
       "      <td>2.845</td>\n",
       "      <td>15.6540</td>\n",
       "      <td>17.901</td>\n",
       "      <td>3.579</td>\n",
       "    </tr>\n",
       "    <tr>\n",
       "      <th>34407</th>\n",
       "      <td>34.791063</td>\n",
       "      <td>-5.064037</td>\n",
       "      <td>1.0</td>\n",
       "      <td>1.651000</td>\n",
       "      <td>21.060000</td>\n",
       "      <td>22.101000</td>\n",
       "      <td>20.790000</td>\n",
       "      <td>22.759100</td>\n",
       "      <td>22.531000</td>\n",
       "      <td>0.010000</td>\n",
       "      <td>...</td>\n",
       "      <td>3.597493e+06</td>\n",
       "      <td>0.046989</td>\n",
       "      <td>3.597493e+06</td>\n",
       "      <td>0.058614</td>\n",
       "      <td>19.740000</td>\n",
       "      <td>19.355000</td>\n",
       "      <td>2.806</td>\n",
       "      <td>15.5400</td>\n",
       "      <td>17.121</td>\n",
       "      <td>3.507</td>\n",
       "    </tr>\n",
       "    <tr>\n",
       "      <th>34306</th>\n",
       "      <td>34.623340</td>\n",
       "      <td>-5.022059</td>\n",
       "      <td>1.0</td>\n",
       "      <td>3.001000</td>\n",
       "      <td>20.620000</td>\n",
       "      <td>21.441790</td>\n",
       "      <td>20.310000</td>\n",
       "      <td>24.559676</td>\n",
       "      <td>21.731164</td>\n",
       "      <td>0.010000</td>\n",
       "      <td>...</td>\n",
       "      <td>8.900000e-01</td>\n",
       "      <td>25.210000</td>\n",
       "      <td>1.458715e+05</td>\n",
       "      <td>0.029539</td>\n",
       "      <td>19.635000</td>\n",
       "      <td>19.394000</td>\n",
       "      <td>2.796</td>\n",
       "      <td>15.7780</td>\n",
       "      <td>17.731</td>\n",
       "      <td>3.501</td>\n",
       "    </tr>\n",
       "    <tr>\n",
       "      <th>34325</th>\n",
       "      <td>34.660366</td>\n",
       "      <td>-4.949798</td>\n",
       "      <td>1.0</td>\n",
       "      <td>1.097000</td>\n",
       "      <td>21.260000</td>\n",
       "      <td>22.110000</td>\n",
       "      <td>20.960000</td>\n",
       "      <td>25.702600</td>\n",
       "      <td>23.521000</td>\n",
       "      <td>0.010000</td>\n",
       "      <td>...</td>\n",
       "      <td>3.597493e+06</td>\n",
       "      <td>0.091201</td>\n",
       "      <td>3.597493e+06</td>\n",
       "      <td>0.092897</td>\n",
       "      <td>19.429000</td>\n",
       "      <td>19.551000</td>\n",
       "      <td>2.778</td>\n",
       "      <td>15.2060</td>\n",
       "      <td>17.377</td>\n",
       "      <td>3.522</td>\n",
       "    </tr>\n",
       "    <tr>\n",
       "      <th>102</th>\n",
       "      <td>169.626130</td>\n",
       "      <td>40.431670</td>\n",
       "      <td>0.0</td>\n",
       "      <td>0.154500</td>\n",
       "      <td>15.587000</td>\n",
       "      <td>15.958000</td>\n",
       "      <td>15.756000</td>\n",
       "      <td>15.781000</td>\n",
       "      <td>15.840000</td>\n",
       "      <td>0.014000</td>\n",
       "      <td>...</td>\n",
       "      <td>1.657370e+01</td>\n",
       "      <td>9.162205</td>\n",
       "      <td>2.590515e+00</td>\n",
       "      <td>11.025543</td>\n",
       "      <td>14.044000</td>\n",
       "      <td>13.775000</td>\n",
       "      <td>2.722</td>\n",
       "      <td>12.1940</td>\n",
       "      <td>12.982</td>\n",
       "      <td>3.359</td>\n",
       "    </tr>\n",
       "    <tr>\n",
       "      <th>34399</th>\n",
       "      <td>34.772603</td>\n",
       "      <td>-5.245553</td>\n",
       "      <td>1.0</td>\n",
       "      <td>0.647000</td>\n",
       "      <td>20.300000</td>\n",
       "      <td>21.175398</td>\n",
       "      <td>20.100000</td>\n",
       "      <td>24.606030</td>\n",
       "      <td>21.466703</td>\n",
       "      <td>0.010000</td>\n",
       "      <td>...</td>\n",
       "      <td>3.597493e+06</td>\n",
       "      <td>0.128233</td>\n",
       "      <td>3.597493e+06</td>\n",
       "      <td>0.134276</td>\n",
       "      <td>18.745000</td>\n",
       "      <td>18.720000</td>\n",
       "      <td>2.751</td>\n",
       "      <td>15.4770</td>\n",
       "      <td>17.289</td>\n",
       "      <td>3.425</td>\n",
       "    </tr>\n",
       "  </tbody>\n",
       "</table>\n",
       "<p>50 rows × 29 columns</p>\n",
       "</div>"
      ],
      "text/plain": [
       "                RA        DEC  AGN    best_z      i_mag      r_mag      z_mag  \\\n",
       "31      318.841683  12.300792  0.0  1.233161  17.352909  19.997735  22.210000   \n",
       "5       130.169860  13.290490  0.0  1.964000  20.776632  20.896219  20.465952   \n",
       "1        39.768000  25.920000  0.0  2.415000  20.858900  20.851000  19.140000   \n",
       "19      218.345400  60.120800  0.0  1.311151  21.340172  21.758242  17.630604   \n",
       "157     206.030610  -0.475670  0.0  2.273000  19.620714  19.670056  17.644936   \n",
       "64031   150.090792  22.555169  1.0  2.766000  16.860906  20.234067  16.851913   \n",
       "460       0.285917  19.242828  0.0  2.375000  17.402841  20.264114  19.070000   \n",
       "462       0.325000  -7.774078  0.0  2.439000  21.216860  21.210220  17.687835   \n",
       "13062    10.921876   0.881479  1.0  0.834200  18.631000  19.457511  17.936000   \n",
       "30      340.125975   3.358508  0.0  2.146300  21.880000  20.313700  21.840000   \n",
       "81      160.625570   1.039910  0.0  0.966300  17.977508  18.190801  19.310000   \n",
       "90193   171.466625  -7.705858  1.0  2.929900  19.137000  19.115000  18.443000   \n",
       "34443    34.849221  -4.863715  1.0  0.630000  19.210000  19.107000  19.010000   \n",
       "384     213.942710  11.495390  0.0  2.560300  16.942000  16.725000  16.840000   \n",
       "179     227.516730   7.676990  0.0  2.415000  16.944365  19.929493  16.791560   \n",
       "3       101.148750  60.646560  0.0  0.721300  17.393000  17.576000  17.438000   \n",
       "34277    34.585337  -5.074018  1.0  0.649000  19.798500  19.988000  19.721200   \n",
       "157914  244.156500   4.992419  1.0  2.742000  21.321675  21.715236  16.853877   \n",
       "166581  317.186333  -2.842828  1.0  3.097000  19.768103  20.123992  14.790000   \n",
       "34293    34.613269  -4.915272  1.0  2.214000  19.310000  19.624549  18.890000   \n",
       "75      139.609040  16.602520  0.0  1.148600  17.337371  18.965000  17.294064   \n",
       "17      214.102800  23.270700  0.0  2.523000  17.452432  17.514550  17.398012   \n",
       "34561    35.023099  -5.157922  1.0  0.967000  19.870000  20.002078  19.580000   \n",
       "202849  166.639111 -18.356608  1.0  2.303000  16.974000  17.014000  16.793000   \n",
       "166299  293.334542   7.439389  1.0  0.423100  20.251722  20.545516  17.569714   \n",
       "34305    34.627460  -4.939764  1.0  1.400000  14.780000  17.705000  14.040000   \n",
       "13      182.930950   8.563800  0.0  2.872000  21.605067  21.911083  17.392556   \n",
       "34271    34.571605  -5.049603  1.0  1.287000  20.780000  20.402782  20.890000   \n",
       "38859    62.341708  12.294389  1.0  2.301900  20.269668  20.810459  20.091616   \n",
       "34382    34.752559  -5.283807  1.0  1.451000  21.021000  21.847000  19.370000   \n",
       "9       148.217000   7.199000  0.0  0.368989  21.366609  21.911083  17.695136   \n",
       "34400    34.773053  -5.178322  1.0  1.656000  20.504500  20.954000  20.510000   \n",
       "254      14.772980   0.114340  0.0  0.718900  17.547000  17.457000  17.395000   \n",
       "5230      5.541513   0.274793  1.0  0.574900  18.020000  18.168000  18.118000   \n",
       "202854  157.612862   5.415299  1.0  6.311000  23.540000  24.160000  20.190000   \n",
       "34432    34.833861  -5.149418  1.0  1.147000  21.050000  21.552443  20.870000   \n",
       "34243    34.535649  -5.206754  1.0  1.039000  21.050000  20.552000  21.020000   \n",
       "34318    34.643682  -5.232507  1.0  0.514000  20.510000  21.641676  20.180000   \n",
       "34607    35.103092  -5.042037  1.0  0.253000  21.860000  22.582000  21.210000   \n",
       "233304    5.729453   0.348760  1.0  0.799000  19.850050  20.545516  19.113000   \n",
       "34549    35.008567  -5.017083  1.0  1.788000  19.037000  19.347342  19.186000   \n",
       "91024   179.796958 -22.476919  1.0  2.789900  17.813300  20.268277  17.340582   \n",
       "256      15.387460 -27.215310  0.0  0.481000  17.927047  18.213274  18.175000   \n",
       "34383    34.754505  -5.203933  1.0  1.510000  21.650000  22.482626  21.460000   \n",
       "34469    34.892418  -5.149839  1.0  2.299000  20.332700  20.270000  20.344000   \n",
       "34407    34.791063  -5.064037  1.0  1.651000  21.060000  22.101000  20.790000   \n",
       "34306    34.623340  -5.022059  1.0  3.001000  20.620000  21.441790  20.310000   \n",
       "34325    34.660366  -4.949798  1.0  1.097000  21.260000  22.110000  20.960000   \n",
       "102     169.626130  40.431670  0.0  0.154500  15.587000  15.958000  15.756000   \n",
       "34399    34.772603  -5.245553  1.0  0.647000  20.300000  21.175398  20.100000   \n",
       "\n",
       "            u_mag      g_mag   e_i_mag  ...        e_rf10         rf10  \\\n",
       "31      20.355066  20.373289  0.017647  ...  6.840000e+00    94.020000   \n",
       "5       21.393705  21.124334  0.007345  ...  6.160000e+00   107.840000   \n",
       "1       20.866000  21.322000  0.007500  ...  8.680000e+00   188.450000   \n",
       "19      22.376859  22.416345  0.014812  ...  4.070000e+00    77.480000   \n",
       "157     20.752479  20.018521  0.014999  ...  4.850000e+00    61.940000   \n",
       "64031   20.156110  20.142405  0.015198  ...  6.500000e+00    88.230000   \n",
       "460     20.371759  20.349059  0.014947  ...  5.350000e+00    55.820000   \n",
       "462     21.509406  21.513775  0.011302  ...  6.850000e+00    84.490000   \n",
       "13062   22.198470  20.501553  0.005000  ...  7.096000e+01  3081.770000   \n",
       "30      20.743828  20.429867  0.010000  ...  8.070000e+00    85.900000   \n",
       "81      19.892482  19.499831  0.014826  ...  1.215000e+01   387.970000   \n",
       "90193   19.576453  19.493003  0.017000  ...  1.184000e+01   389.400000   \n",
       "34443   19.129000  18.926000  0.010000  ...  1.155000e+01   384.120000   \n",
       "384     19.047000  17.201468  0.374000  ...           NaN          NaN   \n",
       "179     21.982840  20.531253  0.011442  ...  1.075000e+01   353.830000   \n",
       "3       17.951000  17.678000  0.012000  ...  1.277000e+01   513.330000   \n",
       "34277   21.050200  20.475300  0.003300  ...  3.597493e+06     0.322107   \n",
       "157914  22.320199  21.956195  0.011247  ...  5.360000e+00    78.630000   \n",
       "166581  20.625564  20.469293  0.010476  ...  6.160000e+00    86.860000   \n",
       "34293   20.292171  19.744678  0.010000  ...  3.600000e+00   112.830000   \n",
       "75      19.935616  18.948025  0.022693  ...  1.090000e+01   295.940000   \n",
       "17      19.858595  19.543868  0.013195  ...  1.137000e+01   425.790000   \n",
       "34561   20.312251  20.292171  0.010000  ...  5.500000e+00   182.560000   \n",
       "202849  17.800000  17.083000  0.015000  ...  2.744000e+01  1146.040000   \n",
       "166299  21.130468  20.886349  0.008612  ...  6.610000e+00    93.150000   \n",
       "34305   18.001000  17.954000  0.010000  ...  2.113000e+01   695.200000   \n",
       "13      23.001553  22.231880  0.009586  ...  5.750000e+00    28.760000   \n",
       "34271   20.869289  20.799066  0.010000  ...  3.040000e+00    99.450000   \n",
       "38859   23.550445  21.837860  0.005915  ...  6.550000e+00    50.070000   \n",
       "34382   19.640806  19.609289  0.008000  ...  4.710000e+00   156.050000   \n",
       "9       23.391273  22.223430  0.009183  ...  1.000000e-05     0.019830   \n",
       "34400   21.040400  20.994000  0.006000  ...  1.200000e+00    37.380000   \n",
       "254     17.697000  17.462000  0.004000  ...  3.576000e+01  1553.100000   \n",
       "5230    18.406000  18.130000  0.004000  ...  1.995000e+01   746.790000   \n",
       "202854  26.010000  25.850000  0.280000  ...           NaN          NaN   \n",
       "34432   23.497940  21.915644  0.010000  ...  3.597493e+06     0.087902   \n",
       "34243   22.800524  20.766000  0.010000  ...  3.597493e+06     0.059704   \n",
       "34318   23.429464  22.096104  0.010000  ...  3.597493e+06     0.118032   \n",
       "34607   23.189000  23.043000  0.010000  ...  3.564511e+06     0.071121   \n",
       "233304  22.841597  21.943113  0.004393  ...  2.143000e+01   831.000000   \n",
       "34549   19.660483  19.512925  0.025000  ...  4.610000e+00   152.080000   \n",
       "91024   20.737385  20.385609  0.014055  ...  8.570000e+00   238.560000   \n",
       "256     20.370230  19.769858  0.020206  ...  2.152000e+01   865.370000   \n",
       "34383   23.518793  22.431833  0.010000  ...  3.597493e+06     0.037670   \n",
       "34469   20.740600  20.695500  0.004500  ...  1.410000e+00    43.470000   \n",
       "34407   22.759100  22.531000  0.010000  ...  3.597493e+06     0.046989   \n",
       "34306   24.559676  21.731164  0.010000  ...  8.900000e-01    25.210000   \n",
       "34325   25.702600  23.521000  0.010000  ...  3.597493e+06     0.091201   \n",
       "102     15.781000  15.840000  0.014000  ...  1.657370e+01     9.162205   \n",
       "34399   24.606030  21.466703  0.010000  ...  3.597493e+06     0.128233   \n",
       "\n",
       "              e_rf12       rf12     W1_mag     W2_mag  e_W1_mag   W4_mag  \\\n",
       "31      2.976636e+05   0.132923  16.578309  16.599377     0.027  14.6240   \n",
       "5       3.542632e+05   0.112824  18.920000  19.310000     0.070  15.4630   \n",
       "1       1.145706e+05   0.315646  17.113495  17.178203     0.027  14.8000   \n",
       "19      2.312496e+05   0.098265  16.882976  17.043664     0.026  15.9370   \n",
       "157     3.501226e+05   0.088145  17.230388  17.075575     0.029  15.5070   \n",
       "64031   2.813452e+05   0.127644  16.775583  16.502588     0.028  15.3200   \n",
       "460     4.985584e+05   0.072444  16.872552  17.039300     0.028  13.3580   \n",
       "462     5.487622e+05   0.084023  17.725882  17.511274     0.038  15.6350   \n",
       "13062   7.722420e+02   4.943107  15.292000  14.611000     2.724  13.1150   \n",
       "30      4.763404e+05   0.115133  16.868066  16.957554     0.029  14.4640   \n",
       "81      7.422558e+04   0.550554  17.581936  17.755770     0.035  14.7370   \n",
       "90193   9.358720e+04   0.436516  17.694000  16.799000     2.735  15.4140   \n",
       "34443   7.257061e+04   0.450817  17.561000  17.323000     2.730  15.1080   \n",
       "384              NaN        NaN  15.700000  15.002000     2.722  12.0020   \n",
       "179     7.073615e+04   0.542500  16.001142  16.339702     0.024  15.2700   \n",
       "3       3.725325e+04   0.873373  17.192801  17.404212     0.026  15.5980   \n",
       "34277   3.597493e+06   0.409261  17.708000  17.385000     2.733  15.1310   \n",
       "157914  4.282681e+05   0.076842  16.233631  16.112218     0.025  14.9600   \n",
       "166581  3.539263e+05   0.104616  17.196971  17.314480     0.032  15.4640   \n",
       "34293   1.006005e+05   0.160103  18.742000  18.366000     2.750  15.7770   \n",
       "75      8.809686e+04   0.475992  16.351523  16.579542     0.026  15.2980   \n",
       "17      6.015479e+04   0.551061  17.111610  16.806154     0.027  15.6150   \n",
       "34561   8.767971e+04   0.245471  18.433000  17.968000     2.743  15.6720   \n",
       "202849  2.234103e+04   1.384204  16.297000  16.035000     2.725  13.8070   \n",
       "166299  2.110144e+05   0.168733  17.280346  17.490908     0.031  14.7450   \n",
       "34305   3.502890e+04   1.241652  17.189000  16.243000     2.726  14.0630   \n",
       "13      6.566558e+05   0.053015  16.312133  16.485240     0.025  14.3460   \n",
       "34271   9.823877e+04   0.122011  18.906000  18.615000     2.756  15.4580   \n",
       "38859   2.854567e+05   0.111892  17.177919  17.257689     0.032  13.7425   \n",
       "34382   8.866437e+04   0.233346  18.610000  17.979000     2.748  15.6560   \n",
       "9       4.654044e+05   0.069823  17.106438  17.216931     0.029  15.1730   \n",
       "34400   1.073231e+05   0.058398  20.177000  19.483000     2.848  15.2990   \n",
       "254     1.011157e+04   2.244916  16.011000  15.483000     2.724  13.3930   \n",
       "5230    3.187670e+04   1.126160  16.817000  16.225000     2.728  14.2370   \n",
       "202854           NaN        NaN  19.280000  18.910000     0.090      NaN   \n",
       "34432   3.597493e+06   0.092897  19.017000  19.133000     2.757  15.0340   \n",
       "34243   3.597493e+06   0.060814  19.580000  19.470000     2.792  15.6300   \n",
       "34318   3.597493e+06   0.125893  19.003000  19.426000     2.757  15.5770   \n",
       "34607   3.531832e+06   0.076560  17.813000  17.612000     2.734  15.2580   \n",
       "233304  2.363587e+04   1.409938  16.728000  15.967000     2.727  13.7930   \n",
       "34549   8.795211e+04   0.242103        NaN  23.339000       NaN      NaN   \n",
       "91024   1.128210e+05   0.332353  17.143592  17.190505     0.030  15.4130   \n",
       "256     2.116370e+04   1.487305  17.218110  17.249995     0.031  15.1760   \n",
       "34383   3.597493e+06   0.044875  20.318000  19.509000     2.868  15.8120   \n",
       "34469   1.120767e+05   0.042815  20.134000  19.881000     2.845  15.6540   \n",
       "34407   3.597493e+06   0.058614  19.740000  19.355000     2.806  15.5400   \n",
       "34306   1.458715e+05   0.029539  19.635000  19.394000     2.796  15.7780   \n",
       "34325   3.597493e+06   0.092897  19.429000  19.551000     2.778  15.2060   \n",
       "102     2.590515e+00  11.025543  14.044000  13.775000     2.722  12.1940   \n",
       "34399   3.597493e+06   0.134276  18.745000  18.720000     2.751  15.4770   \n",
       "\n",
       "        W3_mag  e_W2_mag  \n",
       "31      15.475     0.027  \n",
       "5       15.960     0.180  \n",
       "1       15.900     0.027  \n",
       "19      15.771     0.026  \n",
       "157     15.549     0.029  \n",
       "64031   15.861     0.028  \n",
       "460     14.332     0.028  \n",
       "462     16.524     0.038  \n",
       "13062   13.699     3.361  \n",
       "30      15.886     0.029  \n",
       "81      15.899     0.035  \n",
       "90193   15.662     3.373  \n",
       "34443   16.402     3.379  \n",
       "384     12.956     3.361  \n",
       "179     16.669     0.024  \n",
       "3       15.188     0.026  \n",
       "34277   16.658     3.376  \n",
       "157914  16.152     0.025  \n",
       "166581  16.475     0.032  \n",
       "34293   16.700     3.403  \n",
       "75      16.566     0.026  \n",
       "17      16.301     0.027  \n",
       "34561   17.000     3.393  \n",
       "202849  14.648     3.363  \n",
       "166299  14.799     0.031  \n",
       "34305   14.903     3.364  \n",
       "13      15.338     0.025  \n",
       "34271   17.273     3.423  \n",
       "38859   16.551     0.032  \n",
       "34382   17.020     3.392  \n",
       "9       16.520     0.029  \n",
       "34400   18.097     3.515  \n",
       "254     14.500     3.363  \n",
       "5230    15.133     3.366  \n",
       "202854     NaN     0.150  \n",
       "34432   18.038     3.458  \n",
       "34243   18.034     3.513  \n",
       "34318   17.439     3.500  \n",
       "34607   16.520     3.382  \n",
       "233304  14.837     3.365  \n",
       "34549      NaN     3.339  \n",
       "91024   16.505     0.030  \n",
       "256     16.341     0.031  \n",
       "34383   17.518     3.508  \n",
       "34469   17.901     3.579  \n",
       "34407   17.121     3.507  \n",
       "34306   17.731     3.501  \n",
       "34325   17.377     3.522  \n",
       "102     12.982     3.359  \n",
       "34399   17.289     3.425  \n",
       "\n",
       "[50 rows x 29 columns]"
      ]
     },
     "execution_count": 215,
     "metadata": {},
     "output_type": "execute_result"
    }
   ],
   "source": [
    "df.head(50)"
   ]
  },
  {
   "cell_type": "code",
   "execution_count": 216,
   "metadata": {},
   "outputs": [],
   "source": [
    "# select top 9698 AGN so AGN:non-AGN is 50:50\n",
    "df_nonagn = df.loc[df['AGN'] != 1.]\n",
    "df_agn = df.loc[df['AGN'] == 1.]\n",
    "df_agn = df_agn.iloc[:9698]\n",
    "df = pd.concat([df_agn, df_nonagn])"
   ]
  },
  {
   "cell_type": "code",
   "execution_count": 217,
   "metadata": {},
   "outputs": [
    {
     "name": "stdout",
     "output_type": "stream",
     "text": [
      "AGN: 9698.00,       non-AGN: 9698.00,       NaN: 11485.00\n",
      "AGN: 31.40%,       non-AGN: 31.40%,       NaN: 37.19%\n"
     ]
    }
   ],
   "source": [
    "# check agn:non-agn ratio in new df\n",
    "print(f\"AGN: {len(df[df['AGN']==1]):.2f}, \\\n",
    "      non-AGN: {len(df[df['AGN']==0]):.2f}, \\\n",
    "      NaN: {df['AGN'].isna().sum():.2f}\")\n",
    "print(f\"AGN: {100*len(df[df['AGN']==1])/len(df):.2f}%, \\\n",
    "      non-AGN: {100*len(df[df['AGN']==0])/len(df):.2f}%, \\\n",
    "      NaN: {100*df['AGN'].isna().sum()/len(df):.2f}%\")"
   ]
  },
  {
   "cell_type": "code",
   "execution_count": 218,
   "metadata": {
    "scrolled": true
   },
   "outputs": [
    {
     "data": {
      "text/plain": [
       "RA              float64\n",
       "DEC             float64\n",
       "AGN             float64\n",
       "best_z          float64\n",
       "i_mag           float64\n",
       "r_mag           float64\n",
       "z_mag           float64\n",
       "u_mag           float64\n",
       "g_mag           float64\n",
       "e_i_mag         float64\n",
       "e_z_mag         float64\n",
       "e_r_mag         float64\n",
       "e_u_mag         float64\n",
       "u_extinction    float64\n",
       "r_extinction    float64\n",
       "e_g_mag         float64\n",
       "g_extinction    float64\n",
       "i_extinction    float64\n",
       "z_extinction    float64\n",
       "e_rf10          float64\n",
       "rf10            float64\n",
       "e_rf12          float64\n",
       "rf12            float64\n",
       "W1_mag          float64\n",
       "W2_mag          float64\n",
       "e_W1_mag        float64\n",
       "W4_mag          float64\n",
       "W3_mag          float64\n",
       "e_W2_mag        float64\n",
       "dtype: object"
      ]
     },
     "execution_count": 218,
     "metadata": {},
     "output_type": "execute_result"
    }
   ],
   "source": [
    "# check types\n",
    "df.dtypes"
   ]
  },
  {
   "cell_type": "markdown",
   "metadata": {},
   "source": [
    "## Train/dev/test set split\n",
    "<font color='green'>\n",
    "<ul>\n",
    "  <li>We will use all labeled data for Train/Dev set, and the remaining unlabeled data as Test set.</li>\n",
    "  <li>To ensure that dev and test sets come from the same distribution, we first select 80% of the labeled data as training set, and after imputation with train/test median values, we then divide the remaining data as dev/test set.</li>\n",
    "</ul>"
   ]
  },
  {
   "cell_type": "code",
   "execution_count": 235,
   "metadata": {},
   "outputs": [],
   "source": [
    "# labeled data\n",
    "df_labeled = df[~np.isnan(df['AGN'])]\n",
    "\n",
    "# unlabeled data for test set\n",
    "df_test = df[np.isnan(df['AGN'])]\n",
    "\n",
    "# divide labeled data for train/dev with train set = 80%\n",
    "df_train, df_dev = np.split(df_labeled.sample(frac=1, random_state=42), [int(.8*len(df_labeled))])\n",
    "\n",
    "# merge dev/test set\n",
    "df_dev_test = pd.concat([df_dev, df_test])"
   ]
  },
  {
   "cell_type": "code",
   "execution_count": 222,
   "metadata": {},
   "outputs": [
    {
     "data": {
      "text/plain": [
       "3880"
      ]
     },
     "execution_count": 222,
     "metadata": {},
     "output_type": "execute_result"
    }
   ],
   "source": [
    "len(df_dev)"
   ]
  },
  {
   "cell_type": "code",
   "execution_count": 223,
   "metadata": {},
   "outputs": [],
   "source": [
    "assert len(df_train)+len(df_dev)+len(df_test)==len(df),\"length not equal!\"\n",
    "assert len(df_train)+len(df_dev)==len(df_labeled),\"length not equal!\"\n",
    "assert len(df_test)+len(df_dev)==len(df_dev_test),\"length not equal!\"\n",
    "assert df_train['AGN'].isnull().values.sum()==0,\"Unlabeled data in train set!\"\n",
    "assert df_dev['AGN'].isnull().values.sum()==0,\"Unlabeled data in dev set!\""
   ]
  },
  {
   "cell_type": "markdown",
   "metadata": {},
   "source": [
    "## Remove outliers\n",
    "<font color='green'>\n",
    "<ul>\n",
    "  <li>replace values beyond Q1-1.5IQR and Q3+1.5IQR with boundary values </li>\n",
    "</ul>"
   ]
  },
  {
   "cell_type": "code",
   "execution_count": 236,
   "metadata": {},
   "outputs": [],
   "source": [
    "features = list(set(df_train.columns) - {'best_class','AGN','RA','DEC'})\n",
    "for col in features:\n",
    "    q1 =  df_train[col].quantile(0.25)\n",
    "    q3 =  df_train[col].quantile(0.75)\n",
    "    iqr = q3-q1\n",
    "    assert iqr!=0, f'train-{col}: Q1 = Q3 = {q1}!'\n",
    "    q_low = q1-1.5*iqr\n",
    "    q_hi  = q3+1.5*iqr\n",
    "    df_train.loc[df_train[col] > q_hi, col] = q_hi\n",
    "    df_train.loc[df_train[col] < q_low, col] = q_low\n",
    "    \n",
    "    q1 =  df_dev_test[col].quantile(0.25)\n",
    "    q3 =  df_dev_test[col].quantile(0.75)\n",
    "    iqr = q3-q1\n",
    "    assert iqr!=0, f'test-{col}: Q1 = Q3 = {q1}!'\n",
    "    q_low = q1-1.5*iqr\n",
    "    q_hi  = q3+1.5*iqr\n",
    "    df_dev_test.loc[df_dev_test[col] > q_hi, col] = q_hi\n",
    "    df_dev_test.loc[df_dev_test[col] < q_low, col] = q_low"
   ]
  },
  {
   "cell_type": "markdown",
   "metadata": {},
   "source": [
    "## Missing Values"
   ]
  },
  {
   "cell_type": "markdown",
   "metadata": {},
   "source": [
    "<font color='green'> Check train/dev/test set missing values"
   ]
  },
  {
   "cell_type": "code",
   "execution_count": 225,
   "metadata": {
    "scrolled": true
   },
   "outputs": [
    {
     "data": {
      "text/markdown": [
       "<font color=\"red\">Train set"
      ],
      "text/plain": [
       "<IPython.core.display.Markdown object>"
      ]
     },
     "metadata": {},
     "output_type": "display_data"
    },
    {
     "name": "stdout",
     "output_type": "stream",
     "text": [
      "('RA', '100.00 %')\n",
      "('DEC', '100.00 %')\n",
      "('AGN', '100.00 %')\n",
      "('best_z', '91.50 %')\n",
      "('i_mag', '89.97 %')\n",
      "('z_mag', '89.78 %')\n",
      "('e_i_mag', '89.08 %')\n",
      "('e_z_mag', '89.06 %')\n",
      "('r_mag', '88.43 %')\n",
      "('g_mag', '88.04 %')\n",
      "('u_mag', '88.01 %')\n",
      "('e_r_mag', '87.08 %')\n",
      "('e_u_mag', '86.98 %')\n",
      "('u_extinction', '85.79 %')\n",
      "('e_g_mag', '82.13 %')\n",
      "('r_extinction', '80.61 %')\n",
      "('g_extinction', '77.20 %')\n",
      "('i_extinction', '72.91 %')\n",
      "('z_extinction', '72.90 %')\n",
      "('e_rf10', '72.02 %')\n",
      "('rf10', '72.02 %')\n",
      "('e_rf12', '72.02 %')\n",
      "('rf12', '72.02 %')\n",
      "('W1_mag', '56.88 %')\n",
      "('W2_mag', '55.38 %')\n",
      "('e_W1_mag', '55.25 %')\n",
      "('e_W2_mag', '55.01 %')\n",
      "('W4_mag', '54.77 %')\n",
      "('W3_mag', '54.76 %')\n"
     ]
    },
    {
     "data": {
      "text/markdown": [
       "<font color=\"red\">Dev/Test set"
      ],
      "text/plain": [
       "<IPython.core.display.Markdown object>"
      ]
     },
     "metadata": {},
     "output_type": "display_data"
    },
    {
     "name": "stdout",
     "output_type": "stream",
     "text": [
      "('RA', '100.00 %')\n",
      "('DEC', '100.00 %')\n",
      "('best_z', '96.96 %')\n",
      "('i_mag', '96.58 %')\n",
      "('z_mag', '96.48 %')\n",
      "('e_i_mag', '96.36 %')\n",
      "('e_z_mag', '96.34 %')\n",
      "('r_mag', '96.13 %')\n",
      "('g_mag', '96.02 %')\n",
      "('u_mag', '95.95 %')\n",
      "('e_r_mag', '95.70 %')\n",
      "('e_u_mag', '95.67 %')\n",
      "('u_extinction', '95.29 %')\n",
      "('e_g_mag', '94.36 %')\n",
      "('r_extinction', '91.29 %')\n",
      "('e_rf10', '91.14 %')\n",
      "('rf10', '91.14 %')\n",
      "('e_rf12', '91.14 %')\n",
      "('rf12', '91.14 %')\n",
      "('g_extinction', '90.35 %')\n",
      "('i_extinction', '89.18 %')\n",
      "('z_extinction', '89.18 %')\n",
      "('W1_mag', '53.43 %')\n",
      "('W2_mag', '51.99 %')\n",
      "('e_W1_mag', '51.97 %')\n",
      "('e_W2_mag', '51.91 %')\n",
      "('W3_mag', '51.83 %')\n",
      "('W4_mag', '51.82 %')\n",
      "('AGN', '25.25 %')\n"
     ]
    }
   ],
   "source": [
    "perc = non_nan_percent(df_train,df_train.columns)\n",
    "printmd('<font color=\"red\">Train set')\n",
    "print(*perc.items(),sep='\\n')\n",
    "perc = non_nan_percent(df_dev_test,df_dev_test.columns)\n",
    "printmd('<font color=\"red\">Dev/Test set')\n",
    "print(*perc.items(),sep='\\n')"
   ]
  },
  {
   "cell_type": "markdown",
   "metadata": {},
   "source": [
    "<font color='green'> Imputation probably won't work well for Wise mags and fluxes given the high fraction missing values, but let's try. "
   ]
  },
  {
   "cell_type": "markdown",
   "metadata": {},
   "source": [
    "### Magnitudes and Extinctions\n",
    "<font color='green'> For __magnitudes__, we can use linear regression to fill in the missing values, since they are correlated."
   ]
  },
  {
   "cell_type": "code",
   "execution_count": 233,
   "metadata": {
    "scrolled": true
   },
   "outputs": [
    {
     "data": {
      "text/markdown": [
       "<font color=\"red\">Train set magnitudes correlation:"
      ],
      "text/plain": [
       "<IPython.core.display.Markdown object>"
      ]
     },
     "metadata": {},
     "output_type": "display_data"
    },
    {
     "name": "stdout",
     "output_type": "stream",
     "text": [
      "i_mag           1.000000\n",
      "r_mag           0.970897\n",
      "z_mag           0.966966\n",
      "g_mag           0.922401\n",
      "u_mag           0.814156\n",
      "W2_mag          0.792060\n",
      "W3_mag          0.764191\n",
      "W1_mag          0.751257\n",
      "e_W2_mag        0.684136\n",
      "e_W1_mag        0.643641\n",
      "e_rf12          0.638257\n",
      "W4_mag          0.540924\n",
      "u_extinction    0.287191\n",
      "e_z_mag         0.274541\n",
      "r_extinction    0.211103\n",
      "e_u_mag         0.137534\n",
      "e_r_mag         0.089824\n",
      "e_i_mag         0.087555\n",
      "best_z          0.082921\n",
      "AGN             0.039837\n",
      "i_extinction   -0.016169\n",
      "z_extinction   -0.017407\n",
      "g_extinction   -0.131429\n",
      "e_g_mag        -0.143882\n",
      "DEC            -0.179914\n",
      "RA             -0.218790\n",
      "e_rf10         -0.423324\n",
      "rf10           -0.734052\n",
      "rf12           -0.755732\n",
      "dtype: float64\n"
     ]
    },
    {
     "data": {
      "text/markdown": [
       "<font color=\"red\">Dev/Test set magnitudes correlation:"
      ],
      "text/plain": [
       "<IPython.core.display.Markdown object>"
      ]
     },
     "metadata": {},
     "output_type": "display_data"
    },
    {
     "name": "stdout",
     "output_type": "stream",
     "text": [
      "i_mag           1.000000\n",
      "r_mag           0.974174\n",
      "z_mag           0.971819\n",
      "g_mag           0.940854\n",
      "u_mag           0.864535\n",
      "W2_mag          0.730568\n",
      "W3_mag          0.729047\n",
      "W1_mag          0.668899\n",
      "e_rf12          0.633739\n",
      "e_W2_mag        0.618128\n",
      "e_W1_mag        0.566715\n",
      "W4_mag          0.486947\n",
      "e_z_mag         0.208201\n",
      "AGN             0.050684\n",
      "best_z         -0.049038\n",
      "u_extinction   -0.054341\n",
      "DEC            -0.061289\n",
      "r_extinction   -0.140632\n",
      "e_i_mag        -0.184700\n",
      "RA             -0.201025\n",
      "z_extinction   -0.216475\n",
      "i_extinction   -0.216523\n",
      "g_extinction   -0.239490\n",
      "e_r_mag        -0.282608\n",
      "e_u_mag        -0.285693\n",
      "e_g_mag        -0.468509\n",
      "e_rf10         -0.570289\n",
      "rf10           -0.679893\n",
      "rf12           -0.724581\n",
      "dtype: float64\n"
     ]
    }
   ],
   "source": [
    "# Check correlation for magitude columns\n",
    "printmd('<font color=\"red\">Train set magnitudes correlation:')\n",
    "i_magnitude = df_train['i_mag']\n",
    "similar_mags = df_train.corrwith(i_magnitude)\n",
    "similar_mags = similar_mags.dropna()\n",
    "print(similar_mags.sort_values(ascending=False))\n",
    "\n",
    "printmd('<font color=\"red\">Dev/Test set magnitudes correlation:')\n",
    "i_magnitude = df_dev_test['i_mag']\n",
    "similar_mags = df_dev_test.corrwith(i_magnitude)\n",
    "similar_mags = similar_mags.dropna()\n",
    "print(similar_mags.sort_values(ascending=False))"
   ]
  },
  {
   "cell_type": "code",
   "execution_count": 228,
   "metadata": {
    "scrolled": true
   },
   "outputs": [
    {
     "data": {
      "text/markdown": [
       "<font color=\"red\">Train set Wise magnitudes correlation:"
      ],
      "text/plain": [
       "<IPython.core.display.Markdown object>"
      ]
     },
     "metadata": {},
     "output_type": "display_data"
    },
    {
     "name": "stdout",
     "output_type": "stream",
     "text": [
      "W1_mag          1.000000\n",
      "W2_mag          0.967788\n",
      "W3_mag          0.860566\n",
      "e_W1_mag        0.844802\n",
      "e_W2_mag        0.817043\n",
      "z_mag           0.771319\n",
      "i_mag           0.751257\n",
      "r_mag           0.727368\n",
      "e_rf12          0.713316\n",
      "g_mag           0.665048\n",
      "W4_mag          0.640671\n",
      "u_mag           0.572291\n",
      "best_z          0.498113\n",
      "u_extinction    0.334170\n",
      "e_z_mag         0.274175\n",
      "r_extinction    0.242528\n",
      "AGN             0.135278\n",
      "e_u_mag         0.061623\n",
      "e_i_mag         0.052719\n",
      "e_r_mag         0.007569\n",
      "DEC            -0.037022\n",
      "i_extinction   -0.056133\n",
      "z_extinction   -0.058552\n",
      "e_g_mag        -0.144430\n",
      "g_extinction   -0.171882\n",
      "RA             -0.214832\n",
      "e_rf10         -0.866111\n",
      "rf10           -0.912047\n",
      "rf12           -0.918273\n",
      "dtype: float64\n"
     ]
    },
    {
     "data": {
      "text/markdown": [
       "<font color=\"red\">Dev/Test set Wise magnitudes correlation:"
      ],
      "text/plain": [
       "<IPython.core.display.Markdown object>"
      ]
     },
     "metadata": {},
     "output_type": "display_data"
    },
    {
     "name": "stdout",
     "output_type": "stream",
     "text": [
      "W1_mag          1.000000\n",
      "W2_mag          0.962225\n",
      "e_W1_mag        0.870732\n",
      "e_W2_mag        0.847048\n",
      "W3_mag          0.812411\n",
      "e_rf12          0.776003\n",
      "z_mag           0.694088\n",
      "i_mag           0.668899\n",
      "r_mag           0.667554\n",
      "g_mag           0.621322\n",
      "W4_mag          0.587935\n",
      "u_mag           0.545852\n",
      "best_z          0.492825\n",
      "e_z_mag         0.249916\n",
      "AGN             0.151246\n",
      "DEC             0.124304\n",
      "u_extinction    0.057260\n",
      "e_i_mag        -0.050149\n",
      "r_extinction   -0.081592\n",
      "e_u_mag        -0.134666\n",
      "e_r_mag        -0.138667\n",
      "RA             -0.152872\n",
      "i_extinction   -0.212855\n",
      "z_extinction   -0.213076\n",
      "g_extinction   -0.250618\n",
      "e_g_mag        -0.269572\n",
      "e_rf10         -0.888764\n",
      "rf12           -0.929389\n",
      "rf10           -0.952211\n",
      "dtype: float64\n"
     ]
    }
   ],
   "source": [
    "# Check correlation for WISE magitude columns\n",
    "printmd('<font color=\"red\">Train set Wise magnitudes correlation:')\n",
    "w1 = df_train['W1_mag']\n",
    "w_mags = df_train.corrwith(w1)\n",
    "w_mags = w_mags.dropna()\n",
    "print(w_mags.sort_values(ascending=False))\n",
    "\n",
    "printmd('<font color=\"red\">Dev/Test set Wise magnitudes correlation:')\n",
    "w1 = df_dev_test['W1_mag']\n",
    "w_mags = df_dev_test.corrwith(w1)\n",
    "w_mags = w_mags.dropna()\n",
    "print(w_mags.sort_values(ascending=False))"
   ]
  },
  {
   "cell_type": "markdown",
   "metadata": {},
   "source": [
    "<font color='green'>Looks like W4 is still not correlated with W1 magnitude, jugding from scatter plot. <br>"
   ]
  },
  {
   "cell_type": "code",
   "execution_count": 231,
   "metadata": {
    "scrolled": true
   },
   "outputs": [
    {
     "data": {
      "text/plain": [
       "Text(0, 0.5, 'W3_mag')"
      ]
     },
     "execution_count": 231,
     "metadata": {},
     "output_type": "execute_result"
    },
    {
     "data": {
      "image/png": "[encoded data removed]",
      "text/plain": [
       "<Figure size 360x360 with 1 Axes>"
      ]
     },
     "metadata": {
      "needs_background": "light"
     },
     "output_type": "display_data"
    }
   ],
   "source": [
    "fig, ax = plt.subplots(1, 1, figsize=(5, 5))\n",
    "ax.scatter(df_train['W1_mag'], df_train['W3_mag'] ,s=1)\n",
    "plt.xlabel('W1_mag')\n",
    "plt.ylabel('W3_mag')"
   ]
  },
  {
   "cell_type": "code",
   "execution_count": 232,
   "metadata": {
    "scrolled": true
   },
   "outputs": [
    {
     "data": {
      "text/markdown": [
       "<font color=\"red\">Train set magnitudes correlation:"
      ],
      "text/plain": [
       "<IPython.core.display.Markdown object>"
      ]
     },
     "metadata": {},
     "output_type": "display_data"
    },
    {
     "name": "stdout",
     "output_type": "stream",
     "text": [
      "u_extinction    1.000000\n",
      "r_extinction    0.874587\n",
      "i_extinction    0.468865\n",
      "z_extinction    0.467516\n",
      "e_W2_mag        0.450207\n",
      "W2_mag          0.409649\n",
      "e_W1_mag        0.383279\n",
      "e_u_mag         0.382512\n",
      "u_mag           0.382275\n",
      "e_r_mag         0.373746\n",
      "W3_mag          0.352361\n",
      "W1_mag          0.334170\n",
      "e_i_mag         0.332802\n",
      "e_z_mag         0.322607\n",
      "AGN             0.320118\n",
      "i_mag           0.287191\n",
      "r_mag           0.271774\n",
      "z_mag           0.268943\n",
      "g_mag           0.254823\n",
      "best_z          0.175651\n",
      "W4_mag          0.160942\n",
      "e_rf12          0.151865\n",
      "e_g_mag         0.140119\n",
      "g_extinction    0.101858\n",
      "e_rf10         -0.068310\n",
      "rf10           -0.114020\n",
      "rf12           -0.116529\n",
      "DEC            -0.160639\n",
      "RA             -0.344489\n",
      "dtype: float64\n"
     ]
    },
    {
     "data": {
      "text/markdown": [
       "<font color=\"red\">Dev/Test set magnitudes correlation:"
      ],
      "text/plain": [
       "<IPython.core.display.Markdown object>"
      ]
     },
     "metadata": {},
     "output_type": "display_data"
    },
    {
     "name": "stdout",
     "output_type": "stream",
     "text": [
      "u_extinction    1.000000\n",
      "r_extinction    0.935174\n",
      "z_extinction    0.853424\n",
      "i_extinction    0.853179\n",
      "g_extinction    0.746316\n",
      "AGN             0.353638\n",
      "e_W2_mag        0.222977\n",
      "e_W1_mag        0.220060\n",
      "e_rf10          0.215652\n",
      "rf12            0.168790\n",
      "e_u_mag         0.166459\n",
      "rf10            0.147937\n",
      "e_r_mag         0.118125\n",
      "e_i_mag         0.102633\n",
      "best_z          0.095276\n",
      "W2_mag          0.090092\n",
      "u_mag           0.067403\n",
      "W1_mag          0.057260\n",
      "e_z_mag         0.048824\n",
      "e_g_mag         0.022949\n",
      "W3_mag          0.020749\n",
      "RA             -0.007218\n",
      "g_mag          -0.026130\n",
      "r_mag          -0.051860\n",
      "i_mag          -0.054341\n",
      "e_rf12         -0.070016\n",
      "z_mag          -0.075329\n",
      "W4_mag         -0.151383\n",
      "DEC            -0.235706\n",
      "dtype: float64\n"
     ]
    }
   ],
   "source": [
    "# Check correlation for extinction columns\n",
    "printmd('<font color=\"red\">Train set magnitudes correlation:')\n",
    "u_ext = df_train['u_extinction']\n",
    "similar_mags = df_train.corrwith(u_ext)\n",
    "similar_mags = similar_mags.dropna()\n",
    "print(similar_mags.sort_values(ascending=False))\n",
    "\n",
    "printmd('<font color=\"red\">Dev/Test set magnitudes correlation:')\n",
    "u_ext = df_dev_test['u_extinction']\n",
    "similar_mags = df_dev_test.corrwith(u_ext)\n",
    "similar_mags = similar_mags.dropna()\n",
    "print(similar_mags.sort_values(ascending=False))"
   ]
  },
  {
   "cell_type": "markdown",
   "metadata": {},
   "source": [
    "<font color='green'>Looks like i_extinction and z_extinction is not correlated with u_extinction <br>"
   ]
  },
  {
   "cell_type": "code",
   "execution_count": 237,
   "metadata": {
    "scrolled": true
   },
   "outputs": [
    {
     "name": "stderr",
     "output_type": "stream",
     "text": [
      "15516it [00:00, 160434.13it/s]\n",
      "0it [00:00, ?it/s]"
     ]
    },
    {
     "name": "stdout",
     "output_type": "stream",
     "text": [
      "Working on train set:\n"
     ]
    },
    {
     "name": "stderr",
     "output_type": "stream",
     "text": [
      "15516it [00:00, 158342.24it/s]\n",
      "15516it [00:00, 158486.08it/s]\n",
      "15516it [00:00, 193425.04it/s]\n",
      "15365it [00:00, 276533.08it/s]\n",
      "15365it [00:00, 278093.90it/s]\n",
      "15365it [00:00, 274580.78it/s]\n",
      "0it [00:00, ?it/s]"
     ]
    },
    {
     "name": "stdout",
     "output_type": "stream",
     "text": [
      "Working on dev/test set:\n"
     ]
    },
    {
     "name": "stderr",
     "output_type": "stream",
     "text": [
      "15365it [00:00, 303522.81it/s]\n"
     ]
    }
   ],
   "source": [
    "# predict missing values of r_mag, g_mag, u_mag, z_mag based on i_mag\n",
    "mags = ['r_mag', 'g_mag', 'u_mag', 'z_mag']\n",
    "print('Working on train set:')\n",
    "for col in mags:\n",
    "    x = df_train['i_mag']\n",
    "    y = df_train[col]\n",
    "    mask = ~np.isnan(x) & ~np.isnan(y)\n",
    "    slope, intercept, r_value, p_value, std_err = stats.linregress(x[mask],y[mask])\n",
    "    #print(col,':',non_nan_percent(df_sample,col))\n",
    "    for index,val in tqdm(df_train[col].items()):\n",
    "        if np.isnan(val) and not np.isnan(x[index]):\n",
    "            df_train.at[index,col]= predict(x[index])\n",
    "            \n",
    "print('Working on dev/test set:')\n",
    "for col in mags:\n",
    "    x = df_dev_test['i_mag']\n",
    "    y = df_dev_test[col]\n",
    "    mask = ~np.isnan(x) & ~np.isnan(y)\n",
    "    slope, intercept, r_value, p_value, std_err = stats.linregress(x[mask],y[mask])\n",
    "    #print(col,':',non_nan_percent(df_sample,col))\n",
    "    for index,val in tqdm(df_dev_test[col].items()):\n",
    "        if np.isnan(val) and not np.isnan(x[index]):\n",
    "            df_dev_test.at[index,col]= predict(x[index])"
   ]
  },
  {
   "cell_type": "code",
   "execution_count": 238,
   "metadata": {},
   "outputs": [
    {
     "name": "stderr",
     "output_type": "stream",
     "text": [
      "7216it [00:00, 72141.84it/s]"
     ]
    },
    {
     "name": "stdout",
     "output_type": "stream",
     "text": [
      "Working on train set:\n"
     ]
    },
    {
     "name": "stderr",
     "output_type": "stream",
     "text": [
      "15516it [00:00, 71865.19it/s]\n",
      "15516it [00:00, 70306.31it/s]\n",
      "8070it [00:00, 80692.19it/s]"
     ]
    },
    {
     "name": "stdout",
     "output_type": "stream",
     "text": [
      "Working on dev/test set:\n"
     ]
    },
    {
     "name": "stderr",
     "output_type": "stream",
     "text": [
      "15365it [00:00, 77178.28it/s]\n",
      "15365it [00:00, 68649.65it/s]\n"
     ]
    }
   ],
   "source": [
    "# predict missing values of W2, W3 mag based on W1 mag\n",
    "mags = ['W2_mag','W3_mag']\n",
    "\n",
    "print('Working on train set:')\n",
    "for col in mags:\n",
    "    x = df_train['W1_mag']\n",
    "    y = df_train[col]\n",
    "    mask = ~np.isnan(x) & ~np.isnan(y)\n",
    "    slope, intercept, r_value, p_value, std_err = stats.linregress(x[mask],y[mask])\n",
    "    #print(col,':',non_nan_percent(df_sample,col))\n",
    "    for index,val in tqdm(df_train[col].items()):\n",
    "        if np.isnan(val) and not np.isnan(x[index]):\n",
    "            df_train.at[index,col]= predict(x[index])\n",
    "            \n",
    "print('Working on dev/test set:')\n",
    "for col in mags:\n",
    "    x = df_dev_test['W1_mag']\n",
    "    y = df_dev_test[col]\n",
    "    mask = ~np.isnan(x) & ~np.isnan(y)\n",
    "    slope, intercept, r_value, p_value, std_err = stats.linregress(x[mask],y[mask])\n",
    "    #print(col,':',non_nan_percent(df_sample,col))\n",
    "    for index,val in tqdm(df_dev_test[col].items()):\n",
    "        if np.isnan(val) and not np.isnan(x[index]):\n",
    "            df_dev_test.at[index,col]= predict(x[index])        "
   ]
  },
  {
   "cell_type": "code",
   "execution_count": 155,
   "metadata": {},
   "outputs": [
    {
     "name": "stderr",
     "output_type": "stream",
     "text": [
      "7608it [00:00, 76078.44it/s]"
     ]
    },
    {
     "name": "stdout",
     "output_type": "stream",
     "text": [
      "Working on train set:\n"
     ]
    },
    {
     "name": "stderr",
     "output_type": "stream",
     "text": [
      "168577it [00:01, 98529.94it/s] \n",
      "168577it [00:01, 87843.94it/s]\n",
      "168577it [00:02, 83712.90it/s]\n",
      "168577it [00:01, 86684.02it/s]\n",
      "9459it [00:00, 94569.35it/s]"
     ]
    },
    {
     "name": "stdout",
     "output_type": "stream",
     "text": [
      "Working on dev/test set:\n"
     ]
    },
    {
     "name": "stderr",
     "output_type": "stream",
     "text": [
      "79702it [00:00, 106411.71it/s]\n",
      "79702it [00:00, 106605.31it/s]\n",
      "79702it [00:00, 105065.55it/s]\n",
      "79702it [00:00, 114176.89it/s]\n"
     ]
    }
   ],
   "source": [
    "# predict missing values of extinctions based on u_extinction\n",
    "mags = ['r_extinction','z_extinction','i_extinction','g_extinction']\n",
    "\n",
    "print('Working on train set:')\n",
    "for col in mags:\n",
    "    x = df_train['u_extinction']\n",
    "    y = df_train[col]\n",
    "    mask = ~np.isnan(x) & ~np.isnan(y)\n",
    "    slope, intercept, r_value, p_value, std_err = stats.linregress(x[mask],y[mask])\n",
    "    #print(col,':',non_nan_percent(df_sample,col))\n",
    "    for index,val in tqdm(df_train[col].items()):\n",
    "        if np.isnan(val) and not np.isnan(x[index]):\n",
    "            df_train.at[index,col]= predict(x[index])\n",
    "            \n",
    "print('Working on dev/test set:')\n",
    "for col in mags:\n",
    "    x = df_dev_test['u_extinction']\n",
    "    y = df_dev_test[col]\n",
    "    mask = ~np.isnan(x) & ~np.isnan(y)\n",
    "    slope, intercept, r_value, p_value, std_err = stats.linregress(x[mask],y[mask])\n",
    "    #print(col,':',non_nan_percent(df_sample,col))\n",
    "    for index,val in tqdm(df_dev_test[col].items()):\n",
    "        if np.isnan(val) and not np.isnan(x[index]):\n",
    "            df_dev_test.at[index,col]= predict(x[index])  "
   ]
  },
  {
   "cell_type": "markdown",
   "metadata": {},
   "source": [
    "<font color='green'> Now we fill in the remaining missing values in Magnitudes with median of train and dev/test sets."
   ]
  },
  {
   "cell_type": "code",
   "execution_count": 239,
   "metadata": {},
   "outputs": [
    {
     "name": "stdout",
     "output_type": "stream",
     "text": [
      "Working on Train set..\n",
      "Done\n",
      "Working on Dev/Test set..\n",
      "Done\n"
     ]
    }
   ],
   "source": [
    "mags = ['r_mag', 'i_mag', 'u_mag', 'z_mag', 'g_mag',\n",
    "        'W1_mag', 'W2_mag','W3_mag','W4_mag', \n",
    "        'u_extinction', 'r_extinction','z_extinction','i_extinction','g_extinction']\n",
    "print('Working on Train set..')\n",
    "for col in mags:\n",
    "    avg = df_train[col].median(axis=0)\n",
    "    df_train[col].replace(np.nan, avg, inplace=True)\n",
    "print('Done')    \n",
    "\n",
    "print('Working on Dev/Test set..')\n",
    "for col in mags:\n",
    "    avg = df_dev_test[col].median(axis=0)\n",
    "    df_dev_test[col].replace(np.nan, avg, inplace=True)\n",
    "print('Done')  "
   ]
  },
  {
   "cell_type": "code",
   "execution_count": 240,
   "metadata": {
    "scrolled": true
   },
   "outputs": [
    {
     "data": {
      "text/markdown": [
       "<font color=\"red\">Train set"
      ],
      "text/plain": [
       "<IPython.core.display.Markdown object>"
      ]
     },
     "metadata": {},
     "output_type": "display_data"
    },
    {
     "name": "stdout",
     "output_type": "stream",
     "text": [
      "('RA', '100.00 %')\n",
      "('DEC', '100.00 %')\n",
      "('AGN', '100.00 %')\n",
      "('i_mag', '100.00 %')\n",
      "('r_mag', '100.00 %')\n",
      "('z_mag', '100.00 %')\n",
      "('u_mag', '100.00 %')\n",
      "('g_mag', '100.00 %')\n",
      "('u_extinction', '100.00 %')\n",
      "('r_extinction', '100.00 %')\n",
      "('g_extinction', '100.00 %')\n",
      "('i_extinction', '100.00 %')\n",
      "('z_extinction', '100.00 %')\n",
      "('W1_mag', '100.00 %')\n",
      "('W2_mag', '100.00 %')\n",
      "('W4_mag', '100.00 %')\n",
      "('W3_mag', '100.00 %')\n",
      "('best_z', '91.50 %')\n",
      "('e_i_mag', '89.08 %')\n",
      "('e_z_mag', '89.06 %')\n",
      "('e_r_mag', '87.08 %')\n",
      "('e_u_mag', '86.98 %')\n",
      "('e_g_mag', '82.13 %')\n",
      "('e_rf10', '72.02 %')\n",
      "('rf10', '72.02 %')\n",
      "('e_rf12', '72.02 %')\n",
      "('rf12', '72.02 %')\n",
      "('e_W1_mag', '55.25 %')\n",
      "('e_W2_mag', '55.01 %')\n"
     ]
    },
    {
     "data": {
      "text/markdown": [
       "<font color=\"red\">Dev/Test set"
      ],
      "text/plain": [
       "<IPython.core.display.Markdown object>"
      ]
     },
     "metadata": {},
     "output_type": "display_data"
    },
    {
     "name": "stdout",
     "output_type": "stream",
     "text": [
      "('RA', '100.00 %')\n",
      "('DEC', '100.00 %')\n",
      "('i_mag', '100.00 %')\n",
      "('r_mag', '100.00 %')\n",
      "('z_mag', '100.00 %')\n",
      "('u_mag', '100.00 %')\n",
      "('g_mag', '100.00 %')\n",
      "('u_extinction', '100.00 %')\n",
      "('r_extinction', '100.00 %')\n",
      "('g_extinction', '100.00 %')\n",
      "('i_extinction', '100.00 %')\n",
      "('z_extinction', '100.00 %')\n",
      "('W1_mag', '100.00 %')\n",
      "('W2_mag', '100.00 %')\n",
      "('W4_mag', '100.00 %')\n",
      "('W3_mag', '100.00 %')\n",
      "('best_z', '96.96 %')\n",
      "('e_i_mag', '96.36 %')\n",
      "('e_z_mag', '96.34 %')\n",
      "('e_r_mag', '95.70 %')\n",
      "('e_u_mag', '95.67 %')\n",
      "('e_g_mag', '94.36 %')\n",
      "('e_rf10', '91.14 %')\n",
      "('rf10', '91.14 %')\n",
      "('e_rf12', '91.14 %')\n",
      "('rf12', '91.14 %')\n",
      "('e_W1_mag', '51.97 %')\n",
      "('e_W2_mag', '51.91 %')\n",
      "('AGN', '25.25 %')\n"
     ]
    }
   ],
   "source": [
    "# Check missing values again\n",
    "perc = non_nan_percent(df_train,df_train.columns)\n",
    "printmd('<font color=\"red\">Train set')\n",
    "print(*perc.items(),sep='\\n')\n",
    "\n",
    "perc = non_nan_percent(df_dev_test,df_dev_test.columns)\n",
    "printmd('<font color=\"red\">Dev/Test set')\n",
    "print(*perc.items(),sep='\\n')"
   ]
  },
  {
   "cell_type": "markdown",
   "metadata": {},
   "source": [
    "### Error columns\n",
    "<font color='green'> For __Error columns__, we fill in 0s for NaN."
   ]
  },
  {
   "cell_type": "code",
   "execution_count": 241,
   "metadata": {},
   "outputs": [],
   "source": [
    "err_mags = [col for col in df_train.columns.values if col.startswith('e') or 'error' in col]\n",
    "\n",
    "for col in err_mags:\n",
    "    df_train[col].replace(np.nan, 0.0, inplace=True)\n",
    "    df_dev_test[col].replace(np.nan, 0.0, inplace=True)"
   ]
  },
  {
   "cell_type": "markdown",
   "metadata": {},
   "source": [
    "### other columns\n",
    "<font color='green'> For the remaing columns, we fill in Medians for NaN."
   ]
  },
  {
   "cell_type": "code",
   "execution_count": 243,
   "metadata": {},
   "outputs": [
    {
     "name": "stdout",
     "output_type": "stream",
     "text": [
      "['RA', 'DEC', 'best_class', 'best_z', 'i_mag', 'r_mag', 'z_mag', 'u_mag', 'g_mag', 'e_i_mag', 'e_z_mag', 'e_r_mag', 'e_u_mag', 'u_extinction', 'r_extinction', 'e_g_mag', 'g_extinction', 'i_extinction', 'z_extinction', 'e_rf10', 'rf10', 'e_rf12', 'rf12', 'W1_mag', 'W2_mag', 'e_W1_mag', 'W4_mag', 'W3_mag', 'e_W2_mag']\n"
     ]
    }
   ],
   "source": [
    "print(useful_columns)"
   ]
  },
  {
   "cell_type": "code",
   "execution_count": 244,
   "metadata": {},
   "outputs": [
    {
     "name": "stdout",
     "output_type": "stream",
     "text": [
      "Working on Train set..\n",
      "Done\n",
      "Working on Dev/Test set..\n",
      "Done\n"
     ]
    }
   ],
   "source": [
    "others = ['best_z', 'rf10', 'rf12']\n",
    "print('Working on Train set..')\n",
    "for col in others:\n",
    "    avg = df_train[col].median(axis=0)\n",
    "    df_train[col].replace(np.nan, avg, inplace=True)\n",
    "print('Done')    \n",
    "\n",
    "print('Working on Dev/Test set..')\n",
    "for col in others:\n",
    "    avg = df_dev_test[col].median(axis=0)\n",
    "    df_dev_test[col].replace(np.nan, avg, inplace=True)\n",
    "print('Done') "
   ]
  },
  {
   "cell_type": "code",
   "execution_count": 245,
   "metadata": {
    "scrolled": true
   },
   "outputs": [
    {
     "data": {
      "text/markdown": [
       "<font color=\"red\">Train set"
      ],
      "text/plain": [
       "<IPython.core.display.Markdown object>"
      ]
     },
     "metadata": {},
     "output_type": "display_data"
    },
    {
     "name": "stdout",
     "output_type": "stream",
     "text": [
      "('RA', '100.00 %')\n",
      "('DEC', '100.00 %')\n",
      "('AGN', '100.00 %')\n",
      "('best_z', '100.00 %')\n",
      "('i_mag', '100.00 %')\n",
      "('r_mag', '100.00 %')\n",
      "('z_mag', '100.00 %')\n",
      "('u_mag', '100.00 %')\n",
      "('g_mag', '100.00 %')\n",
      "('e_i_mag', '100.00 %')\n",
      "('e_z_mag', '100.00 %')\n",
      "('e_r_mag', '100.00 %')\n",
      "('e_u_mag', '100.00 %')\n",
      "('u_extinction', '100.00 %')\n",
      "('r_extinction', '100.00 %')\n",
      "('e_g_mag', '100.00 %')\n",
      "('g_extinction', '100.00 %')\n",
      "('i_extinction', '100.00 %')\n",
      "('z_extinction', '100.00 %')\n",
      "('e_rf10', '100.00 %')\n",
      "('rf10', '100.00 %')\n",
      "('e_rf12', '100.00 %')\n",
      "('rf12', '100.00 %')\n",
      "('W1_mag', '100.00 %')\n",
      "('W2_mag', '100.00 %')\n",
      "('e_W1_mag', '100.00 %')\n",
      "('W4_mag', '100.00 %')\n",
      "('W3_mag', '100.00 %')\n",
      "('e_W2_mag', '100.00 %')\n"
     ]
    },
    {
     "data": {
      "text/markdown": [
       "<font color=\"red\">Dev/Test set"
      ],
      "text/plain": [
       "<IPython.core.display.Markdown object>"
      ]
     },
     "metadata": {},
     "output_type": "display_data"
    },
    {
     "name": "stdout",
     "output_type": "stream",
     "text": [
      "('RA', '100.00 %')\n",
      "('DEC', '100.00 %')\n",
      "('best_z', '100.00 %')\n",
      "('i_mag', '100.00 %')\n",
      "('r_mag', '100.00 %')\n",
      "('z_mag', '100.00 %')\n",
      "('u_mag', '100.00 %')\n",
      "('g_mag', '100.00 %')\n",
      "('e_i_mag', '100.00 %')\n",
      "('e_z_mag', '100.00 %')\n",
      "('e_r_mag', '100.00 %')\n",
      "('e_u_mag', '100.00 %')\n",
      "('u_extinction', '100.00 %')\n",
      "('r_extinction', '100.00 %')\n",
      "('e_g_mag', '100.00 %')\n",
      "('g_extinction', '100.00 %')\n",
      "('i_extinction', '100.00 %')\n",
      "('z_extinction', '100.00 %')\n",
      "('e_rf10', '100.00 %')\n",
      "('rf10', '100.00 %')\n",
      "('e_rf12', '100.00 %')\n",
      "('rf12', '100.00 %')\n",
      "('W1_mag', '100.00 %')\n",
      "('W2_mag', '100.00 %')\n",
      "('e_W1_mag', '100.00 %')\n",
      "('W4_mag', '100.00 %')\n",
      "('W3_mag', '100.00 %')\n",
      "('e_W2_mag', '100.00 %')\n",
      "('AGN', '25.25 %')\n"
     ]
    }
   ],
   "source": [
    "# Check missing values again\n",
    "perc = non_nan_percent(df_train,df_train.columns)\n",
    "printmd('<font color=\"red\">Train set')\n",
    "print(*perc.items(),sep='\\n')\n",
    "\n",
    "perc = non_nan_percent(df_dev_test,df_dev_test.columns)\n",
    "printmd('<font color=\"red\">Dev/Test set')\n",
    "print(*perc.items(),sep='\\n')"
   ]
  },
  {
   "cell_type": "markdown",
   "metadata": {},
   "source": [
    "## Save dataframes to files"
   ]
  },
  {
   "cell_type": "markdown",
   "metadata": {},
   "source": [
    "<font color='green'> Split dev/test set into dev and test sets"
   ]
  },
  {
   "cell_type": "code",
   "execution_count": 246,
   "metadata": {},
   "outputs": [],
   "source": [
    "# labeled data for dev set\n",
    "df_dev = df_dev_test[~np.isnan(df_dev_test['AGN'])]\n",
    "\n",
    "# unlabeled data for test set\n",
    "df_test = df_dev_test[np.isnan(df_dev_test['AGN'])]"
   ]
  },
  {
   "cell_type": "markdown",
   "metadata": {},
   "source": [
    "<font color='green'> Read train/dev/test reports; make sure that dev and test follows the same distribution. "
   ]
  },
  {
   "cell_type": "code",
   "execution_count": 247,
   "metadata": {
    "scrolled": true
   },
   "outputs": [
    {
     "data": {
      "application/vnd.jupyter.widget-view+json": {
       "model_id": "4368d67805664443b48f42f98ba6054e",
       "version_major": 2,
       "version_minor": 0
      },
      "text/plain": [
       "HBox(children=(FloatProgress(value=0.0, description='Summarize dataset', max=39.0, style=ProgressStyle(descrip…"
      ]
     },
     "metadata": {},
     "output_type": "display_data"
    },
    {
     "name": "stdout",
     "output_type": "stream",
     "text": [
      "\n"
     ]
    },
    {
     "data": {
      "application/vnd.jupyter.widget-view+json": {
       "model_id": "5dc53e89097246389bba610e9a61da25",
       "version_major": 2,
       "version_minor": 0
      },
      "text/plain": [
       "HBox(children=(FloatProgress(value=0.0, description='Generate report structure', max=1.0, style=ProgressStyle(…"
      ]
     },
     "metadata": {},
     "output_type": "display_data"
    },
    {
     "name": "stdout",
     "output_type": "stream",
     "text": [
      "\n"
     ]
    },
    {
     "data": {
      "application/vnd.jupyter.widget-view+json": {
       "model_id": "1678ad602af043ee8e7fb58dc4ca2707",
       "version_major": 2,
       "version_minor": 0
      },
      "text/plain": [
       "HBox(children=(FloatProgress(value=0.0, description='Render HTML', max=1.0, style=ProgressStyle(description_wi…"
      ]
     },
     "metadata": {},
     "output_type": "display_data"
    },
    {
     "name": "stdout",
     "output_type": "stream",
     "text": [
      "\n"
     ]
    },
    {
     "data": {
      "application/vnd.jupyter.widget-view+json": {
       "model_id": "4a4fbf71c77345edbfece20b9ccbd38a",
       "version_major": 2,
       "version_minor": 0
      },
      "text/plain": [
       "HBox(children=(FloatProgress(value=0.0, description='Export report to file', max=1.0, style=ProgressStyle(desc…"
      ]
     },
     "metadata": {},
     "output_type": "display_data"
    },
    {
     "name": "stdout",
     "output_type": "stream",
     "text": [
      "\n"
     ]
    },
    {
     "data": {
      "application/vnd.jupyter.widget-view+json": {
       "model_id": "d7433e3e5a21463a914964713544b1be",
       "version_major": 2,
       "version_minor": 0
      },
      "text/plain": [
       "HBox(children=(FloatProgress(value=0.0, description='Summarize dataset', max=39.0, style=ProgressStyle(descrip…"
      ]
     },
     "metadata": {},
     "output_type": "display_data"
    },
    {
     "name": "stdout",
     "output_type": "stream",
     "text": [
      "\n"
     ]
    },
    {
     "data": {
      "application/vnd.jupyter.widget-view+json": {
       "model_id": "ec1fc1a6bcf34b7689d10a56a28c3abe",
       "version_major": 2,
       "version_minor": 0
      },
      "text/plain": [
       "HBox(children=(FloatProgress(value=0.0, description='Generate report structure', max=1.0, style=ProgressStyle(…"
      ]
     },
     "metadata": {},
     "output_type": "display_data"
    },
    {
     "name": "stdout",
     "output_type": "stream",
     "text": [
      "\n"
     ]
    },
    {
     "data": {
      "application/vnd.jupyter.widget-view+json": {
       "model_id": "3b56a02674a14752964b6b3010b46304",
       "version_major": 2,
       "version_minor": 0
      },
      "text/plain": [
       "HBox(children=(FloatProgress(value=0.0, description='Render HTML', max=1.0, style=ProgressStyle(description_wi…"
      ]
     },
     "metadata": {},
     "output_type": "display_data"
    },
    {
     "name": "stdout",
     "output_type": "stream",
     "text": [
      "\n"
     ]
    },
    {
     "data": {
      "application/vnd.jupyter.widget-view+json": {
       "model_id": "c8de3f1a292f4d0fa2c91f0903fec0f3",
       "version_major": 2,
       "version_minor": 0
      },
      "text/plain": [
       "HBox(children=(FloatProgress(value=0.0, description='Export report to file', max=1.0, style=ProgressStyle(desc…"
      ]
     },
     "metadata": {},
     "output_type": "display_data"
    },
    {
     "name": "stdout",
     "output_type": "stream",
     "text": [
      "\n"
     ]
    },
    {
     "data": {
      "application/vnd.jupyter.widget-view+json": {
       "model_id": "229442a2041f4ed19ae2aeffb59e9f83",
       "version_major": 2,
       "version_minor": 0
      },
      "text/plain": [
       "HBox(children=(FloatProgress(value=0.0, description='Summarize dataset', max=39.0, style=ProgressStyle(descrip…"
      ]
     },
     "metadata": {},
     "output_type": "display_data"
    },
    {
     "name": "stdout",
     "output_type": "stream",
     "text": [
      "\n"
     ]
    },
    {
     "data": {
      "application/vnd.jupyter.widget-view+json": {
       "model_id": "5bdf6208cfd44066a8141ce6d7fe4962",
       "version_major": 2,
       "version_minor": 0
      },
      "text/plain": [
       "HBox(children=(FloatProgress(value=0.0, description='Generate report structure', max=1.0, style=ProgressStyle(…"
      ]
     },
     "metadata": {},
     "output_type": "display_data"
    },
    {
     "name": "stdout",
     "output_type": "stream",
     "text": [
      "\n"
     ]
    },
    {
     "data": {
      "application/vnd.jupyter.widget-view+json": {
       "model_id": "31d391a9497640629231c6e930b7b053",
       "version_major": 2,
       "version_minor": 0
      },
      "text/plain": [
       "HBox(children=(FloatProgress(value=0.0, description='Render HTML', max=1.0, style=ProgressStyle(description_wi…"
      ]
     },
     "metadata": {},
     "output_type": "display_data"
    },
    {
     "name": "stdout",
     "output_type": "stream",
     "text": [
      "\n"
     ]
    },
    {
     "data": {
      "application/vnd.jupyter.widget-view+json": {
       "model_id": "0ce77256ea884fd5b9a1f7c012244258",
       "version_major": 2,
       "version_minor": 0
      },
      "text/plain": [
       "HBox(children=(FloatProgress(value=0.0, description='Export report to file', max=1.0, style=ProgressStyle(desc…"
      ]
     },
     "metadata": {},
     "output_type": "display_data"
    },
    {
     "name": "stdout",
     "output_type": "stream",
     "text": [
      "\n"
     ]
    }
   ],
   "source": [
    "# Train set report\n",
    "profile = ProfileReport(df_train, title='AGN Classifier Training Set Report v1.1.0', minimal=True)\n",
    "profile.to_file(\"AGNCL_train_set_report_v1.1.0.html\")\n",
    "\n",
    "# Dev set report\n",
    "profile = ProfileReport(df_dev, title='AGN Classifier Validation Set Report v1.1.0', minimal=True)\n",
    "profile.to_file(\"AGNCL_dev_set_report_v1.1.0.html\")\n",
    "\n",
    "# Test set report\n",
    "profile = ProfileReport(df_test, title='AGN Classifier Testing Set Report v1.1.0', minimal=True)\n",
    "profile.to_file(\"AGNCL_test_set_report_v1.1.0.html\")"
   ]
  },
  {
   "cell_type": "markdown",
   "metadata": {},
   "source": [
    "## Data Issues:\n",
    "<font color='red'>\n",
    "<ul>\n",
    "  <li>error columns have a lot zero values </li>\n",
    "  <li>missing value is still a problem, leading peaks in the data distribution</li>\n",
    "</ul>"
   ]
  },
  {
   "cell_type": "markdown",
   "metadata": {},
   "source": [
    "<font color='green'> Save to files."
   ]
  },
  {
   "cell_type": "code",
   "execution_count": 248,
   "metadata": {},
   "outputs": [],
   "source": [
    "df_train.to_pickle('/data/blackbase/notebooks/physics/sicong/AGN_Classifier/version_v1.1.0/version_1/agncl_train.pkl')\n",
    "df_dev.to_pickle('/data/blackbase/notebooks/physics/sicong/AGN_Classifier/version_v1.1.0/version_1/agncl_dev.pkl')\n",
    "df_test.to_pickle('/data/blackbase/notebooks/physics/sicong/AGN_Classifier/version_v1.1.0/version_1/agncl_test.pkl')"
   ]
  },
  {
   "cell_type": "code",
   "execution_count": 249,
   "metadata": {},
   "outputs": [],
   "source": [
    "df_train = pd.read_pickle('/data/blackbase/notebooks/physics/sicong/AGN_Classifier/version_v1.1.0/version_1/agncl_train.pkl')\n",
    "df_dev = pd.read_pickle('/data/blackbase/notebooks/physics/sicong/AGN_Classifier/version_v1.1.0/version_1/agncl_dev.pkl')\n",
    "df_test = pd.read_pickle('/data/blackbase/notebooks/physics/sicong/AGN_Classifier/version_v1.1.0/version_1/agncl_test.pkl')"
   ]
  },
  {
   "cell_type": "code",
   "execution_count": 250,
   "metadata": {
    "scrolled": false
   },
   "outputs": [
    {
     "data": {
      "image/png": "[encoded data removed]",
      "text/plain": [
       "<Figure size 504x432 with 1 Axes>"
      ]
     },
     "metadata": {
      "needs_background": "light"
     },
     "output_type": "display_data"
    }
   ],
   "source": [
    "# check z distribution\n",
    "bins_red = np.linspace(0, 6, 30)\n",
    "\n",
    "plt.figure(figsize=(7,6))\n",
    "plt.hist(df_train['best_z'], bins=bins_red, alpha=0.5, label=\"train\", density=True, histtype='step',linewidth=2, log=False)\n",
    "plt.hist(df_dev['best_z'], bins=bins_red, alpha=0.5, label=\"validation\", density=True, histtype='step',linewidth=2, log=False)\n",
    "plt.hist(df_test['best_z'], bins=bins_red, alpha=0.5, label=\"test\", density=True, histtype='step',linewidth=2, log=False)\n",
    "\n",
    "plt.xlabel(\"Redshift\", size=14)\n",
    "plt.ylabel(\"probability density\", size=14)\n",
    "\n",
    "#plt.ylim([0, 2])\n",
    "\n",
    "#plt.title(\"Redshift distribution\")\n",
    "plt.legend(loc='upper right')\n",
    "\n",
    "plt.savefig('z_hist.pdf')"
   ]
  },
  {
   "cell_type": "code",
   "execution_count": 82,
   "metadata": {},
   "outputs": [
    {
     "data": {
      "image/png": "[encoded data removed]",
      "text/plain": [
       "<Figure size 504x432 with 1 Axes>"
      ]
     },
     "metadata": {
      "needs_background": "light"
     },
     "output_type": "display_data"
    }
   ],
   "source": [
    "# check r_mag distribution\n",
    "bins_red = np.linspace(0, 28, 30)\n",
    "\n",
    "plt.figure(figsize=(7,6))\n",
    "plt.hist(df_train['r_mag'], bins=20, alpha=0.5, label=\"train\", density=True, histtype='step',linewidth=2, log=False)\n",
    "plt.hist(df_dev['r_mag'], bins=bins_red, alpha=0.5, label=\"validation\", density=True, histtype='step',linewidth=2, log=False)\n",
    "plt.hist(df_test['r_mag'], bins=bins_red, alpha=0.5, label=\"test\", density=True, histtype='step',linewidth=2, log=False)\n",
    "\n",
    "plt.xlabel(\"r-band magnitude\", size=14)\n",
    "plt.ylabel(\"probability density\", size=14)\n",
    "\n",
    "#plt.ylim([0, 2])\n",
    "plt.xlim([15, 28])\n",
    "\n",
    "#plt.title(\"Redshift distribution\")\n",
    "plt.legend(loc='upper right')\n",
    "\n",
    "plt.savefig('r_mag_hist.pdf')"
   ]
  },
  {
   "cell_type": "markdown",
   "metadata": {},
   "source": [
    "## Tsne"
   ]
  },
  {
   "cell_type": "markdown",
   "metadata": {},
   "source": [
    "### Down sampling"
   ]
  },
  {
   "cell_type": "code",
   "execution_count": 252,
   "metadata": {},
   "outputs": [
    {
     "data": {
      "text/markdown": [
       "<font color=\"red\"> Training set:"
      ],
      "text/plain": [
       "<IPython.core.display.Markdown object>"
      ]
     },
     "metadata": {},
     "output_type": "display_data"
    },
    {
     "name": "stdout",
     "output_type": "stream",
     "text": [
      "50.28% are agns, 49.72% are non-agns\n"
     ]
    },
    {
     "data": {
      "text/markdown": [
       "<font color=\"red\"> Dev set:"
      ],
      "text/plain": [
       "<IPython.core.display.Markdown object>"
      ]
     },
     "metadata": {},
     "output_type": "display_data"
    },
    {
     "name": "stdout",
     "output_type": "stream",
     "text": [
      "48.87% are agns, 51.13% are non-agns\n"
     ]
    }
   ],
   "source": [
    "# percentage of agn in our sample\n",
    "printmd('<font color=\"red\"> Training set:')\n",
    "agn_perc = len(df_train[df_train['AGN'] == 1])/len(df_train['AGN'])\n",
    "non_agn_perc = len(df_train[df_train['AGN'] == 0])/len(df_train['AGN'])\n",
    "print(f'{100*agn_perc:.2f}% are agns, {100*non_agn_perc:.2f}% are non-agns')\n",
    "\n",
    "printmd('<font color=\"red\"> Dev set:')\n",
    "agn_perc = len(df_dev[df_dev['AGN'] == 1])/len(df_dev['AGN'])\n",
    "non_agn_perc = len(df_dev[df_dev['AGN'] == 0])/len(df_dev['AGN'])\n",
    "print(f'{100*agn_perc:.2f}% are agns, {100*non_agn_perc:.2f}% are non-agns')"
   ]
  },
  {
   "cell_type": "code",
   "execution_count": 253,
   "metadata": {},
   "outputs": [
    {
     "data": {
      "text/plain": [
       "7802"
      ]
     },
     "execution_count": 253,
     "metadata": {},
     "output_type": "execute_result"
    }
   ],
   "source": [
    "len(df_train[df_train['AGN'] == 1])"
   ]
  },
  {
   "cell_type": "code",
   "execution_count": 254,
   "metadata": {},
   "outputs": [
    {
     "name": "stdout",
     "output_type": "stream",
     "text": [
      "{0.0, 1.0}\n",
      "['best_z', 'i_mag', 'r_mag', 'z_mag', 'u_mag', 'g_mag', 'e_i_mag', 'e_z_mag', 'e_r_mag', 'e_u_mag', 'u_extinction', 'r_extinction', 'e_g_mag', 'g_extinction', 'i_extinction', 'z_extinction', 'e_rf10', 'rf10', 'e_rf12', 'rf12', 'W1_mag', 'W2_mag', 'e_W1_mag', 'W4_mag', 'W3_mag', 'e_W2_mag']\n"
     ]
    }
   ],
   "source": [
    "# select features\n",
    "features = df_train.columns.values.tolist()\n",
    "features.remove('AGN')\n",
    "features.remove('RA')\n",
    "features.remove('DEC')\n",
    "\n",
    "targets = set(df_train[\"AGN\"].unique())\n",
    "print(targets,features,sep='\\n')"
   ]
  },
  {
   "cell_type": "markdown",
   "metadata": {},
   "source": [
    "<font color='green'> Resample points so that we have approximately the same number of each morphological class for the t-sne plot"
   ]
  },
  {
   "cell_type": "code",
   "execution_count": 255,
   "metadata": {},
   "outputs": [
    {
     "name": "stdout",
     "output_type": "stream",
     "text": [
      "0.0 7714 (7714, 29)\n",
      "1.0 7802 (7802, 29)\n",
      "(12000, 26)\n"
     ]
    }
   ],
   "source": [
    "rows_by_class = {target: df_train[df_train[\"AGN\"] == target] for target in targets}\n",
    "to_concat = []\n",
    "for target, target_df in rows_by_class.items():\n",
    "    print(target, len(target_df), target_df.shape)\n",
    "    \n",
    "    nan_counts = np.isnan(target_df[features].values).sum(axis=1)\n",
    "    sort_indices = np.argsort(nan_counts)\n",
    "    least_nan = target_df.iloc[sort_indices].iloc[:6000]  # number of sources to select from each category\n",
    "    to_concat.append(least_nan)\n",
    "\n",
    "tmp = pd.concat(to_concat)\n",
    "examples = tmp[features].values\n",
    "best_class = tmp[\"AGN\"].values\n",
    "\n",
    "# shuffle points again; this is just for visualization so points are not drawn on top of each other\n",
    "shuffle_indices = np.random.permutation(len(examples))\n",
    "examples = examples[shuffle_indices]\n",
    "best_class = best_class[shuffle_indices]\n",
    "print(examples.shape)"
   ]
  },
  {
   "cell_type": "markdown",
   "metadata": {},
   "source": [
    "<font color='green'>Normalize data to standard units."
   ]
  },
  {
   "cell_type": "code",
   "execution_count": 257,
   "metadata": {},
   "outputs": [],
   "source": [
    "examples = (examples - examples.mean(axis=0)) / (examples.std(axis=0))"
   ]
  },
  {
   "cell_type": "markdown",
   "metadata": {},
   "source": [
    "<font color='green'>Apply tsne"
   ]
  },
  {
   "cell_type": "code",
   "execution_count": 259,
   "metadata": {},
   "outputs": [
    {
     "name": "stdout",
     "output_type": "stream",
     "text": [
      "[[ 39.458088    65.88211   ]\n",
      " [-36.594967   -42.80628   ]\n",
      " [-52.306374   -24.98285   ]\n",
      " ...\n",
      " [  0.14129698 -35.887386  ]\n",
      " [-61.271782    20.781212  ]\n",
      " [ 27.777357    13.383024  ]]\n",
      "CPU times: user 1h 31min 30s, sys: 5.21 s, total: 1h 31min 35s\n",
      "Wall time: 3min 17s\n"
     ]
    }
   ],
   "source": [
    "%%time\n",
    "# perplexity = 30\n",
    "\n",
    "X_embedded = TSNE(n_components=2, perplexity=30).fit_transform(examples)\n",
    "print(X_embedded)"
   ]
  },
  {
   "cell_type": "code",
   "execution_count": 267,
   "metadata": {},
   "outputs": [],
   "source": [
    "best_class = np.where(best_class == 0., \"non-AGN\", \"AGN\")\n",
    "embed_df = pd.DataFrame(X_embedded, columns=['Dimension 1', 'Dimension 2'])\n",
    "embed_df['labels'] = best_class"
   ]
  },
  {
   "cell_type": "code",
   "execution_count": 268,
   "metadata": {},
   "outputs": [
    {
     "data": {
      "image/png": "[encoded data removed]",
      "text/plain": [
       "<Figure size 1152x504 with 1 Axes>"
      ]
     },
     "metadata": {
      "needs_background": "light"
     },
     "output_type": "display_data"
    }
   ],
   "source": [
    "plt.figure(figsize=(16,7))\n",
    "ax1 = plt.subplot(1, 2, 1)\n",
    "hue_order = ['AGN', 'non-AGN']\n",
    "sns.scatterplot(\n",
    "    x=\"Dimension 1\", y=\"Dimension 2\",\n",
    "    hue=\"labels\",\n",
    "    hue_order=hue_order,\n",
    "    palette=[\"orange\", 'rebeccapurple'],\n",
    "    data=embed_df,\n",
    "    legend=\"full\",\n",
    "    alpha=0.3,\n",
    "    ax=ax1\n",
    ")\n",
    "ax1.legend_.set_title(None)\n",
    "\n",
    "\n",
    "# ax2 = plt.subplot(1, 2, 2)\n",
    "# hue_order = ['Type-1', 'Type-2']\n",
    "# sns.scatterplot(\n",
    "#     x=\"Dimension 1\", y=\"Dimension 2\",\n",
    "#     hue=\"labels\",\n",
    "#     hue_order=hue_order,\n",
    "#     palette=[\"orange\", 'rebeccapurple'],\n",
    "#     data=agn_df,\n",
    "#     legend=\"full\",\n",
    "#     alpha=0.3,\n",
    "#     ax=ax2\n",
    "# )\n",
    "# ax2.legend_.set_title(None)\n",
    "plt.savefig('tsne.pdf',dpi=300)"
   ]
  },
  {
   "cell_type": "code",
   "execution_count": null,
   "metadata": {},
   "outputs": [],
   "source": []
  }
 ],
 "metadata": {
  "kernelspec": {
   "display_name": "Python 3.6.5 64-bit",
   "language": "python",
   "name": "python36564bit93b81c14a79841988c96843b1cebe27c"
  },
  "language_info": {
   "codemirror_mode": {
    "name": "ipython",
    "version": 3
   },
   "file_extension": ".py",
   "mimetype": "text/x-python",
   "name": "python",
   "nbconvert_exporter": "python",
   "pygments_lexer": "ipython3",
   "version": "3.6.5"
  }
 },
 "nbformat": 4,
 "nbformat_minor": 4
}
